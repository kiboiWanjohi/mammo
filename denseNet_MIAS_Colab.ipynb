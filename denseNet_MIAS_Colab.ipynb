{
  "cells": [
    {
      "cell_type": "code",
      "source": [
        "from google.colab import drive\n",
        "drive.mount('/content/drive')"
      ],
      "metadata": {
        "id": "u6XNlztDrKUo",
        "outputId": "b3146973-f5e9-4398-a5cb-2e5c5b794cb0",
        "colab": {
          "base_uri": "https://localhost:8080/"
        }
      },
      "id": "u6XNlztDrKUo",
      "execution_count": 1,
      "outputs": [
        {
          "output_type": "stream",
          "name": "stdout",
          "text": [
            "Mounted at /content/drive\n"
          ]
        }
      ]
    },
    {
      "cell_type": "code",
      "source": [
        "mkdir ~/.kaggle"
      ],
      "metadata": {
        "id": "Zc8guEkUURKV"
      },
      "id": "Zc8guEkUURKV",
      "execution_count": 2,
      "outputs": []
    },
    {
      "cell_type": "code",
      "source": [
        "! cp /content/drive/MyDrive/Stat_Docs/kaggle.json ~/.kaggle/kaggle.json"
      ],
      "metadata": {
        "id": "NZkUTor3URVI"
      },
      "id": "NZkUTor3URVI",
      "execution_count": 3,
      "outputs": []
    },
    {
      "cell_type": "code",
      "source": [
        "! chmod 600 ~/.kaggle/kaggle.json"
      ],
      "metadata": {
        "id": "hawmLV5zVFvF"
      },
      "id": "hawmLV5zVFvF",
      "execution_count": 4,
      "outputs": []
    },
    {
      "cell_type": "code",
      "source": [
        "! kaggle datasets download kmader/mias-mammography"
      ],
      "metadata": {
        "id": "PGJyj58zURaP",
        "outputId": "2a4144bf-653a-4795-d34a-37254c57400e",
        "colab": {
          "base_uri": "https://localhost:8080/"
        }
      },
      "id": "PGJyj58zURaP",
      "execution_count": 5,
      "outputs": [
        {
          "output_type": "stream",
          "name": "stdout",
          "text": [
            "Dataset URL: https://www.kaggle.com/datasets/kmader/mias-mammography\n",
            "License(s): other\n",
            "Downloading mias-mammography.zip to /content\n",
            " 98% 306M/312M [00:00<00:00, 581MB/s]\n",
            "100% 312M/312M [00:00<00:00, 633MB/s]\n"
          ]
        }
      ]
    },
    {
      "cell_type": "code",
      "source": [
        "! unzip /content/mias-mammography.zip -d /content/mias-mammography > /dev/null"
      ],
      "metadata": {
        "id": "HoD0q4QNUReE",
        "outputId": "243ea40b-63b0-48bc-fff0-fcadb7bf2619",
        "colab": {
          "base_uri": "https://localhost:8080/"
        }
      },
      "id": "HoD0q4QNUReE",
      "execution_count": 6,
      "outputs": [
        {
          "output_type": "stream",
          "name": "stdout",
          "text": [
            "Archive:  /content/mias-mammography.zip\n",
            "  inflating: /content/mias-mammography/Info.txt  \n",
            "  inflating: /content/mias-mammography/all-mias.tar.gz  \n",
            "  inflating: /content/mias-mammography/all-mias/Info.txt  \n",
            "  inflating: /content/mias-mammography/all-mias/Licence.txt  \n",
            "  inflating: /content/mias-mammography/all-mias/README  \n",
            "  inflating: /content/mias-mammography/all-mias/mdb001.pgm  \n",
            "  inflating: /content/mias-mammography/all-mias/mdb002.pgm  \n",
            "  inflating: /content/mias-mammography/all-mias/mdb003.pgm  \n",
            "  inflating: /content/mias-mammography/all-mias/mdb004.pgm  \n",
            "  inflating: /content/mias-mammography/all-mias/mdb005.pgm  \n",
            "  inflating: /content/mias-mammography/all-mias/mdb006.pgm  \n",
            "  inflating: /content/mias-mammography/all-mias/mdb007.pgm  \n",
            "  inflating: /content/mias-mammography/all-mias/mdb008.pgm  \n",
            "  inflating: /content/mias-mammography/all-mias/mdb009.pgm  \n",
            "  inflating: /content/mias-mammography/all-mias/mdb010.pgm  \n",
            "  inflating: /content/mias-mammography/all-mias/mdb011.pgm  \n",
            "  inflating: /content/mias-mammography/all-mias/mdb012.pgm  \n",
            "  inflating: /content/mias-mammography/all-mias/mdb013.pgm  \n",
            "  inflating: /content/mias-mammography/all-mias/mdb014.pgm  \n",
            "  inflating: /content/mias-mammography/all-mias/mdb015.pgm  \n",
            "  inflating: /content/mias-mammography/all-mias/mdb016.pgm  \n",
            "  inflating: /content/mias-mammography/all-mias/mdb017.pgm  \n",
            "  inflating: /content/mias-mammography/all-mias/mdb018.pgm  \n",
            "  inflating: /content/mias-mammography/all-mias/mdb019.pgm  \n",
            "  inflating: /content/mias-mammography/all-mias/mdb020.pgm  \n",
            "  inflating: /content/mias-mammography/all-mias/mdb021.pgm  \n",
            "  inflating: /content/mias-mammography/all-mias/mdb022.pgm  \n",
            "  inflating: /content/mias-mammography/all-mias/mdb023.pgm  \n",
            "  inflating: /content/mias-mammography/all-mias/mdb024.pgm  \n",
            "  inflating: /content/mias-mammography/all-mias/mdb025.pgm  \n",
            "  inflating: /content/mias-mammography/all-mias/mdb026.pgm  \n",
            "  inflating: /content/mias-mammography/all-mias/mdb027.pgm  \n",
            "  inflating: /content/mias-mammography/all-mias/mdb028.pgm  \n",
            "  inflating: /content/mias-mammography/all-mias/mdb029.pgm  \n",
            "  inflating: /content/mias-mammography/all-mias/mdb030.pgm  \n",
            "  inflating: /content/mias-mammography/all-mias/mdb031.pgm  \n",
            "  inflating: /content/mias-mammography/all-mias/mdb032.pgm  \n",
            "  inflating: /content/mias-mammography/all-mias/mdb033.pgm  \n",
            "  inflating: /content/mias-mammography/all-mias/mdb034.pgm  \n",
            "  inflating: /content/mias-mammography/all-mias/mdb035.pgm  \n",
            "  inflating: /content/mias-mammography/all-mias/mdb036.pgm  \n",
            "  inflating: /content/mias-mammography/all-mias/mdb037.pgm  \n",
            "  inflating: /content/mias-mammography/all-mias/mdb038.pgm  \n",
            "  inflating: /content/mias-mammography/all-mias/mdb039.pgm  \n",
            "  inflating: /content/mias-mammography/all-mias/mdb040.pgm  \n",
            "  inflating: /content/mias-mammography/all-mias/mdb041.pgm  \n",
            "  inflating: /content/mias-mammography/all-mias/mdb042.pgm  \n",
            "  inflating: /content/mias-mammography/all-mias/mdb043.pgm  \n",
            "  inflating: /content/mias-mammography/all-mias/mdb044.pgm  \n",
            "  inflating: /content/mias-mammography/all-mias/mdb045.pgm  \n",
            "  inflating: /content/mias-mammography/all-mias/mdb046.pgm  \n",
            "  inflating: /content/mias-mammography/all-mias/mdb047.pgm  \n",
            "  inflating: /content/mias-mammography/all-mias/mdb048.pgm  \n",
            "  inflating: /content/mias-mammography/all-mias/mdb049.pgm  \n",
            "  inflating: /content/mias-mammography/all-mias/mdb050.pgm  \n",
            "  inflating: /content/mias-mammography/all-mias/mdb051.pgm  \n",
            "  inflating: /content/mias-mammography/all-mias/mdb052.pgm  \n",
            "  inflating: /content/mias-mammography/all-mias/mdb053.pgm  \n",
            "  inflating: /content/mias-mammography/all-mias/mdb054.pgm  \n",
            "  inflating: /content/mias-mammography/all-mias/mdb055.pgm  \n",
            "  inflating: /content/mias-mammography/all-mias/mdb056.pgm  \n",
            "  inflating: /content/mias-mammography/all-mias/mdb057.pgm  \n",
            "  inflating: /content/mias-mammography/all-mias/mdb058.pgm  \n",
            "  inflating: /content/mias-mammography/all-mias/mdb059.pgm  \n",
            "  inflating: /content/mias-mammography/all-mias/mdb060.pgm  \n",
            "  inflating: /content/mias-mammography/all-mias/mdb061.pgm  \n",
            "  inflating: /content/mias-mammography/all-mias/mdb062.pgm  \n",
            "  inflating: /content/mias-mammography/all-mias/mdb063.pgm  \n",
            "  inflating: /content/mias-mammography/all-mias/mdb064.pgm  \n",
            "  inflating: /content/mias-mammography/all-mias/mdb065.pgm  \n",
            "  inflating: /content/mias-mammography/all-mias/mdb066.pgm  \n",
            "  inflating: /content/mias-mammography/all-mias/mdb067.pgm  \n",
            "  inflating: /content/mias-mammography/all-mias/mdb068.pgm  \n",
            "  inflating: /content/mias-mammography/all-mias/mdb069.pgm  \n",
            "  inflating: /content/mias-mammography/all-mias/mdb070.pgm  \n",
            "  inflating: /content/mias-mammography/all-mias/mdb071.pgm  \n",
            "  inflating: /content/mias-mammography/all-mias/mdb072.pgm  \n",
            "  inflating: /content/mias-mammography/all-mias/mdb073.pgm  \n",
            "  inflating: /content/mias-mammography/all-mias/mdb074.pgm  \n",
            "  inflating: /content/mias-mammography/all-mias/mdb075.pgm  \n",
            "  inflating: /content/mias-mammography/all-mias/mdb076.pgm  \n",
            "  inflating: /content/mias-mammography/all-mias/mdb077.pgm  \n",
            "  inflating: /content/mias-mammography/all-mias/mdb078.pgm  \n",
            "  inflating: /content/mias-mammography/all-mias/mdb079.pgm  \n",
            "  inflating: /content/mias-mammography/all-mias/mdb080.pgm  \n",
            "  inflating: /content/mias-mammography/all-mias/mdb081.pgm  \n",
            "  inflating: /content/mias-mammography/all-mias/mdb082.pgm  \n",
            "  inflating: /content/mias-mammography/all-mias/mdb083.pgm  \n",
            "  inflating: /content/mias-mammography/all-mias/mdb084.pgm  \n",
            "  inflating: /content/mias-mammography/all-mias/mdb085.pgm  \n",
            "  inflating: /content/mias-mammography/all-mias/mdb086.pgm  \n",
            "  inflating: /content/mias-mammography/all-mias/mdb087.pgm  \n",
            "  inflating: /content/mias-mammography/all-mias/mdb088.pgm  \n",
            "  inflating: /content/mias-mammography/all-mias/mdb089.pgm  \n",
            "  inflating: /content/mias-mammography/all-mias/mdb090.pgm  \n",
            "  inflating: /content/mias-mammography/all-mias/mdb091.pgm  \n",
            "  inflating: /content/mias-mammography/all-mias/mdb092.pgm  \n",
            "  inflating: /content/mias-mammography/all-mias/mdb093.pgm  \n",
            "  inflating: /content/mias-mammography/all-mias/mdb094.pgm  \n",
            "  inflating: /content/mias-mammography/all-mias/mdb095.pgm  \n",
            "  inflating: /content/mias-mammography/all-mias/mdb096.pgm  \n",
            "  inflating: /content/mias-mammography/all-mias/mdb097.pgm  \n",
            "  inflating: /content/mias-mammography/all-mias/mdb098.pgm  \n",
            "  inflating: /content/mias-mammography/all-mias/mdb099.pgm  \n",
            "  inflating: /content/mias-mammography/all-mias/mdb100.pgm  \n",
            "  inflating: /content/mias-mammography/all-mias/mdb101.pgm  \n",
            "  inflating: /content/mias-mammography/all-mias/mdb102.pgm  \n",
            "  inflating: /content/mias-mammography/all-mias/mdb103.pgm  \n",
            "  inflating: /content/mias-mammography/all-mias/mdb104.pgm  \n",
            "  inflating: /content/mias-mammography/all-mias/mdb105.pgm  \n",
            "  inflating: /content/mias-mammography/all-mias/mdb106.pgm  \n",
            "  inflating: /content/mias-mammography/all-mias/mdb107.pgm  \n",
            "  inflating: /content/mias-mammography/all-mias/mdb108.pgm  \n",
            "  inflating: /content/mias-mammography/all-mias/mdb109.pgm  \n",
            "  inflating: /content/mias-mammography/all-mias/mdb110.pgm  \n",
            "  inflating: /content/mias-mammography/all-mias/mdb111.pgm  \n",
            "  inflating: /content/mias-mammography/all-mias/mdb112.pgm  \n",
            "  inflating: /content/mias-mammography/all-mias/mdb113.pgm  \n",
            "  inflating: /content/mias-mammography/all-mias/mdb114.pgm  \n",
            "  inflating: /content/mias-mammography/all-mias/mdb115.pgm  \n",
            "  inflating: /content/mias-mammography/all-mias/mdb116.pgm  \n",
            "  inflating: /content/mias-mammography/all-mias/mdb117.pgm  \n",
            "  inflating: /content/mias-mammography/all-mias/mdb118.pgm  \n",
            "  inflating: /content/mias-mammography/all-mias/mdb119.pgm  \n",
            "  inflating: /content/mias-mammography/all-mias/mdb120.pgm  \n",
            "  inflating: /content/mias-mammography/all-mias/mdb121.pgm  \n",
            "  inflating: /content/mias-mammography/all-mias/mdb122.pgm  \n",
            "  inflating: /content/mias-mammography/all-mias/mdb123.pgm  \n",
            "  inflating: /content/mias-mammography/all-mias/mdb124.pgm  \n",
            "  inflating: /content/mias-mammography/all-mias/mdb125.pgm  \n",
            "  inflating: /content/mias-mammography/all-mias/mdb126.pgm  \n",
            "  inflating: /content/mias-mammography/all-mias/mdb127.pgm  \n",
            "  inflating: /content/mias-mammography/all-mias/mdb128.pgm  \n",
            "  inflating: /content/mias-mammography/all-mias/mdb129.pgm  \n",
            "  inflating: /content/mias-mammography/all-mias/mdb130.pgm  \n",
            "  inflating: /content/mias-mammography/all-mias/mdb131.pgm  \n",
            "  inflating: /content/mias-mammography/all-mias/mdb132.pgm  \n",
            "  inflating: /content/mias-mammography/all-mias/mdb133.pgm  \n",
            "  inflating: /content/mias-mammography/all-mias/mdb134.pgm  \n",
            "  inflating: /content/mias-mammography/all-mias/mdb135.pgm  \n",
            "  inflating: /content/mias-mammography/all-mias/mdb136.pgm  \n",
            "  inflating: /content/mias-mammography/all-mias/mdb137.pgm  \n",
            "  inflating: /content/mias-mammography/all-mias/mdb138.pgm  \n",
            "  inflating: /content/mias-mammography/all-mias/mdb139.pgm  \n",
            "  inflating: /content/mias-mammography/all-mias/mdb140.pgm  \n",
            "  inflating: /content/mias-mammography/all-mias/mdb141.pgm  \n",
            "  inflating: /content/mias-mammography/all-mias/mdb142.pgm  \n",
            "  inflating: /content/mias-mammography/all-mias/mdb143.pgm  \n",
            "  inflating: /content/mias-mammography/all-mias/mdb144.pgm  \n",
            "  inflating: /content/mias-mammography/all-mias/mdb145.pgm  \n",
            "  inflating: /content/mias-mammography/all-mias/mdb146.pgm  \n",
            "  inflating: /content/mias-mammography/all-mias/mdb147.pgm  \n",
            "  inflating: /content/mias-mammography/all-mias/mdb148.pgm  \n",
            "  inflating: /content/mias-mammography/all-mias/mdb149.pgm  \n",
            "  inflating: /content/mias-mammography/all-mias/mdb150.pgm  \n",
            "  inflating: /content/mias-mammography/all-mias/mdb151.pgm  \n",
            "  inflating: /content/mias-mammography/all-mias/mdb152.pgm  \n",
            "  inflating: /content/mias-mammography/all-mias/mdb153.pgm  \n",
            "  inflating: /content/mias-mammography/all-mias/mdb154.pgm  \n",
            "  inflating: /content/mias-mammography/all-mias/mdb155.pgm  \n",
            "  inflating: /content/mias-mammography/all-mias/mdb156.pgm  \n",
            "  inflating: /content/mias-mammography/all-mias/mdb157.pgm  \n",
            "  inflating: /content/mias-mammography/all-mias/mdb158.pgm  \n",
            "  inflating: /content/mias-mammography/all-mias/mdb159.pgm  \n",
            "  inflating: /content/mias-mammography/all-mias/mdb160.pgm  \n",
            "  inflating: /content/mias-mammography/all-mias/mdb161.pgm  \n",
            "  inflating: /content/mias-mammography/all-mias/mdb162.pgm  \n",
            "  inflating: /content/mias-mammography/all-mias/mdb163.pgm  \n",
            "  inflating: /content/mias-mammography/all-mias/mdb164.pgm  \n",
            "  inflating: /content/mias-mammography/all-mias/mdb165.pgm  \n",
            "  inflating: /content/mias-mammography/all-mias/mdb166.pgm  \n",
            "  inflating: /content/mias-mammography/all-mias/mdb167.pgm  \n",
            "  inflating: /content/mias-mammography/all-mias/mdb168.pgm  \n",
            "  inflating: /content/mias-mammography/all-mias/mdb169.pgm  \n",
            "  inflating: /content/mias-mammography/all-mias/mdb170.pgm  \n",
            "  inflating: /content/mias-mammography/all-mias/mdb171.pgm  \n",
            "  inflating: /content/mias-mammography/all-mias/mdb172.pgm  \n",
            "  inflating: /content/mias-mammography/all-mias/mdb173.pgm  \n",
            "  inflating: /content/mias-mammography/all-mias/mdb174.pgm  \n",
            "  inflating: /content/mias-mammography/all-mias/mdb175.pgm  \n",
            "  inflating: /content/mias-mammography/all-mias/mdb176.pgm  \n",
            "  inflating: /content/mias-mammography/all-mias/mdb177.pgm  \n",
            "  inflating: /content/mias-mammography/all-mias/mdb178.pgm  \n",
            "  inflating: /content/mias-mammography/all-mias/mdb179.pgm  \n",
            "  inflating: /content/mias-mammography/all-mias/mdb180.pgm  \n",
            "  inflating: /content/mias-mammography/all-mias/mdb181.pgm  \n",
            "  inflating: /content/mias-mammography/all-mias/mdb182.pgm  \n",
            "  inflating: /content/mias-mammography/all-mias/mdb183.pgm  \n",
            "  inflating: /content/mias-mammography/all-mias/mdb184.pgm  \n",
            "  inflating: /content/mias-mammography/all-mias/mdb185.pgm  \n",
            "  inflating: /content/mias-mammography/all-mias/mdb186.pgm  \n",
            "  inflating: /content/mias-mammography/all-mias/mdb187.pgm  \n",
            "  inflating: /content/mias-mammography/all-mias/mdb188.pgm  \n",
            "  inflating: /content/mias-mammography/all-mias/mdb189.pgm  \n",
            "  inflating: /content/mias-mammography/all-mias/mdb190.pgm  \n",
            "  inflating: /content/mias-mammography/all-mias/mdb191.pgm  \n",
            "  inflating: /content/mias-mammography/all-mias/mdb192.pgm  \n",
            "  inflating: /content/mias-mammography/all-mias/mdb193.pgm  \n",
            "  inflating: /content/mias-mammography/all-mias/mdb194.pgm  \n",
            "  inflating: /content/mias-mammography/all-mias/mdb195.pgm  \n",
            "  inflating: /content/mias-mammography/all-mias/mdb196.pgm  \n",
            "  inflating: /content/mias-mammography/all-mias/mdb197.pgm  \n",
            "  inflating: /content/mias-mammography/all-mias/mdb198.pgm  \n",
            "  inflating: /content/mias-mammography/all-mias/mdb199.pgm  \n",
            "  inflating: /content/mias-mammography/all-mias/mdb200.pgm  \n",
            "  inflating: /content/mias-mammography/all-mias/mdb201.pgm  \n",
            "  inflating: /content/mias-mammography/all-mias/mdb202.pgm  \n",
            "  inflating: /content/mias-mammography/all-mias/mdb203.pgm  \n",
            "  inflating: /content/mias-mammography/all-mias/mdb204.pgm  \n",
            "  inflating: /content/mias-mammography/all-mias/mdb205.pgm  \n",
            "  inflating: /content/mias-mammography/all-mias/mdb206.pgm  \n",
            "  inflating: /content/mias-mammography/all-mias/mdb207.pgm  \n",
            "  inflating: /content/mias-mammography/all-mias/mdb208.pgm  \n",
            "  inflating: /content/mias-mammography/all-mias/mdb209.pgm  \n",
            "  inflating: /content/mias-mammography/all-mias/mdb210.pgm  \n",
            "  inflating: /content/mias-mammography/all-mias/mdb211.pgm  \n",
            "  inflating: /content/mias-mammography/all-mias/mdb212.pgm  \n",
            "  inflating: /content/mias-mammography/all-mias/mdb213.pgm  \n",
            "  inflating: /content/mias-mammography/all-mias/mdb214.pgm  \n",
            "  inflating: /content/mias-mammography/all-mias/mdb215.pgm  \n",
            "  inflating: /content/mias-mammography/all-mias/mdb216.pgm  \n",
            "  inflating: /content/mias-mammography/all-mias/mdb217.pgm  \n",
            "  inflating: /content/mias-mammography/all-mias/mdb218.pgm  \n",
            "  inflating: /content/mias-mammography/all-mias/mdb219.pgm  \n",
            "  inflating: /content/mias-mammography/all-mias/mdb220.pgm  \n",
            "  inflating: /content/mias-mammography/all-mias/mdb221.pgm  \n",
            "  inflating: /content/mias-mammography/all-mias/mdb222.pgm  \n",
            "  inflating: /content/mias-mammography/all-mias/mdb223.pgm  \n",
            "  inflating: /content/mias-mammography/all-mias/mdb224.pgm  \n",
            "  inflating: /content/mias-mammography/all-mias/mdb225.pgm  \n",
            "  inflating: /content/mias-mammography/all-mias/mdb226.pgm  \n",
            "  inflating: /content/mias-mammography/all-mias/mdb227.pgm  \n",
            "  inflating: /content/mias-mammography/all-mias/mdb228.pgm  \n",
            "  inflating: /content/mias-mammography/all-mias/mdb229.pgm  \n",
            "  inflating: /content/mias-mammography/all-mias/mdb230.pgm  \n",
            "  inflating: /content/mias-mammography/all-mias/mdb231.pgm  \n",
            "  inflating: /content/mias-mammography/all-mias/mdb232.pgm  \n",
            "  inflating: /content/mias-mammography/all-mias/mdb233.pgm  \n",
            "  inflating: /content/mias-mammography/all-mias/mdb234.pgm  \n",
            "  inflating: /content/mias-mammography/all-mias/mdb235.pgm  \n",
            "  inflating: /content/mias-mammography/all-mias/mdb236.pgm  \n",
            "  inflating: /content/mias-mammography/all-mias/mdb237.pgm  \n",
            "  inflating: /content/mias-mammography/all-mias/mdb238.pgm  \n",
            "  inflating: /content/mias-mammography/all-mias/mdb239.pgm  \n",
            "  inflating: /content/mias-mammography/all-mias/mdb240.pgm  \n",
            "  inflating: /content/mias-mammography/all-mias/mdb241.pgm  \n",
            "  inflating: /content/mias-mammography/all-mias/mdb242.pgm  \n",
            "  inflating: /content/mias-mammography/all-mias/mdb243.pgm  \n",
            "  inflating: /content/mias-mammography/all-mias/mdb244.pgm  \n",
            "  inflating: /content/mias-mammography/all-mias/mdb245.pgm  \n",
            "  inflating: /content/mias-mammography/all-mias/mdb246.pgm  \n",
            "  inflating: /content/mias-mammography/all-mias/mdb247.pgm  \n",
            "  inflating: /content/mias-mammography/all-mias/mdb248.pgm  \n",
            "  inflating: /content/mias-mammography/all-mias/mdb249.pgm  \n",
            "  inflating: /content/mias-mammography/all-mias/mdb250.pgm  \n",
            "  inflating: /content/mias-mammography/all-mias/mdb251.pgm  \n",
            "  inflating: /content/mias-mammography/all-mias/mdb252.pgm  \n",
            "  inflating: /content/mias-mammography/all-mias/mdb253.pgm  \n",
            "  inflating: /content/mias-mammography/all-mias/mdb254.pgm  \n",
            "  inflating: /content/mias-mammography/all-mias/mdb255.pgm  \n",
            "  inflating: /content/mias-mammography/all-mias/mdb256.pgm  \n",
            "  inflating: /content/mias-mammography/all-mias/mdb257.pgm  \n",
            "  inflating: /content/mias-mammography/all-mias/mdb258.pgm  \n",
            "  inflating: /content/mias-mammography/all-mias/mdb259.pgm  \n",
            "  inflating: /content/mias-mammography/all-mias/mdb260.pgm  \n",
            "  inflating: /content/mias-mammography/all-mias/mdb261.pgm  \n",
            "  inflating: /content/mias-mammography/all-mias/mdb262.pgm  \n",
            "  inflating: /content/mias-mammography/all-mias/mdb263.pgm  \n",
            "  inflating: /content/mias-mammography/all-mias/mdb264.pgm  \n",
            "  inflating: /content/mias-mammography/all-mias/mdb265.pgm  \n",
            "  inflating: /content/mias-mammography/all-mias/mdb266.pgm  \n",
            "  inflating: /content/mias-mammography/all-mias/mdb267.pgm  \n",
            "  inflating: /content/mias-mammography/all-mias/mdb268.pgm  \n",
            "  inflating: /content/mias-mammography/all-mias/mdb269.pgm  \n",
            "  inflating: /content/mias-mammography/all-mias/mdb270.pgm  \n",
            "  inflating: /content/mias-mammography/all-mias/mdb271.pgm  \n",
            "  inflating: /content/mias-mammography/all-mias/mdb272.pgm  \n",
            "  inflating: /content/mias-mammography/all-mias/mdb273.pgm  \n",
            "  inflating: /content/mias-mammography/all-mias/mdb274.pgm  \n",
            "  inflating: /content/mias-mammography/all-mias/mdb275.pgm  \n",
            "  inflating: /content/mias-mammography/all-mias/mdb276.pgm  \n",
            "  inflating: /content/mias-mammography/all-mias/mdb277.pgm  \n",
            "  inflating: /content/mias-mammography/all-mias/mdb278.pgm  \n",
            "  inflating: /content/mias-mammography/all-mias/mdb279.pgm  \n",
            "  inflating: /content/mias-mammography/all-mias/mdb280.pgm  \n",
            "  inflating: /content/mias-mammography/all-mias/mdb281.pgm  \n",
            "  inflating: /content/mias-mammography/all-mias/mdb282.pgm  \n",
            "  inflating: /content/mias-mammography/all-mias/mdb283.pgm  \n",
            "  inflating: /content/mias-mammography/all-mias/mdb284.pgm  \n",
            "  inflating: /content/mias-mammography/all-mias/mdb285.pgm  \n",
            "  inflating: /content/mias-mammography/all-mias/mdb286.pgm  \n",
            "  inflating: /content/mias-mammography/all-mias/mdb287.pgm  \n",
            "  inflating: /content/mias-mammography/all-mias/mdb288.pgm  \n",
            "  inflating: /content/mias-mammography/all-mias/mdb289.pgm  \n",
            "  inflating: /content/mias-mammography/all-mias/mdb290.pgm  \n",
            "  inflating: /content/mias-mammography/all-mias/mdb291.pgm  \n",
            "  inflating: /content/mias-mammography/all-mias/mdb292.pgm  \n",
            "  inflating: /content/mias-mammography/all-mias/mdb293.pgm  \n",
            "  inflating: /content/mias-mammography/all-mias/mdb294.pgm  \n",
            "  inflating: /content/mias-mammography/all-mias/mdb295.pgm  \n",
            "  inflating: /content/mias-mammography/all-mias/mdb296.pgm  \n",
            "  inflating: /content/mias-mammography/all-mias/mdb297.pgm  \n",
            "  inflating: /content/mias-mammography/all-mias/mdb298.pgm  \n",
            "  inflating: /content/mias-mammography/all-mias/mdb299.pgm  \n",
            "  inflating: /content/mias-mammography/all-mias/mdb300.pgm  \n",
            "  inflating: /content/mias-mammography/all-mias/mdb301.pgm  \n",
            "  inflating: /content/mias-mammography/all-mias/mdb302.pgm  \n",
            "  inflating: /content/mias-mammography/all-mias/mdb303.pgm  \n",
            "  inflating: /content/mias-mammography/all-mias/mdb304.pgm  \n",
            "  inflating: /content/mias-mammography/all-mias/mdb305.pgm  \n",
            "  inflating: /content/mias-mammography/all-mias/mdb306.pgm  \n",
            "  inflating: /content/mias-mammography/all-mias/mdb307.pgm  \n",
            "  inflating: /content/mias-mammography/all-mias/mdb308.pgm  \n",
            "  inflating: /content/mias-mammography/all-mias/mdb309.pgm  \n",
            "  inflating: /content/mias-mammography/all-mias/mdb310.pgm  \n",
            "  inflating: /content/mias-mammography/all-mias/mdb311.pgm  \n",
            "  inflating: /content/mias-mammography/all-mias/mdb312.pgm  \n",
            "  inflating: /content/mias-mammography/all-mias/mdb313.pgm  \n",
            "  inflating: /content/mias-mammography/all-mias/mdb314.pgm  \n",
            "  inflating: /content/mias-mammography/all-mias/mdb315.pgm  \n",
            "  inflating: /content/mias-mammography/all-mias/mdb316.pgm  \n",
            "  inflating: /content/mias-mammography/all-mias/mdb317.pgm  \n",
            "  inflating: /content/mias-mammography/all-mias/mdb318.pgm  \n",
            "  inflating: /content/mias-mammography/all-mias/mdb319.pgm  \n",
            "  inflating: /content/mias-mammography/all-mias/mdb320.pgm  \n",
            "  inflating: /content/mias-mammography/all-mias/mdb321.pgm  \n",
            "  inflating: /content/mias-mammography/all-mias/mdb322.pgm  \n",
            "  inflating: /content/mias-mammography/all_mias_scans.h5  \n"
          ]
        }
      ]
    },
    {
      "cell_type": "code",
      "source": [
        "# check disk usage\n",
        "! df -h"
      ],
      "metadata": {
        "id": "gYYKKbWyURij",
        "outputId": "65fe5a8f-31af-4fe9-feba-69c41bc1fc43",
        "colab": {
          "base_uri": "https://localhost:8080/"
        }
      },
      "id": "gYYKKbWyURij",
      "execution_count": 7,
      "outputs": [
        {
          "output_type": "stream",
          "name": "stdout",
          "text": [
            "Filesystem      Size  Used Avail Use% Mounted on\n",
            "overlay         108G   39G   70G  36% /\n",
            "tmpfs            64M     0   64M   0% /dev\n",
            "shm             5.8G     0  5.8G   0% /dev/shm\n",
            "/dev/root       2.0G  1.2G  775M  61% /usr/sbin/docker-init\n",
            "tmpfs           6.4G  112K  6.4G   1% /var/colab\n",
            "/dev/sda1        73G   40G   34G  55% /kaggle/input\n",
            "tmpfs           6.4G     0  6.4G   0% /proc/acpi\n",
            "tmpfs           6.4G     0  6.4G   0% /proc/scsi\n",
            "tmpfs           6.4G     0  6.4G   0% /sys/firmware\n",
            "drive            15G  7.1G  8.0G  48% /content/drive\n"
          ]
        }
      ]
    },
    {
      "cell_type": "markdown",
      "source": [
        "# Dependencies"
      ],
      "metadata": {
        "id": "porIDhK3Vc1G"
      },
      "id": "porIDhK3Vc1G"
    },
    {
      "cell_type": "code",
      "source": [
        "from collections import Counter\n",
        "import cv2\n",
        "import os\n",
        "import glob\n",
        "import skimage\n",
        "import numpy as np\n",
        "import pandas as pd\n",
        "import seaborn as sn\n",
        "# import preprocessing\n",
        "from tqdm import tqdm\n",
        "from PIL import Image\n",
        "from os import listdir\n",
        "import matplotlib.pyplot as plt\n",
        "from skimage.transform import resize\n",
        "from collections import Counter\n",
        "\n",
        "sn.set()\n",
        "\n",
        "from sklearn.svm import SVC # SVC\n",
        "from sklearn import metrics\n",
        "from sklearn.utils import shuffle\n",
        "from xgboost import XGBClassifier # XGBClassifier\n",
        "from sklearn import metrics\n",
        "from sklearn.metrics import confusion_matrix, classification_report\n",
        "from sklearn.utils import compute_class_weight\n",
        "from sklearn.preprocessing import MinMaxScaler,LabelBinarizer\n",
        "from sklearn.ensemble import AdaBoostClassifier # AdaBoostClassifier\n",
        "from sklearn.neighbors import KNeighborsClassifier # KNeighborsClassifier\n",
        "from sklearn.ensemble import RandomForestClassifier # RandomForestClassifier\n",
        "from sklearn.model_selection import train_test_split\n",
        "\n",
        "import tensorflow\n",
        "from tensorflow.keras.utils import to_categorical\n",
        "from tensorflow.keras.metrics import AUC\n",
        "from tensorflow.keras.preprocessing import image\n",
        "from tensorflow.keras.models import Model, Sequential\n",
        "from tensorflow.keras.applications.vgg16 import VGG16 # VGG16\n",
        "from tensorflow.keras.applications.vgg19 import VGG19 # VGG19\n",
        "from tensorflow.keras.applications.resnet50 import ResNet50 # ResNet50\n",
        "from tensorflow.keras.applications.xception import Xception # Xception\n",
        "from tensorflow.keras.applications.mobilenet import MobileNet # MobileNet\n",
        "from tensorflow.keras.applications.nasnet import NASNetMobile # NASNetMobile\n",
        "from tensorflow.keras.applications.densenet import DenseNet169 # DenseNet169\n",
        "from tensorflow.keras.applications.densenet import DenseNet121 # DenseNet121\n",
        "from tensorflow.keras.applications.mobilenet_v2 import MobileNetV2 # MobileNetV2\n",
        "from tensorflow.keras.applications.inception_v3 import InceptionV3 # InceptionV3\n",
        "from tensorflow.keras.layers import Input, Dense, Dropout, BatchNormalization, Flatten, Activation, GlobalAveragePooling2D,Conv2D, MaxPooling2D\n",
        "from tensorflow.keras.callbacks import EarlyStopping, ModelCheckpoint"
      ],
      "metadata": {
        "id": "49G3r5CrURnj"
      },
      "id": "49G3r5CrURnj",
      "execution_count": 9,
      "outputs": []
    },
    {
      "cell_type": "code",
      "source": [
        "no_angles = 360\n",
        "url ='/content/mias-mammography/all-mias/'"
      ],
      "metadata": {
        "id": "BrrjxquTURqz"
      },
      "id": "BrrjxquTURqz",
      "execution_count": 33,
      "outputs": []
    },
    {
      "cell_type": "code",
      "source": [
        "def save_dictionary(path,data):\n",
        "    print('saving catalog...')\n",
        "    #open('u.item', encoding=\"utf-8\")\n",
        "    import json\n",
        "    with open(path,'w') as outfile:\n",
        "        json.dump(str(data), fp=outfile)\n",
        "      # save to file:\n",
        "    print(' catalog saved')"
      ],
      "metadata": {
        "id": "vcLG9CUyURuU"
      },
      "id": "vcLG9CUyURuU",
      "execution_count": 34,
      "outputs": []
    },
    {
      "cell_type": "code",
      "source": [
        "def read_image():\n",
        "    print(\"Reading images\")\n",
        "    import cv2\n",
        "    info = {}\n",
        "    for i in range(322):\n",
        "        if i<9:\n",
        "            image_name='mdb00'+str(i+1)\n",
        "        elif i<99:\n",
        "            image_name='mdb0'+str(i+1)\n",
        "        else:\n",
        "            image_name = 'mdb' + str(i+1)\n",
        "        # print(image_name)\n",
        "        image_address= url+image_name+'.pgm'\n",
        "        #print(image_address)\n",
        "        #print(image_address)\n",
        "        img = cv2.imread(image_address,1)\n",
        "        # print(i)\n",
        "        img = cv2.resize(img, (224,224))   #resize image\n",
        "        rows, cols,color = img.shape\n",
        "        info[image_name]={}\n",
        "        for angle in range(0,no_angles,8):\n",
        "            M = cv2.getRotationMatrix2D((cols / 2, rows / 2), angle, 1)    #Rotate 0 degree\n",
        "            img_rotated = cv2.warpAffine(img, M, (cols, rows))\n",
        "            info[image_name][angle]=img_rotated\n",
        "    return (info)"
      ],
      "metadata": {
        "id": "SmmJE4yXYZuW"
      },
      "id": "SmmJE4yXYZuW",
      "execution_count": 35,
      "outputs": []
    },
    {
      "cell_type": "code",
      "source": [
        "def read_lable():\n",
        "    print(\"Reading labels\")\n",
        "    filename = url+'Info.txt'\n",
        "    text_all = open(filename).read()\n",
        "    #print(text_all)\n",
        "    lines=text_all.split('\\n')\n",
        "    info={}\n",
        "    for line in lines:\n",
        "        words=line.split(' ')\n",
        "        if len(words)>3:\n",
        "            if (words[3] == 'B'):\n",
        "                info[words[0]] = {}\n",
        "                for angle in range(0,no_angles,8):\n",
        "                    info[words[0]][angle] = 0\n",
        "            if (words[3] == 'M'):\n",
        "                info[words[0]] = {}\n",
        "                for  angle in range(0,no_angles,8):\n",
        "                    info[words[0]][angle] = 1\n",
        "    return (info)"
      ],
      "metadata": {
        "id": "bKnA5w9eYcQR"
      },
      "id": "bKnA5w9eYcQR",
      "execution_count": 36,
      "outputs": []
    },
    {
      "cell_type": "code",
      "source": [
        "from sklearn.model_selection import train_test_split\n",
        "from tensorflow.keras.utils import to_categorical\n",
        "import numpy as np\n",
        "lable_info=read_lable()\n",
        "image_info=read_image()\n",
        "#print(image_info[1][0])\n",
        "ids=lable_info.keys()   #ids = acceptable labeled ids\n",
        "#print(type(ids))\n",
        "del lable_info['Truth-Data:']\n",
        "#print(lable_info)\n",
        "#print(ids)\n",
        "X=[]\n",
        "Y=[]\n",
        "for id in ids:\n",
        "    for angle in range(0,no_angles,8):\n",
        "        X.append(image_info[id][angle])\n",
        "        Y.append(lable_info[id][angle])\n",
        "X=np.array(X)\n",
        "Y=np.array(Y)\n",
        "x_train, x_test, y_train, y_test = train_test_split(X, Y, test_size=0.15, random_state=2021,shuffle=True)\n",
        "# cancer_prediction_cnn(x_train, y_train, x_test, y_test)"
      ],
      "metadata": {
        "id": "kcLM85b4YiCh",
        "outputId": "4474b6b3-f070-444a-eb60-13e1937185ce",
        "colab": {
          "base_uri": "https://localhost:8080/"
        }
      },
      "id": "kcLM85b4YiCh",
      "execution_count": 37,
      "outputs": [
        {
          "output_type": "stream",
          "name": "stdout",
          "text": [
            "Reading labels\n",
            "Reading images\n"
          ]
        }
      ]
    },
    {
      "cell_type": "code",
      "source": [
        "import numpy as np\n",
        "from keras.models import Sequential\n",
        "from keras.layers import Dense, Dropout, Activation, Conv2D, MaxPool2D, Flatten\n",
        "from keras import optimizers\n",
        "from keras import losses\n",
        "from sklearn import metrics\n",
        "\n",
        "rows, cols,color = x_train[0].shape\n",
        "print(x_train[0].shape)\n",
        "\n",
        "base_model = VGG19(input_shape=(224,224,3), weights='imagenet', include_top=False)\n",
        "model=Sequential()\n",
        "model.add(base_model)\n",
        "model.add(Dropout(0.2))\n",
        "model.add(Flatten())\n",
        "model.add(BatchNormalization())\n",
        "model.add(Dense(1024,kernel_initializer='he_uniform'))\n",
        "model.add(BatchNormalization())\n",
        "model.add(Activation('relu'))\n",
        "model.add(Dropout(0.2))\n",
        "model.add(Dense(1024,kernel_initializer='he_uniform'))\n",
        "model.add(BatchNormalization())\n",
        "model.add(Activation('relu'))\n",
        "model.add(Dropout(0.2))\n",
        "model.add(Dense(1024,kernel_initializer='he_uniform'))\n",
        "model.add(BatchNormalization())\n",
        "model.add(Activation('relu'))\n",
        "model.add(Dropout(0.2))\n",
        "model.add(Dense(1,activation='sigmoid'))\n",
        "\n",
        "for layer in base_model.layers:\n",
        "    layer.trainable = False\n",
        "\n",
        "model.summary()"
      ],
      "metadata": {
        "id": "DIuNJ2TsZ0da",
        "outputId": "9aaa3bfe-1872-47da-e6fc-de17b01189ca",
        "colab": {
          "base_uri": "https://localhost:8080/",
          "height": 849
        }
      },
      "id": "DIuNJ2TsZ0da",
      "execution_count": 38,
      "outputs": [
        {
          "output_type": "stream",
          "name": "stdout",
          "text": [
            "(224, 224, 3)\n",
            "Downloading data from https://storage.googleapis.com/tensorflow/keras-applications/vgg19/vgg19_weights_tf_dim_ordering_tf_kernels_notop.h5\n",
            "\u001b[1m80134624/80134624\u001b[0m \u001b[32m━━━━━━━━━━━━━━━━━━━━\u001b[0m\u001b[37m\u001b[0m \u001b[1m0s\u001b[0m 0us/step\n"
          ]
        },
        {
          "output_type": "display_data",
          "data": {
            "text/plain": [
              "\u001b[1mModel: \"sequential\"\u001b[0m\n"
            ],
            "text/html": [
              "<pre style=\"white-space:pre;overflow-x:auto;line-height:normal;font-family:Menlo,'DejaVu Sans Mono',consolas,'Courier New',monospace\"><span style=\"font-weight: bold\">Model: \"sequential\"</span>\n",
              "</pre>\n"
            ]
          },
          "metadata": {}
        },
        {
          "output_type": "display_data",
          "data": {
            "text/plain": [
              "┏━━━━━━━━━━━━━━━━━━━━━━━━━━━━━━━━━┳━━━━━━━━━━━━━━━━━━━━━━━━┳━━━━━━━━━━━━━━━┓\n",
              "┃\u001b[1m \u001b[0m\u001b[1mLayer (type)                   \u001b[0m\u001b[1m \u001b[0m┃\u001b[1m \u001b[0m\u001b[1mOutput Shape          \u001b[0m\u001b[1m \u001b[0m┃\u001b[1m \u001b[0m\u001b[1m      Param #\u001b[0m\u001b[1m \u001b[0m┃\n",
              "┡━━━━━━━━━━━━━━━━━━━━━━━━━━━━━━━━━╇━━━━━━━━━━━━━━━━━━━━━━━━╇━━━━━━━━━━━━━━━┩\n",
              "│ vgg19 (\u001b[38;5;33mFunctional\u001b[0m)              │ (\u001b[38;5;45mNone\u001b[0m, \u001b[38;5;34m7\u001b[0m, \u001b[38;5;34m7\u001b[0m, \u001b[38;5;34m512\u001b[0m)      │    \u001b[38;5;34m20,024,384\u001b[0m │\n",
              "├─────────────────────────────────┼────────────────────────┼───────────────┤\n",
              "│ dropout (\u001b[38;5;33mDropout\u001b[0m)               │ (\u001b[38;5;45mNone\u001b[0m, \u001b[38;5;34m7\u001b[0m, \u001b[38;5;34m7\u001b[0m, \u001b[38;5;34m512\u001b[0m)      │             \u001b[38;5;34m0\u001b[0m │\n",
              "├─────────────────────────────────┼────────────────────────┼───────────────┤\n",
              "│ flatten (\u001b[38;5;33mFlatten\u001b[0m)               │ (\u001b[38;5;45mNone\u001b[0m, \u001b[38;5;34m25088\u001b[0m)          │             \u001b[38;5;34m0\u001b[0m │\n",
              "├─────────────────────────────────┼────────────────────────┼───────────────┤\n",
              "│ batch_normalization             │ (\u001b[38;5;45mNone\u001b[0m, \u001b[38;5;34m25088\u001b[0m)          │       \u001b[38;5;34m100,352\u001b[0m │\n",
              "│ (\u001b[38;5;33mBatchNormalization\u001b[0m)            │                        │               │\n",
              "├─────────────────────────────────┼────────────────────────┼───────────────┤\n",
              "│ dense (\u001b[38;5;33mDense\u001b[0m)                   │ (\u001b[38;5;45mNone\u001b[0m, \u001b[38;5;34m1024\u001b[0m)           │    \u001b[38;5;34m25,691,136\u001b[0m │\n",
              "├─────────────────────────────────┼────────────────────────┼───────────────┤\n",
              "│ batch_normalization_1           │ (\u001b[38;5;45mNone\u001b[0m, \u001b[38;5;34m1024\u001b[0m)           │         \u001b[38;5;34m4,096\u001b[0m │\n",
              "│ (\u001b[38;5;33mBatchNormalization\u001b[0m)            │                        │               │\n",
              "├─────────────────────────────────┼────────────────────────┼───────────────┤\n",
              "│ activation (\u001b[38;5;33mActivation\u001b[0m)         │ (\u001b[38;5;45mNone\u001b[0m, \u001b[38;5;34m1024\u001b[0m)           │             \u001b[38;5;34m0\u001b[0m │\n",
              "├─────────────────────────────────┼────────────────────────┼───────────────┤\n",
              "│ dropout_1 (\u001b[38;5;33mDropout\u001b[0m)             │ (\u001b[38;5;45mNone\u001b[0m, \u001b[38;5;34m1024\u001b[0m)           │             \u001b[38;5;34m0\u001b[0m │\n",
              "├─────────────────────────────────┼────────────────────────┼───────────────┤\n",
              "│ dense_1 (\u001b[38;5;33mDense\u001b[0m)                 │ (\u001b[38;5;45mNone\u001b[0m, \u001b[38;5;34m1024\u001b[0m)           │     \u001b[38;5;34m1,049,600\u001b[0m │\n",
              "├─────────────────────────────────┼────────────────────────┼───────────────┤\n",
              "│ batch_normalization_2           │ (\u001b[38;5;45mNone\u001b[0m, \u001b[38;5;34m1024\u001b[0m)           │         \u001b[38;5;34m4,096\u001b[0m │\n",
              "│ (\u001b[38;5;33mBatchNormalization\u001b[0m)            │                        │               │\n",
              "├─────────────────────────────────┼────────────────────────┼───────────────┤\n",
              "│ activation_1 (\u001b[38;5;33mActivation\u001b[0m)       │ (\u001b[38;5;45mNone\u001b[0m, \u001b[38;5;34m1024\u001b[0m)           │             \u001b[38;5;34m0\u001b[0m │\n",
              "├─────────────────────────────────┼────────────────────────┼───────────────┤\n",
              "│ dropout_2 (\u001b[38;5;33mDropout\u001b[0m)             │ (\u001b[38;5;45mNone\u001b[0m, \u001b[38;5;34m1024\u001b[0m)           │             \u001b[38;5;34m0\u001b[0m │\n",
              "├─────────────────────────────────┼────────────────────────┼───────────────┤\n",
              "│ dense_2 (\u001b[38;5;33mDense\u001b[0m)                 │ (\u001b[38;5;45mNone\u001b[0m, \u001b[38;5;34m1024\u001b[0m)           │     \u001b[38;5;34m1,049,600\u001b[0m │\n",
              "├─────────────────────────────────┼────────────────────────┼───────────────┤\n",
              "│ batch_normalization_3           │ (\u001b[38;5;45mNone\u001b[0m, \u001b[38;5;34m1024\u001b[0m)           │         \u001b[38;5;34m4,096\u001b[0m │\n",
              "│ (\u001b[38;5;33mBatchNormalization\u001b[0m)            │                        │               │\n",
              "├─────────────────────────────────┼────────────────────────┼───────────────┤\n",
              "│ activation_2 (\u001b[38;5;33mActivation\u001b[0m)       │ (\u001b[38;5;45mNone\u001b[0m, \u001b[38;5;34m1024\u001b[0m)           │             \u001b[38;5;34m0\u001b[0m │\n",
              "├─────────────────────────────────┼────────────────────────┼───────────────┤\n",
              "│ dropout_3 (\u001b[38;5;33mDropout\u001b[0m)             │ (\u001b[38;5;45mNone\u001b[0m, \u001b[38;5;34m1024\u001b[0m)           │             \u001b[38;5;34m0\u001b[0m │\n",
              "├─────────────────────────────────┼────────────────────────┼───────────────┤\n",
              "│ dense_3 (\u001b[38;5;33mDense\u001b[0m)                 │ (\u001b[38;5;45mNone\u001b[0m, \u001b[38;5;34m1\u001b[0m)              │         \u001b[38;5;34m1,025\u001b[0m │\n",
              "└─────────────────────────────────┴────────────────────────┴───────────────┘\n"
            ],
            "text/html": [
              "<pre style=\"white-space:pre;overflow-x:auto;line-height:normal;font-family:Menlo,'DejaVu Sans Mono',consolas,'Courier New',monospace\">┏━━━━━━━━━━━━━━━━━━━━━━━━━━━━━━━━━┳━━━━━━━━━━━━━━━━━━━━━━━━┳━━━━━━━━━━━━━━━┓\n",
              "┃<span style=\"font-weight: bold\"> Layer (type)                    </span>┃<span style=\"font-weight: bold\"> Output Shape           </span>┃<span style=\"font-weight: bold\">       Param # </span>┃\n",
              "┡━━━━━━━━━━━━━━━━━━━━━━━━━━━━━━━━━╇━━━━━━━━━━━━━━━━━━━━━━━━╇━━━━━━━━━━━━━━━┩\n",
              "│ vgg19 (<span style=\"color: #0087ff; text-decoration-color: #0087ff\">Functional</span>)              │ (<span style=\"color: #00d7ff; text-decoration-color: #00d7ff\">None</span>, <span style=\"color: #00af00; text-decoration-color: #00af00\">7</span>, <span style=\"color: #00af00; text-decoration-color: #00af00\">7</span>, <span style=\"color: #00af00; text-decoration-color: #00af00\">512</span>)      │    <span style=\"color: #00af00; text-decoration-color: #00af00\">20,024,384</span> │\n",
              "├─────────────────────────────────┼────────────────────────┼───────────────┤\n",
              "│ dropout (<span style=\"color: #0087ff; text-decoration-color: #0087ff\">Dropout</span>)               │ (<span style=\"color: #00d7ff; text-decoration-color: #00d7ff\">None</span>, <span style=\"color: #00af00; text-decoration-color: #00af00\">7</span>, <span style=\"color: #00af00; text-decoration-color: #00af00\">7</span>, <span style=\"color: #00af00; text-decoration-color: #00af00\">512</span>)      │             <span style=\"color: #00af00; text-decoration-color: #00af00\">0</span> │\n",
              "├─────────────────────────────────┼────────────────────────┼───────────────┤\n",
              "│ flatten (<span style=\"color: #0087ff; text-decoration-color: #0087ff\">Flatten</span>)               │ (<span style=\"color: #00d7ff; text-decoration-color: #00d7ff\">None</span>, <span style=\"color: #00af00; text-decoration-color: #00af00\">25088</span>)          │             <span style=\"color: #00af00; text-decoration-color: #00af00\">0</span> │\n",
              "├─────────────────────────────────┼────────────────────────┼───────────────┤\n",
              "│ batch_normalization             │ (<span style=\"color: #00d7ff; text-decoration-color: #00d7ff\">None</span>, <span style=\"color: #00af00; text-decoration-color: #00af00\">25088</span>)          │       <span style=\"color: #00af00; text-decoration-color: #00af00\">100,352</span> │\n",
              "│ (<span style=\"color: #0087ff; text-decoration-color: #0087ff\">BatchNormalization</span>)            │                        │               │\n",
              "├─────────────────────────────────┼────────────────────────┼───────────────┤\n",
              "│ dense (<span style=\"color: #0087ff; text-decoration-color: #0087ff\">Dense</span>)                   │ (<span style=\"color: #00d7ff; text-decoration-color: #00d7ff\">None</span>, <span style=\"color: #00af00; text-decoration-color: #00af00\">1024</span>)           │    <span style=\"color: #00af00; text-decoration-color: #00af00\">25,691,136</span> │\n",
              "├─────────────────────────────────┼────────────────────────┼───────────────┤\n",
              "│ batch_normalization_1           │ (<span style=\"color: #00d7ff; text-decoration-color: #00d7ff\">None</span>, <span style=\"color: #00af00; text-decoration-color: #00af00\">1024</span>)           │         <span style=\"color: #00af00; text-decoration-color: #00af00\">4,096</span> │\n",
              "│ (<span style=\"color: #0087ff; text-decoration-color: #0087ff\">BatchNormalization</span>)            │                        │               │\n",
              "├─────────────────────────────────┼────────────────────────┼───────────────┤\n",
              "│ activation (<span style=\"color: #0087ff; text-decoration-color: #0087ff\">Activation</span>)         │ (<span style=\"color: #00d7ff; text-decoration-color: #00d7ff\">None</span>, <span style=\"color: #00af00; text-decoration-color: #00af00\">1024</span>)           │             <span style=\"color: #00af00; text-decoration-color: #00af00\">0</span> │\n",
              "├─────────────────────────────────┼────────────────────────┼───────────────┤\n",
              "│ dropout_1 (<span style=\"color: #0087ff; text-decoration-color: #0087ff\">Dropout</span>)             │ (<span style=\"color: #00d7ff; text-decoration-color: #00d7ff\">None</span>, <span style=\"color: #00af00; text-decoration-color: #00af00\">1024</span>)           │             <span style=\"color: #00af00; text-decoration-color: #00af00\">0</span> │\n",
              "├─────────────────────────────────┼────────────────────────┼───────────────┤\n",
              "│ dense_1 (<span style=\"color: #0087ff; text-decoration-color: #0087ff\">Dense</span>)                 │ (<span style=\"color: #00d7ff; text-decoration-color: #00d7ff\">None</span>, <span style=\"color: #00af00; text-decoration-color: #00af00\">1024</span>)           │     <span style=\"color: #00af00; text-decoration-color: #00af00\">1,049,600</span> │\n",
              "├─────────────────────────────────┼────────────────────────┼───────────────┤\n",
              "│ batch_normalization_2           │ (<span style=\"color: #00d7ff; text-decoration-color: #00d7ff\">None</span>, <span style=\"color: #00af00; text-decoration-color: #00af00\">1024</span>)           │         <span style=\"color: #00af00; text-decoration-color: #00af00\">4,096</span> │\n",
              "│ (<span style=\"color: #0087ff; text-decoration-color: #0087ff\">BatchNormalization</span>)            │                        │               │\n",
              "├─────────────────────────────────┼────────────────────────┼───────────────┤\n",
              "│ activation_1 (<span style=\"color: #0087ff; text-decoration-color: #0087ff\">Activation</span>)       │ (<span style=\"color: #00d7ff; text-decoration-color: #00d7ff\">None</span>, <span style=\"color: #00af00; text-decoration-color: #00af00\">1024</span>)           │             <span style=\"color: #00af00; text-decoration-color: #00af00\">0</span> │\n",
              "├─────────────────────────────────┼────────────────────────┼───────────────┤\n",
              "│ dropout_2 (<span style=\"color: #0087ff; text-decoration-color: #0087ff\">Dropout</span>)             │ (<span style=\"color: #00d7ff; text-decoration-color: #00d7ff\">None</span>, <span style=\"color: #00af00; text-decoration-color: #00af00\">1024</span>)           │             <span style=\"color: #00af00; text-decoration-color: #00af00\">0</span> │\n",
              "├─────────────────────────────────┼────────────────────────┼───────────────┤\n",
              "│ dense_2 (<span style=\"color: #0087ff; text-decoration-color: #0087ff\">Dense</span>)                 │ (<span style=\"color: #00d7ff; text-decoration-color: #00d7ff\">None</span>, <span style=\"color: #00af00; text-decoration-color: #00af00\">1024</span>)           │     <span style=\"color: #00af00; text-decoration-color: #00af00\">1,049,600</span> │\n",
              "├─────────────────────────────────┼────────────────────────┼───────────────┤\n",
              "│ batch_normalization_3           │ (<span style=\"color: #00d7ff; text-decoration-color: #00d7ff\">None</span>, <span style=\"color: #00af00; text-decoration-color: #00af00\">1024</span>)           │         <span style=\"color: #00af00; text-decoration-color: #00af00\">4,096</span> │\n",
              "│ (<span style=\"color: #0087ff; text-decoration-color: #0087ff\">BatchNormalization</span>)            │                        │               │\n",
              "├─────────────────────────────────┼────────────────────────┼───────────────┤\n",
              "│ activation_2 (<span style=\"color: #0087ff; text-decoration-color: #0087ff\">Activation</span>)       │ (<span style=\"color: #00d7ff; text-decoration-color: #00d7ff\">None</span>, <span style=\"color: #00af00; text-decoration-color: #00af00\">1024</span>)           │             <span style=\"color: #00af00; text-decoration-color: #00af00\">0</span> │\n",
              "├─────────────────────────────────┼────────────────────────┼───────────────┤\n",
              "│ dropout_3 (<span style=\"color: #0087ff; text-decoration-color: #0087ff\">Dropout</span>)             │ (<span style=\"color: #00d7ff; text-decoration-color: #00d7ff\">None</span>, <span style=\"color: #00af00; text-decoration-color: #00af00\">1024</span>)           │             <span style=\"color: #00af00; text-decoration-color: #00af00\">0</span> │\n",
              "├─────────────────────────────────┼────────────────────────┼───────────────┤\n",
              "│ dense_3 (<span style=\"color: #0087ff; text-decoration-color: #0087ff\">Dense</span>)                 │ (<span style=\"color: #00d7ff; text-decoration-color: #00d7ff\">None</span>, <span style=\"color: #00af00; text-decoration-color: #00af00\">1</span>)              │         <span style=\"color: #00af00; text-decoration-color: #00af00\">1,025</span> │\n",
              "└─────────────────────────────────┴────────────────────────┴───────────────┘\n",
              "</pre>\n"
            ]
          },
          "metadata": {}
        },
        {
          "output_type": "display_data",
          "data": {
            "text/plain": [
              "\u001b[1m Total params: \u001b[0m\u001b[38;5;34m47,928,385\u001b[0m (182.83 MB)\n"
            ],
            "text/html": [
              "<pre style=\"white-space:pre;overflow-x:auto;line-height:normal;font-family:Menlo,'DejaVu Sans Mono',consolas,'Courier New',monospace\"><span style=\"font-weight: bold\"> Total params: </span><span style=\"color: #00af00; text-decoration-color: #00af00\">47,928,385</span> (182.83 MB)\n",
              "</pre>\n"
            ]
          },
          "metadata": {}
        },
        {
          "output_type": "display_data",
          "data": {
            "text/plain": [
              "\u001b[1m Trainable params: \u001b[0m\u001b[38;5;34m27,847,681\u001b[0m (106.23 MB)\n"
            ],
            "text/html": [
              "<pre style=\"white-space:pre;overflow-x:auto;line-height:normal;font-family:Menlo,'DejaVu Sans Mono',consolas,'Courier New',monospace\"><span style=\"font-weight: bold\"> Trainable params: </span><span style=\"color: #00af00; text-decoration-color: #00af00\">27,847,681</span> (106.23 MB)\n",
              "</pre>\n"
            ]
          },
          "metadata": {}
        },
        {
          "output_type": "display_data",
          "data": {
            "text/plain": [
              "\u001b[1m Non-trainable params: \u001b[0m\u001b[38;5;34m20,080,704\u001b[0m (76.60 MB)\n"
            ],
            "text/html": [
              "<pre style=\"white-space:pre;overflow-x:auto;line-height:normal;font-family:Menlo,'DejaVu Sans Mono',consolas,'Courier New',monospace\"><span style=\"font-weight: bold\"> Non-trainable params: </span><span style=\"color: #00af00; text-decoration-color: #00af00\">20,080,704</span> (76.60 MB)\n",
              "</pre>\n"
            ]
          },
          "metadata": {}
        }
      ]
    },
    {
      "cell_type": "code",
      "source": [
        "from tensorflow.keras.callbacks import EarlyStopping, ModelCheckpoint\n",
        "es = EarlyStopping(monitor='val_loss', mode='min', patience=6,restore_best_weights=True, verbose=1)"
      ],
      "metadata": {
        "id": "aTjDMzdyatOa"
      },
      "id": "aTjDMzdyatOa",
      "execution_count": 39,
      "outputs": []
    },
    {
      "cell_type": "code",
      "source": [
        "model.compile(optimizer='adam',loss='binary_crossentropy', metrics=['accuracy'])\n",
        "history = model.fit(x_train, y_train,validation_split=0.15,shuffle=True, epochs=40, batch_size=128,callbacks=[es])\n",
        "loss_value , accuracy = model.evaluate(x_test, y_test)\n",
        "\n",
        "print('Test_loss_value = ' +str(loss_value))\n",
        "print('test_accuracy = ' + str(accuracy))\n",
        "\n",
        "#print(model.predict(x_test))\n",
        "#model.save('breast_cance_model.h5')\n",
        "\n",
        "save_dictionary('history1.dat', history.history)"
      ],
      "metadata": {
        "id": "OkwUjRvvawZL",
        "outputId": "f97c8d52-61a8-494b-cf50-ba13cdef7c1f",
        "colab": {
          "base_uri": "https://localhost:8080/"
        }
      },
      "id": "OkwUjRvvawZL",
      "execution_count": null,
      "outputs": [
        {
          "output_type": "stream",
          "name": "stdout",
          "text": [
            "Epoch 1/40\n",
            "\u001b[1m 5/30\u001b[0m \u001b[32m━━━\u001b[0m\u001b[37m━━━━━━━━━━━━━━━━━\u001b[0m \u001b[1m42:10\u001b[0m 101s/step - accuracy: 0.5037 - loss: 0.8626"
          ]
        }
      ]
    }
  ],
  "metadata": {
    "kernelspec": {
      "display_name": "Python 3 (ipykernel)",
      "language": "python",
      "name": "python3"
    },
    "language_info": {
      "codemirror_mode": {
        "name": "ipython",
        "version": 3
      },
      "file_extension": ".py",
      "mimetype": "text/x-python",
      "name": "python",
      "nbconvert_exporter": "python",
      "pygments_lexer": "ipython3",
      "version": "3.12.3"
    },
    "colab": {
      "provenance": []
    }
  },
  "nbformat": 4,
  "nbformat_minor": 5
}