{
  "cells": [
    {
      "cell_type": "code",
      "execution_count": 1,
      "id": "164722fb",
      "metadata": {
        "id": "164722fb",
        "outputId": "e1d4e267-1576-487c-9bf5-a2bdff89932d",
        "colab": {
          "base_uri": "https://localhost:8080/"
        }
      },
      "outputs": [
        {
          "output_type": "stream",
          "name": "stdout",
          "text": [
            "Hello World\n"
          ]
        }
      ],
      "source": [
        "print(\"Hello World\")"
      ]
    },
    {
      "cell_type": "code",
      "source": [
        "# link to dataset - https://www.kaggle.com/datasets/eoussama/breast-cancer-mammograms\n"
      ],
      "metadata": {
        "id": "u6XNlztDrKUo"
      },
      "id": "u6XNlztDrKUo",
      "execution_count": null,
      "outputs": []
    }
  ],
  "metadata": {
    "kernelspec": {
      "display_name": "Python 3 (ipykernel)",
      "language": "python",
      "name": "python3"
    },
    "language_info": {
      "codemirror_mode": {
        "name": "ipython",
        "version": 3
      },
      "file_extension": ".py",
      "mimetype": "text/x-python",
      "name": "python",
      "nbconvert_exporter": "python",
      "pygments_lexer": "ipython3",
      "version": "3.12.3"
    },
    "colab": {
      "provenance": []
    }
  },
  "nbformat": 4,
  "nbformat_minor": 5
}
