{
 "cells": [
  {
   "cell_type": "code",
   "execution_count": null,
   "id": "import-torch",
   "metadata": {},
   "outputs": [],
   "source": [
    "import torch\n"
   ]
  },
  {
   "cell_type": "code",
   "execution_count": null,
   "id": "corr-function",
   "metadata": {},
   "outputs": [],
   "source": [
    "def corr(x, y, epsilon=0.0001):\n",
    "    n, c, _ = x.size()\n",
    "\n",
    "    x_ = x.view(n, c, -1)    \n",
    "    y_ = y.view(n, c, -1)\n",
    "\n",
    "    x1 = x_ - x_.mean(-1, keepdim=True)\n",
    "    y1 = y_ - y_.mean(-1, keepdim=True)\n",
    "\n",
    "    x2 = x1/(torch.norm(x1, dim=-1, keepdim=True) + epsilon)\n",
    "    y2 = y1/(torch.norm(y1, dim=-1, keepdim=True) + epsilon)\n",
    "\n",
    "    return 10 * torch.mean(x2 * y2)\n"
   ]
  }
 ],
 "metadata": {
  "kernelspec": {
   "display_name": "Python 3",
   "language": "python",
   "name": "python3"
  },
  "language_info": {
   "codemirror_mode": {
    "name": "ipython",
    "version": 3
   },
   "file_extension": ".py",
   "mimetype": "text/x-python",
   "name": "python",
   "nbconvert_exporter": "python",
   "pygments_lexer": "ipython3",
   "version": "3.8"
  }
 },
 "nbformat": 4,
 "nbformat_minor": 5
}
