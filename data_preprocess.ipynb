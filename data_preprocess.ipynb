{
 "cells": [
  {
   "cell_type": "code",
   "execution_count": null,
   "id": "coding-utf8",
   "metadata": {},
   "outputs": [],
   "source": [
    "# coding: utf-8\n",
    "# -*- coding: utf-8 -*- \n",
    "import os\n",
    "import shutil\n",
    "import pickle\n",
    "import numpy as np\n",
    "import matplotlib\n",
    "matplotlib.use('Agg')\n",
    "import matplotlib.pyplot as plt\n",
    "import collections\n",
    "import io\n",
    "import random\n",
    "\n",
    "# Mixed views: distributed by patients\n",
    "\n",
    "filepathMLO = \"./preprocesspath_MLO/\"\n",
    "all_pklMLO = os.listdir(filepathMLO)\n",
    "save_dirMLO = \"patientMLO\"\n",
    "filepathCC = \"./preprocesspath_CC/\"\n",
    "all_pklCC = os.listdir(filepathCC)\n",
    "save_dirCC = \"patientCC\"\n",
    "labelfileMLO = './label_MLO.txt'\n",
    "labelfileCC = './label_CC.txt'\n",
    "preprocesspathMLO= \"./patient_MLO/\"\n",
    "preprocesspathCC= \"./patient_CC/\"\n",
    "patientlist= \"./patientlist1corr.txt\"\n"
   ]
  },
  {
   "cell_type": "code",
   "execution_count": null,
   "id": "readlist",
   "metadata": {},
   "outputs": [],
   "source": [
    "def readlist():\n",
    "    '''Read the label as a dict from labelfile'''\n",
    "    mylist = []\n",
    "    with open(patientlist, 'r') as f:\n",
    "        flines = f.readlines()\n",
    "        for line in flines:\n",
    "            data= line.split()\n",
    "            mylist.append(data[0])\n",
    "    return mylist\n"
   ]
  }
 ]
}
