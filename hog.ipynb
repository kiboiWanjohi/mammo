{
 "cells": [
  {
   "cell_type": "code",
   "execution_count": 1,
   "id": "164722fb",
   "metadata": {},
   "outputs": [
    {
     "name": "stderr",
     "output_type": "stream",
     "text": [
      "2025-06-11 14:35:57.725647: E external/local_xla/xla/stream_executor/cuda/cuda_fft.cc:467] Unable to register cuFFT factory: Attempting to register factory for plugin cuFFT when one has already been registered\n",
      "WARNING: All log messages before absl::InitializeLog() is called are written to STDERR\n",
      "E0000 00:00:1749652557.739034  127495 cuda_dnn.cc:8579] Unable to register cuDNN factory: Attempting to register factory for plugin cuDNN when one has already been registered\n",
      "E0000 00:00:1749652557.743167  127495 cuda_blas.cc:1407] Unable to register cuBLAS factory: Attempting to register factory for plugin cuBLAS when one has already been registered\n",
      "W0000 00:00:1749652557.754824  127495 computation_placer.cc:177] computation placer already registered. Please check linkage and avoid linking the same target more than once.\n",
      "W0000 00:00:1749652557.754835  127495 computation_placer.cc:177] computation placer already registered. Please check linkage and avoid linking the same target more than once.\n",
      "W0000 00:00:1749652557.754837  127495 computation_placer.cc:177] computation placer already registered. Please check linkage and avoid linking the same target more than once.\n",
      "W0000 00:00:1749652557.754838  127495 computation_placer.cc:177] computation placer already registered. Please check linkage and avoid linking the same target more than once.\n",
      "2025-06-11 14:35:57.758213: I tensorflow/core/platform/cpu_feature_guard.cc:210] This TensorFlow binary is optimized to use available CPU instructions in performance-critical operations.\n",
      "To enable the following instructions: AVX2 FMA, in other operations, rebuild TensorFlow with the appropriate compiler flags.\n"
     ]
    }
   ],
   "source": [
    "import os  # Interact with the operating system (file handling, paths, etc.)\n",
    "import gc  # Manages garbage collection (memory cleanup)\n",
    "import PIL  # Image processing library (Pillow)\n",
    "import cv2  # OpenCV for image processing and computer vision\n",
    "import uuid  # Generate unique identifiers (used for unique filenames)\n",
    "import shutil  # High-level file operations (copying, moving, deleting)\n",
    "import random  # Generate random numbers, shuffle data, and sampling\n",
    "import glob as gb  # Pattern-based file searching (e.g., \"*.jpg\" for all images)\n",
    "import numpy as np  # Numerical computing with arrays and matrices\n",
    "import pandas as pd  # Data handling with structured DataFrames\n",
    "import tensorflow as tf  # Deep learning framework for building models\n",
    "import matplotlib.pyplot as plt  # Data visualization (plots, graphs, image display)\n",
    "\n",
    "from PIL import Image  # Handling and processing image files\n",
    "from tqdm import tqdm  # Display progress bars for loops\n",
    "from scipy.special import gamma  # Gamma function used in probability and statistics\n",
    "\n",
    "import keras  # High-level neural network API within TensorFlow\n",
    "from keras.optimizers import *  # Various optimizers (Adam, SGD, RMSprop, etc.)\n",
    "from keras.regularizers import l1_l2  # Regularization techniques (L1/L2) to prevent overfitting\n",
    "from keras.utils import to_categorical  # Converts class labels to one-hot encoding\n",
    "from keras.callbacks import EarlyStopping  # Stops training early if validation loss increases\n",
    "from keras.models import Sequential, Model  # Model architectures (Sequential = linear, Model = flexible)\n",
    "from keras.layers import Dense, Dropout, Input  # Fully connected layers, dropout for regularization, input layer\n",
    "from keras.layers import GlobalAveragePooling2D  # Replaces fully connected layers to reduce parameters\n",
    "from keras.callbacks import LearningRateScheduler  # Dynamically adjust learning rate during training\n",
    "from keras.layers import Conv2D, MaxPool2D, BatchNormalization  # CNN layers for feature extraction & normalization\n",
    "\n",
    "from tensorflow.keras.metrics import *  # Model evaluation metrics (accuracy, precision, recall, etc.)\n",
    "from tensorflow.keras.callbacks import *  # Various training callbacks (checkpointing, early stopping)\n",
    "from tensorflow.keras.preprocessing.image import ImageDataGenerator  # Augments images (rotation, zoom, flip, etc.)\n",
    "\n",
    "from sklearn.model_selection import train_test_split  # Splits data into training and testing sets\n",
    "from sklearn.utils import shuffle  # Shuffles data to prevent learning order biases"
   ]
  },
  {
   "cell_type": "code",
   "execution_count": 3,
   "id": "b6220501-b385-44b5-84bc-d6a9ed7010f3",
   "metadata": {},
   "outputs": [
    {
     "name": "stdout",
     "output_type": "stream",
     "text": [
      "meta.csv\n",
      "calc_case_description_test_set.csv\n",
      "calc_case_description_train_set.csv\n",
      "mass_case_description_train_set.csv\n",
      "mass_case_description_test_set.csv\n",
      "dicom_info.csv\n",
      "breast-cancer-image-tf45-diff-models.ipynb\n",
      "try-first.ipynb\n",
      "efficient-net-dual.ipynb\n",
      "dual_view.ipynb\n",
      "eff-2.ipynb\n",
      "main.py\n",
      "overfit-efficient-net.ipynb\n",
      "main.ipynb\n",
      "efficient-net-dual-server.ipynb\n",
      "overfit-efficient-net-server.ipynb\n",
      ".ipynb_checkpoints\n",
      "eff-breast-tf-3models.ipynb\n",
      "utils.ipynb\n",
      "correlation.ipynb\n",
      "hog.ipynb\n",
      "eff-net-3-models.ipynb\n",
      "prozess.ipynb\n",
      "README.md\n",
      ".git\n",
      "image.ipynb\n"
     ]
    },
    {
     "ename": "NotADirectoryError",
     "evalue": "[Errno 20] Not a directory: '/home/swanjohi/dual-view/cbis-ddsm-breast-cancer-image-dataset.zip'",
     "output_type": "error",
     "traceback": [
      "\u001b[31m---------------------------------------------------------------------------\u001b[39m",
      "\u001b[31mNotADirectoryError\u001b[39m                        Traceback (most recent call last)",
      "\u001b[36mCell\u001b[39m\u001b[36m \u001b[39m\u001b[32mIn[3]\u001b[39m\u001b[32m, line 9\u001b[39m\n\u001b[32m      7\u001b[39m         \u001b[38;5;28;01mpass\u001b[39;00m\n\u001b[32m      8\u001b[39m     \u001b[38;5;28;01melse\u001b[39;00m:\n\u001b[32m----> \u001b[39m\u001b[32m9\u001b[39m         \u001b[38;5;28;01mfor\u001b[39;00m file \u001b[38;5;129;01min\u001b[39;00m \u001b[43mos\u001b[49m\u001b[43m.\u001b[49m\u001b[43mlistdir\u001b[49m\u001b[43m(\u001b[49m\u001b[43mfiles_dir\u001b[49m\u001b[43m)\u001b[49m:\n\u001b[32m     10\u001b[39m             \u001b[38;5;28mprint\u001b[39m(file)\n\u001b[32m     12\u001b[39m \u001b[38;5;66;03m#Looping through each file/Folder and Ignore the folder named 'jpeg' and loop through the remaining files.\u001b[39;00m\n",
      "\u001b[31mNotADirectoryError\u001b[39m: [Errno 20] Not a directory: '/home/swanjohi/dual-view/cbis-ddsm-breast-cancer-image-dataset.zip'"
     ]
    }
   ],
   "source": [
    "path = \"/home/swanjohi/dual-view\"\n",
    "\n",
    "for files in os.listdir(path):\n",
    "    files_dir = os.path.join(path, files)\n",
    "\n",
    "    if files == 'jpeg':   # to pass 6774 files \n",
    "        pass\n",
    "    else:\n",
    "        for file in os.listdir(files_dir):\n",
    "            print(file)\n",
    "\n",
    "#Looping through each file/Folder and Ignore the folder named 'jpeg' and loop through the remaining files."
   ]
  },
  {
   "cell_type": "code",
   "execution_count": 5,
   "id": "0eb390c1-f5bc-4f2c-baf1-05a178133557",
   "metadata": {},
   "outputs": [],
   "source": [
    "dicom_df = pd.read_csv(\"/home/swanjohi/dual-view/csv/dicom_info.csv\")"
   ]
  },
  {
   "cell_type": "code",
   "execution_count": null,
   "id": "4cb88012-c375-4b70-87ad-23360db0845d",
   "metadata": {},
   "outputs": [],
   "source": [
    "dicom_df.head()"
   ]
  }
 ],
 "metadata": {
  "kernelspec": {
   "display_name": "Python 3 (ipykernel)",
   "language": "python",
   "name": "python3"
  },
  "language_info": {
   "codemirror_mode": {
    "name": "ipython",
    "version": 3
   },
   "file_extension": ".py",
   "mimetype": "text/x-python",
   "name": "python",
   "nbconvert_exporter": "python",
   "pygments_lexer": "ipython3",
   "version": "3.12.3"
  }
 },
 "nbformat": 4,
 "nbformat_minor": 5
}
