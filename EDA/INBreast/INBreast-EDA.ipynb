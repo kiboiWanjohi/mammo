{
 "cells": [
  {
   "cell_type": "code",
   "execution_count": 15,
   "id": "78104bde-62f6-48b7-a670-c91ffcb7ef2c",
   "metadata": {},
   "outputs": [],
   "source": [
    "# load inbreast dataset \n",
    "import pandas as pd\n",
    "import numpy as np \n",
    "import matplotlib.pyplot as plt \n"
   ]
  },
  {
   "cell_type": "code",
   "execution_count": 17,
   "id": "0b46d8c0-f3cf-4f63-9e1a-3c546cfb695f",
   "metadata": {},
   "outputs": [
    {
     "name": "stdout",
     "output_type": "stream",
     "text": [
      "Collecting pydicom\n",
      "  Downloading pydicom-3.0.1-py3-none-any.whl.metadata (9.4 kB)\n",
      "Downloading pydicom-3.0.1-py3-none-any.whl (2.4 MB)\n",
      "\u001b[2K   \u001b[90m━━━━━━━━━━━━━━━━━━━━━━━━━━━━━━━━━━━━━━━━\u001b[0m \u001b[32m2.4/2.4 MB\u001b[0m \u001b[31m38.8 MB/s\u001b[0m eta \u001b[36m0:00:00\u001b[0ma \u001b[36m0:00:01\u001b[0m\n",
      "\u001b[?25hInstalling collected packages: pydicom\n",
      "Successfully installed pydicom-3.0.1\n"
     ]
    }
   ],
   "source": [
    "! pip install pydicom"
   ]
  },
  {
   "cell_type": "code",
   "execution_count": 19,
   "id": "f1506f14-37a3-4734-acaf-ab816c5314b8",
   "metadata": {},
   "outputs": [
    {
     "name": "stdout",
     "output_type": "stream",
     "text": [
      "Total CC views: 203\n",
      "Total MLO (ML) views: 206\n",
      "Other/Unclassified: 1\n"
     ]
    }
   ],
   "source": [
    "import os\n",
    "\n",
    "# Path to DICOM files\n",
    "dicom_dir = \"/home/swanjohi/dual-view/INBreast_DF/INbreast_Release_One/AllDICOMs\"\n",
    "\n",
    "# Initialize counters\n",
    "cc_count = 0\n",
    "mlo_count = 0\n",
    "other_count = 0\n",
    "\n",
    "# Iterate through files\n",
    "for filename in os.listdir(dicom_dir):\n",
    "    if filename.endswith('.dcm'):\n",
    "        # Check filename for view type (case-insensitive)\n",
    "        if '_CC_' in filename.upper():\n",
    "            cc_count += 1\n",
    "        elif '_ML_' in filename.upper(): \n",
    "            mlo_count += 1\n",
    "        else:\n",
    "            other_count += 1\n",
    "\n",
    "# Results\n",
    "print(f\"Total CC views: {cc_count}\")\n",
    "print(f\"Total MLO (ML) views: {mlo_count}\")\n",
    "print(f\"Other/Unclassified: {other_count}\")"
   ]
  }
 ],
 "metadata": {
  "kernelspec": {
   "display_name": "Python 3 (ipykernel)",
   "language": "python",
   "name": "python3"
  },
  "language_info": {
   "codemirror_mode": {
    "name": "ipython",
    "version": 3
   },
   "file_extension": ".py",
   "mimetype": "text/x-python",
   "name": "python",
   "nbconvert_exporter": "python",
   "pygments_lexer": "ipython3",
   "version": "3.12.3"
  }
 },
 "nbformat": 4,
 "nbformat_minor": 5
}
