{
 "cells": [
  {
   "cell_type": "markdown",
   "metadata": {
    "papermill": {
     "duration": 0.034013,
     "end_time": "2023-12-30T16:58:35.201575",
     "exception": false,
     "start_time": "2023-12-30T16:58:35.167562",
     "status": "completed"
    },
    "tags": []
   },
   "source": [
    "### Breast Cancer Detection using EfficientNet| Dataset used - CBIS-DDSM"
   ]
  },
  {
   "cell_type": "markdown",
   "metadata": {},
   "source": [
    "## Import Required Libraries"
   ]
  },
  {
   "cell_type": "code",
   "execution_count": 2,
   "metadata": {
    "papermill": {
     "duration": 13.472484,
     "end_time": "2023-12-30T16:58:48.775926",
     "exception": false,
     "start_time": "2023-12-30T16:58:35.303442",
     "status": "completed"
    },
    "tags": []
   },
   "outputs": [
    {
     "ename": "ModuleNotFoundError",
     "evalue": "No module named 'seaborn'",
     "output_type": "error",
     "traceback": [
      "\u001b[31m---------------------------------------------------------------------------\u001b[39m",
      "\u001b[31mModuleNotFoundError\u001b[39m                       Traceback (most recent call last)",
      "\u001b[36mCell\u001b[39m\u001b[36m \u001b[39m\u001b[32mIn[2]\u001b[39m\u001b[32m, line 7\u001b[39m\n\u001b[32m      5\u001b[39m \u001b[38;5;28;01mimport\u001b[39;00m\u001b[38;5;250m \u001b[39m\u001b[34;01mmatplotlib\u001b[39;00m\u001b[34;01m.\u001b[39;00m\u001b[34;01mpyplot\u001b[39;00m\u001b[38;5;250m \u001b[39m\u001b[38;5;28;01mas\u001b[39;00m\u001b[38;5;250m \u001b[39m\u001b[34;01mplt\u001b[39;00m\n\u001b[32m      6\u001b[39m \u001b[38;5;28;01mimport\u001b[39;00m\u001b[38;5;250m \u001b[39m\u001b[34;01mplotly\u001b[39;00m\u001b[34;01m.\u001b[39;00m\u001b[34;01mexpress\u001b[39;00m\u001b[38;5;250m \u001b[39m\u001b[38;5;28;01mas\u001b[39;00m\u001b[38;5;250m \u001b[39m\u001b[34;01mpx\u001b[39;00m\n\u001b[32m----> \u001b[39m\u001b[32m7\u001b[39m \u001b[38;5;28;01mimport\u001b[39;00m\u001b[38;5;250m \u001b[39m\u001b[34;01mseaborn\u001b[39;00m\u001b[38;5;250m \u001b[39m\u001b[38;5;28;01mas\u001b[39;00m\u001b[38;5;250m \u001b[39m\u001b[34;01msns\u001b[39;00m\n\u001b[32m      8\u001b[39m \u001b[38;5;28;01mimport\u001b[39;00m\u001b[38;5;250m \u001b[39m\u001b[34;01mpandas\u001b[39;00m\u001b[38;5;250m \u001b[39m\u001b[38;5;28;01mas\u001b[39;00m\u001b[38;5;250m \u001b[39m\u001b[34;01mpd\u001b[39;00m\n\u001b[32m      9\u001b[39m \u001b[38;5;28;01mimport\u001b[39;00m\u001b[38;5;250m \u001b[39m\u001b[34;01mPIL\u001b[39;00m \n",
      "\u001b[31mModuleNotFoundError\u001b[39m: No module named 'seaborn'"
     ]
    }
   ],
   "source": [
    "import sys\n",
    "import os\n",
    "from os import listdir\n",
    "import numpy as np\n",
    "import matplotlib.pyplot as plt\n",
    "import plotly.express as px\n",
    "import seaborn as sns\n",
    "import pandas as pd\n",
    "import PIL \n",
    "import random\n",
    "random.seed(100)\n",
    "np.random.seed(100)\n",
    "\n",
    "# Display some images\n",
    "import matplotlib.image as mpimg\n",
    "\n",
    "import tensorflow as tf\n",
    "\n",
    "import cv2\n",
    "\n",
    "from sklearn.model_selection import train_test_split\n",
    "from tensorflow.keras.utils import to_categorical\n",
    "# Import necessary TensorFlow libraries\n",
    "\n",
    "from tensorflow.keras.models import Sequential\n",
    "from tensorflow.keras.layers import Conv2D, MaxPooling2D, Flatten, Dense\n",
    "from tensorflow.keras.optimizers import Adam, AdamW\n",
    "from tensorflow.keras.preprocessing.image import ImageDataGenerator\n",
    "from tensorflow.keras.utils import plot_model\n",
    "\n",
    "# from tensorflow.keras.applications.resnet50 import ResNet50\n",
    "\n",
    "from tensorflow.keras.layers import GlobalAveragePooling2D, BatchNormalization\n",
    "from tensorflow.keras.models import Model\n",
    "\n",
    "from tensorflow.keras.layers import Input, Dense, Dropout\n",
    "# from tensorflow.keras.applications.densenet import DenseNet169\n",
    "import keras\n",
    "from tensorflow.keras.callbacks import EarlyStopping, ReduceLROnPlateau\n",
    "from keras.utils import to_categorical\n",
    "\n",
    "from sklearn.metrics import accuracy_score, recall_score, precision_score, f1_score, confusion_matrix\n",
    "import warnings\n",
    "\n",
    "# Suppress all warnings globally\n",
    "warnings.filterwarnings(\"ignore\")"
   ]
  },
  {
   "cell_type": "code",
   "execution_count": null,
   "metadata": {
    "papermill": {
     "duration": 0.042814,
     "end_time": "2023-12-30T16:58:48.909734",
     "exception": false,
     "start_time": "2023-12-30T16:58:48.86692",
     "status": "completed"
    },
    "tags": []
   },
   "outputs": [],
   "source": [
    "# get the current working directory\n",
    "current_working_directory = os.getcwd()\n",
    "\n",
    "# print output to the console\n",
    "print(current_working_directory)\n",
    "\n",
    "# output will look something similar to this on a macOS system\n",
    "# /Users/dionysialemonaki/Documents/my-projects/python-project"
   ]
  },
  {
   "cell_type": "markdown",
   "metadata": {},
   "source": [
    "##  Data Acquisition"
   ]
  },
  {
   "cell_type": "code",
   "execution_count": null,
   "metadata": {
    "papermill": {
     "duration": 0.104288,
     "end_time": "2023-12-30T16:58:49.047942",
     "exception": false,
     "start_time": "2023-12-30T16:58:48.943654",
     "status": "completed"
    },
    "tags": []
   },
   "outputs": [],
   "source": [
    "# Provide the correct path to the CSV file\n",
    "csv_path = '/kaggle/input/cbis-ddsm-breast-cancer-image-dataset/csv/meta.csv'\n",
    "\n",
    "# Read the CSV file into a DataFrame\n",
    "df_meta = pd.read_csv(csv_path)\n",
    "\n",
    "# Display the DataFrame\n",
    "df_meta"
   ]
  },
  {
   "cell_type": "code",
   "execution_count": null,
   "metadata": {
    "papermill": {
     "duration": 0.245911,
     "end_time": "2023-12-30T16:58:49.330005",
     "exception": false,
     "start_time": "2023-12-30T16:58:49.084094",
     "status": "completed"
    },
    "tags": []
   },
   "outputs": [],
   "source": [
    "dicom_data = pd.read_csv('/kaggle/input/cbis-ddsm-breast-cancer-image-dataset/csv/dicom_info.csv')\n",
    "dicom_data.head()"
   ]
  },
  {
   "cell_type": "markdown",
   "metadata": {},
   "source": [
    "### Exploratory Data Analysis"
   ]
  },
  {
   "cell_type": "code",
   "execution_count": null,
   "metadata": {
    "papermill": {
     "duration": 0.078,
     "end_time": "2023-12-30T16:58:49.445932",
     "exception": false,
     "start_time": "2023-12-30T16:58:49.367932",
     "status": "completed"
    },
    "tags": []
   },
   "outputs": [],
   "source": [
    "dicom_data.info()"
   ]
  },
  {
   "cell_type": "code",
   "execution_count": null,
   "metadata": {
    "papermill": {
     "duration": 0.045779,
     "end_time": "2023-12-30T16:58:49.52781",
     "exception": false,
     "start_time": "2023-12-30T16:58:49.482031",
     "status": "completed"
    },
    "tags": []
   },
   "outputs": [],
   "source": [
    "dicom_data.SeriesDescription.unique()"
   ]
  },
  {
   "cell_type": "code",
   "execution_count": null,
   "metadata": {
    "papermill": {
     "duration": 0.066008,
     "end_time": "2023-12-30T16:58:49.628663",
     "exception": false,
     "start_time": "2023-12-30T16:58:49.562655",
     "status": "completed"
    },
    "tags": []
   },
   "outputs": [],
   "source": [
    "image_dir = '/kaggle/input/cbis-ddsm-breast-cancer-image-dataset/jpeg'\n",
    "full_mammogram_images = dicom_data[dicom_data.SeriesDescription == 'full mammogram images'].image_path\n",
    "cropped_images = dicom_data[dicom_data.SeriesDescription == 'cropped images'].image_path\n",
    "roi_mask_images = dicom_data[dicom_data.SeriesDescription == 'ROI mask images'].image_path\n",
    "\n",
    "full_mammogram_images = full_mammogram_images.apply(lambda x: x.replace('CBIS-DDSM/jpeg', image_dir))\n",
    "cropped_images = cropped_images.apply(lambda x: x.replace('CBIS-DDSM/jpeg', image_dir))\n",
    "roi_mask_images = roi_mask_images.apply(lambda x: x.replace('CBIS-DDSM/jpeg', image_dir))\n",
    "full_mammogram_images.iloc[0]"
   ]
  },
  {
   "cell_type": "code",
   "execution_count": null,
   "metadata": {
    "papermill": {
     "duration": 0.044279,
     "end_time": "2023-12-30T16:58:49.710162",
     "exception": false,
     "start_time": "2023-12-30T16:58:49.665883",
     "status": "completed"
    },
    "tags": []
   },
   "outputs": [],
   "source": [
    "full_mammogram_images.shape"
   ]
  },
  {
   "cell_type": "code",
   "execution_count": null,
   "metadata": {
    "papermill": {
     "duration": 0.043043,
     "end_time": "2023-12-30T16:58:49.787732",
     "exception": false,
     "start_time": "2023-12-30T16:58:49.744689",
     "status": "completed"
    },
    "tags": []
   },
   "outputs": [],
   "source": [
    "cropped_images.iloc[0]"
   ]
  },
  {
   "cell_type": "code",
   "execution_count": null,
   "metadata": {
    "papermill": {
     "duration": 0.042546,
     "end_time": "2023-12-30T16:58:49.866435",
     "exception": false,
     "start_time": "2023-12-30T16:58:49.823889",
     "status": "completed"
    },
    "tags": []
   },
   "outputs": [],
   "source": [
    "cropped_images.shape"
   ]
  },
  {
   "cell_type": "code",
   "execution_count": null,
   "metadata": {
    "papermill": {
     "duration": 0.042619,
     "end_time": "2023-12-30T16:58:49.94303",
     "exception": false,
     "start_time": "2023-12-30T16:58:49.900411",
     "status": "completed"
    },
    "tags": []
   },
   "outputs": [],
   "source": [
    "roi_mask_images.iloc[0]"
   ]
  },
  {
   "cell_type": "code",
   "execution_count": null,
   "metadata": {
    "papermill": {
     "duration": 0.043236,
     "end_time": "2023-12-30T16:58:50.02045",
     "exception": false,
     "start_time": "2023-12-30T16:58:49.977214",
     "status": "completed"
    },
    "tags": []
   },
   "outputs": [],
   "source": [
    "roi_mask_images.shape"
   ]
  },
  {
   "cell_type": "code",
   "execution_count": null,
   "metadata": {
    "papermill": {
     "duration": 0.052076,
     "end_time": "2023-12-30T16:58:50.106915",
     "exception": false,
     "start_time": "2023-12-30T16:58:50.054839",
     "status": "completed"
    },
    "tags": []
   },
   "outputs": [],
   "source": [
    "full_mammogram_dict = dict()\n",
    "cropped_dict = dict()\n",
    "roi_mask_dict = dict()\n",
    "\n",
    "for dicom in full_mammogram_images:\n",
    "    # print(dicom)\n",
    "    key = dicom.split(\"/\")[5]\n",
    "    # print(key)\n",
    "    full_mammogram_dict[key] = dicom\n",
    "for dicom in cropped_images:\n",
    "    key = dicom.split(\"/\")[5]\n",
    "    cropped_dict[key] = dicom\n",
    "for dicom in roi_mask_images:\n",
    "    key = dicom.split(\"/\")[5]\n",
    "    roi_mask_dict[key] = dicom"
   ]
  },
  {
   "cell_type": "code",
   "execution_count": null,
   "metadata": {
    "papermill": {
     "duration": 0.043002,
     "end_time": "2023-12-30T16:58:50.184542",
     "exception": false,
     "start_time": "2023-12-30T16:58:50.14154",
     "status": "completed"
    },
    "tags": []
   },
   "outputs": [],
   "source": [
    "next(iter((full_mammogram_dict.items())))"
   ]
  },
  {
   "cell_type": "code",
   "execution_count": null,
   "metadata": {
    "papermill": {
     "duration": 0.042784,
     "end_time": "2023-12-30T16:58:50.262783",
     "exception": false,
     "start_time": "2023-12-30T16:58:50.219999",
     "status": "completed"
    },
    "tags": []
   },
   "outputs": [],
   "source": [
    "sys.getsizeof(full_mammogram_dict)"
   ]
  },
  {
   "cell_type": "code",
   "execution_count": null,
   "metadata": {
    "papermill": {
     "duration": 0.043942,
     "end_time": "2023-12-30T16:58:50.341788",
     "exception": false,
     "start_time": "2023-12-30T16:58:50.297846",
     "status": "completed"
    },
    "tags": []
   },
   "outputs": [],
   "source": [
    "next(iter((cropped_dict.items())))"
   ]
  },
  {
   "cell_type": "code",
   "execution_count": null,
   "metadata": {
    "papermill": {
     "duration": 0.045117,
     "end_time": "2023-12-30T16:58:50.422",
     "exception": false,
     "start_time": "2023-12-30T16:58:50.376883",
     "status": "completed"
    },
    "tags": []
   },
   "outputs": [],
   "source": [
    "sys.getsizeof(cropped_images)"
   ]
  },
  {
   "cell_type": "code",
   "execution_count": null,
   "metadata": {
    "papermill": {
     "duration": 0.044731,
     "end_time": "2023-12-30T16:58:50.501918",
     "exception": false,
     "start_time": "2023-12-30T16:58:50.457187",
     "status": "completed"
    },
    "tags": []
   },
   "outputs": [],
   "source": [
    "next(iter((roi_mask_dict.items())))"
   ]
  },
  {
   "cell_type": "code",
   "execution_count": null,
   "metadata": {
    "papermill": {
     "duration": 0.046779,
     "end_time": "2023-12-30T16:58:50.584011",
     "exception": false,
     "start_time": "2023-12-30T16:58:50.537232",
     "status": "completed"
    },
    "tags": []
   },
   "outputs": [],
   "source": [
    "sys.getsizeof(roi_mask_images)"
   ]
  },
  {
   "cell_type": "markdown",
   "metadata": {
    "papermill": {
     "duration": 0.035514,
     "end_time": "2023-12-30T16:58:50.655277",
     "exception": false,
     "start_time": "2023-12-30T16:58:50.619763",
     "status": "completed"
    },
    "tags": []
   },
   "source": [
    "mass and calci csv read (train and test)"
   ]
  },
  {
   "cell_type": "code",
   "execution_count": null,
   "metadata": {
    "papermill": {
     "duration": 0.113156,
     "end_time": "2023-12-30T16:58:50.803934",
     "exception": false,
     "start_time": "2023-12-30T16:58:50.690778",
     "status": "completed"
    },
    "tags": []
   },
   "outputs": [],
   "source": [
    "mass_train_data = pd.read_csv('/kaggle/input/cbis-ddsm-breast-cancer-image-dataset/csv/mass_case_description_train_set.csv')\n",
    "mass_test_data = pd.read_csv('/kaggle/input/cbis-ddsm-breast-cancer-image-dataset/csv/mass_case_description_test_set.csv')\n",
    "calc_train_data = pd.read_csv('/kaggle/input/cbis-ddsm-breast-cancer-image-dataset/csv/calc_case_description_train_set.csv')\n",
    "calc_test_data = pd.read_csv('/kaggle/input/cbis-ddsm-breast-cancer-image-dataset/csv/calc_case_description_test_set.csv')"
   ]
  },
  {
   "cell_type": "code",
   "execution_count": null,
   "metadata": {
    "papermill": {
     "duration": 0.05447,
     "end_time": "2023-12-30T16:58:50.894716",
     "exception": false,
     "start_time": "2023-12-30T16:58:50.840246",
     "status": "completed"
    },
    "tags": []
   },
   "outputs": [],
   "source": [
    "mass_train_data.head()"
   ]
  },
  {
   "cell_type": "code",
   "execution_count": null,
   "metadata": {
    "papermill": {
     "duration": 0.054523,
     "end_time": "2023-12-30T16:58:50.985335",
     "exception": false,
     "start_time": "2023-12-30T16:58:50.930812",
     "status": "completed"
    },
    "tags": []
   },
   "outputs": [],
   "source": [
    "# mass_data = mass_train_data.append(mass_test_data)\n",
    "mass_test_data.head()"
   ]
  },
  {
   "cell_type": "code",
   "execution_count": null,
   "metadata": {
    "papermill": {
     "duration": 0.055887,
     "end_time": "2023-12-30T16:58:51.079327",
     "exception": false,
     "start_time": "2023-12-30T16:58:51.02344",
     "status": "completed"
    },
    "tags": []
   },
   "outputs": [],
   "source": [
    "calc_train_data.head()"
   ]
  },
  {
   "cell_type": "code",
   "execution_count": null,
   "metadata": {
    "papermill": {
     "duration": 0.054957,
     "end_time": "2023-12-30T16:58:51.171275",
     "exception": false,
     "start_time": "2023-12-30T16:58:51.116318",
     "status": "completed"
    },
    "tags": []
   },
   "outputs": [],
   "source": [
    "calc_test_data.head()"
   ]
  },
  {
   "cell_type": "code",
   "execution_count": null,
   "metadata": {
    "papermill": {
     "duration": 0.047896,
     "end_time": "2023-12-30T16:58:51.256223",
     "exception": false,
     "start_time": "2023-12-30T16:58:51.208327",
     "status": "completed"
    },
    "tags": []
   },
   "outputs": [],
   "source": [
    "# Count the number of benign and malignant cases in the training set\n",
    "train_counts = mass_train_data['pathology'].value_counts()\n",
    "\n",
    "# Count the number of benign and malignant cases in the test set\n",
    "test_counts = mass_test_data['pathology'].value_counts()\n",
    "\n",
    "# Display the results\n",
    "print(\"Mass Training Set:\")\n",
    "print(train_counts)\n",
    "\n",
    "print(\"\\nMass Test Set:\")\n",
    "print(test_counts)"
   ]
  },
  {
   "cell_type": "code",
   "execution_count": null,
   "metadata": {
    "papermill": {
     "duration": 0.049131,
     "end_time": "2023-12-30T16:58:51.342165",
     "exception": false,
     "start_time": "2023-12-30T16:58:51.293034",
     "status": "completed"
    },
    "tags": []
   },
   "outputs": [],
   "source": [
    "# Count the number of benign and malignant cases in the training set\n",
    "train_counts = calc_train_data['pathology'].value_counts()\n",
    "\n",
    "# Count the number of benign and malignant cases in the test set\n",
    "test_counts = calc_test_data['pathology'].value_counts()\n",
    "\n",
    "# Display the results\n",
    "print(\"Calc Training Set:\")\n",
    "print(train_counts)\n",
    "\n",
    "print(\"\\nCalc Test Set:\")\n",
    "print(test_counts)"
   ]
  },
  {
   "cell_type": "markdown",
   "metadata": {
    "papermill": {
     "duration": 0.036624,
     "end_time": "2023-12-30T16:58:51.416059",
     "exception": false,
     "start_time": "2023-12-30T16:58:51.379435",
     "status": "completed"
    },
    "tags": []
   },
   "source": [
    "Path fix for mass"
   ]
  },
  {
   "cell_type": "code",
   "execution_count": null,
   "metadata": {
    "papermill": {
     "duration": 0.047986,
     "end_time": "2023-12-30T16:58:51.500856",
     "exception": false,
     "start_time": "2023-12-30T16:58:51.45287",
     "status": "completed"
    },
    "tags": []
   },
   "outputs": [],
   "source": [
    "def fix_image_path_mass(dataset):\n",
    "    for i, img in enumerate(dataset.values):\n",
    "        img_name = img[11].split(\"/\")[2]\n",
    "        if img_name in full_mammogram_dict:\n",
    "            dataset.iloc[i, 11] = full_mammogram_dict[img_name]\n",
    "\n",
    "        img_name = img[12].split(\"/\")[2]\n",
    "        if img_name in cropped_dict:\n",
    "            dataset.iloc[i, 12] = cropped_dict[img_name]\n",
    "        \n",
    "        img_name = img[13].split(\"/\")[2]\n",
    "        if img_name in roi_mask_dict:\n",
    "            dataset.iloc[i, 13] = roi_mask_dict[img_name]"
   ]
  },
  {
   "cell_type": "code",
   "execution_count": null,
   "metadata": {
    "papermill": {
     "duration": 0.377453,
     "end_time": "2023-12-30T16:58:51.917761",
     "exception": false,
     "start_time": "2023-12-30T16:58:51.540308",
     "status": "completed"
    },
    "tags": []
   },
   "outputs": [],
   "source": [
    "fix_image_path_mass(mass_train_data)"
   ]
  },
  {
   "cell_type": "code",
   "execution_count": null,
   "metadata": {
    "papermill": {
     "duration": 0.159038,
     "end_time": "2023-12-30T16:58:52.11549",
     "exception": false,
     "start_time": "2023-12-30T16:58:51.956452",
     "status": "completed"
    },
    "tags": []
   },
   "outputs": [],
   "source": [
    "fix_image_path_mass(mass_test_data)"
   ]
  },
  {
   "cell_type": "code",
   "execution_count": null,
   "metadata": {
    "papermill": {
     "duration": 0.061632,
     "end_time": "2023-12-30T16:58:52.215937",
     "exception": false,
     "start_time": "2023-12-30T16:58:52.154305",
     "status": "completed"
    },
    "tags": []
   },
   "outputs": [],
   "source": [
    "mass_train_data"
   ]
  },
  {
   "cell_type": "code",
   "execution_count": null,
   "metadata": {
    "papermill": {
     "duration": 0.062966,
     "end_time": "2023-12-30T16:58:52.320593",
     "exception": false,
     "start_time": "2023-12-30T16:58:52.257627",
     "status": "completed"
    },
    "tags": []
   },
   "outputs": [],
   "source": [
    "mass_test_data"
   ]
  },
  {
   "cell_type": "markdown",
   "metadata": {
    "papermill": {
     "duration": 0.03911,
     "end_time": "2023-12-30T16:58:52.401104",
     "exception": false,
     "start_time": "2023-12-30T16:58:52.361994",
     "status": "completed"
    },
    "tags": []
   },
   "source": [
    "Path fix for Calc"
   ]
  },
  {
   "cell_type": "code",
   "execution_count": null,
   "metadata": {
    "papermill": {
     "duration": 0.049345,
     "end_time": "2023-12-30T16:58:52.489436",
     "exception": false,
     "start_time": "2023-12-30T16:58:52.440091",
     "status": "completed"
    },
    "tags": []
   },
   "outputs": [],
   "source": [
    "def fix_image_path_calc(dataset):\n",
    "    for i, img in enumerate(dataset.values):\n",
    "        img_name = img[11].split(\"/\")[2]\n",
    "        if img_name in full_mammogram_dict:\n",
    "            dataset.iloc[i, 11] = full_mammogram_dict[img_name]\n",
    "\n",
    "        img_name = img[12].split(\"/\")[2]\n",
    "        if img_name in cropped_dict:\n",
    "            dataset.iloc[i, 12] = cropped_dict[img_name]\n",
    "        \n",
    "        img_name = img[13].split(\"/\")[2]\n",
    "        if img_name in roi_mask_dict:\n",
    "            dataset.iloc[i, 13] = roi_mask_dict[img_name]"
   ]
  },
  {
   "cell_type": "code",
   "execution_count": null,
   "metadata": {
    "papermill": {
     "duration": 0.422097,
     "end_time": "2023-12-30T16:58:52.95311",
     "exception": false,
     "start_time": "2023-12-30T16:58:52.531013",
     "status": "completed"
    },
    "tags": []
   },
   "outputs": [],
   "source": [
    "fix_image_path_calc(calc_train_data)"
   ]
  },
  {
   "cell_type": "code",
   "execution_count": null,
   "metadata": {
    "papermill": {
     "duration": 0.061937,
     "end_time": "2023-12-30T16:58:53.054264",
     "exception": false,
     "start_time": "2023-12-30T16:58:52.992327",
     "status": "completed"
    },
    "tags": []
   },
   "outputs": [],
   "source": [
    "calc_train_data"
   ]
  },
  {
   "cell_type": "code",
   "execution_count": null,
   "metadata": {
    "papermill": {
     "duration": 0.080004,
     "end_time": "2023-12-30T16:58:53.1736",
     "exception": false,
     "start_time": "2023-12-30T16:58:53.093596",
     "status": "completed"
    },
    "tags": []
   },
   "outputs": [],
   "source": [
    "fix_image_path_mass(calc_test_data)"
   ]
  },
  {
   "cell_type": "code",
   "execution_count": null,
   "metadata": {
    "papermill": {
     "duration": 0.063291,
     "end_time": "2023-12-30T16:58:53.27615",
     "exception": false,
     "start_time": "2023-12-30T16:58:53.212859",
     "status": "completed"
    },
    "tags": []
   },
   "outputs": [],
   "source": [
    "calc_test_data"
   ]
  },
  {
   "cell_type": "markdown",
   "metadata": {
    "papermill": {
     "duration": 0.039543,
     "end_time": "2023-12-30T16:58:53.359796",
     "exception": false,
     "start_time": "2023-12-30T16:58:53.320253",
     "status": "completed"
    },
    "tags": []
   },
   "source": [
    "### Data Cleaning"
   ]
  },
  {
   "cell_type": "code",
   "execution_count": null,
   "metadata": {
    "papermill": {
     "duration": 0.049749,
     "end_time": "2023-12-30T16:58:53.44933",
     "exception": false,
     "start_time": "2023-12-30T16:58:53.399581",
     "status": "completed"
    },
    "tags": []
   },
   "outputs": [],
   "source": [
    "# check unique values in pathology column\n",
    "mass_train_data.pathology.unique()"
   ]
  },
  {
   "cell_type": "code",
   "execution_count": null,
   "metadata": {
    "papermill": {
     "duration": 0.052027,
     "end_time": "2023-12-30T16:58:53.541768",
     "exception": false,
     "start_time": "2023-12-30T16:58:53.489741",
     "status": "completed"
    },
    "tags": []
   },
   "outputs": [],
   "source": [
    "calc_train_data.pathology.unique()"
   ]
  },
  {
   "cell_type": "code",
   "execution_count": null,
   "metadata": {
    "papermill": {
     "duration": 0.055623,
     "end_time": "2023-12-30T16:58:53.638922",
     "exception": false,
     "start_time": "2023-12-30T16:58:53.583299",
     "status": "completed"
    },
    "tags": []
   },
   "outputs": [],
   "source": [
    "mass_train_data.info()"
   ]
  },
  {
   "cell_type": "code",
   "execution_count": null,
   "metadata": {
    "papermill": {
     "duration": 0.055632,
     "end_time": "2023-12-30T16:58:53.734435",
     "exception": false,
     "start_time": "2023-12-30T16:58:53.678803",
     "status": "completed"
    },
    "tags": []
   },
   "outputs": [],
   "source": [
    "calc_train_data.info()"
   ]
  },
  {
   "cell_type": "code",
   "execution_count": null,
   "metadata": {
    "papermill": {
     "duration": 0.062631,
     "end_time": "2023-12-30T16:58:53.837519",
     "exception": false,
     "start_time": "2023-12-30T16:58:53.774888",
     "status": "completed"
    },
    "tags": []
   },
   "outputs": [],
   "source": [
    "# rename columns\n",
    "mass_train = mass_train_data.rename(columns={'left or right breast': 'left_or_right_breast',\n",
    "                                           'image view': 'image_view',\n",
    "                                           'abnormality id': 'abnormality_id',\n",
    "                                           'abnormality type': 'abnormality_type',\n",
    "                                           'mass shape': 'mass_shape',\n",
    "                                           'mass margins': 'mass_margins',\n",
    "                                           'image file path': 'image_file_path',\n",
    "                                           'cropped image file path': 'cropped_image_file_path',\n",
    "                                           'ROI mask file path': 'ROI_mask_file_path'})\n",
    "\n",
    "mass_train.head()"
   ]
  },
  {
   "cell_type": "code",
   "execution_count": null,
   "metadata": {
    "papermill": {
     "duration": 0.062869,
     "end_time": "2023-12-30T16:58:53.944521",
     "exception": false,
     "start_time": "2023-12-30T16:58:53.881652",
     "status": "completed"
    },
    "tags": []
   },
   "outputs": [],
   "source": [
    "# rename columns\n",
    "calc_train = calc_train_data.rename(columns={'left or right breast': 'left_or_right_breast',\n",
    "                                             'breast density':'breast_density',\n",
    "                                           'image view': 'image_view',\n",
    "                                           'abnormality id': 'abnormality_id',\n",
    "                                           'abnormality type': 'abnormality_type',\n",
    "                                           'calc type': 'calc_type',\n",
    "                                           'calc distribution': 'calc_distribution',\n",
    "                                           'image file path': 'image_file_path',\n",
    "                                           'cropped image file path': 'cropped_image_file_path',\n",
    "                                           'ROI mask file path': 'ROI_mask_file_path'})\n",
    "\n",
    "calc_train.head()"
   ]
  },
  {
   "cell_type": "code",
   "execution_count": null,
   "metadata": {
    "papermill": {
     "duration": 0.053218,
     "end_time": "2023-12-30T16:58:54.038703",
     "exception": false,
     "start_time": "2023-12-30T16:58:53.985485",
     "status": "completed"
    },
    "tags": []
   },
   "outputs": [],
   "source": [
    "# check for null values\n",
    "mass_train.isnull().sum()"
   ]
  },
  {
   "cell_type": "code",
   "execution_count": null,
   "metadata": {
    "papermill": {
     "duration": 0.052785,
     "end_time": "2023-12-30T16:58:54.132416",
     "exception": false,
     "start_time": "2023-12-30T16:58:54.079631",
     "status": "completed"
    },
    "tags": []
   },
   "outputs": [],
   "source": [
    "calc_train.isnull().sum()"
   ]
  },
  {
   "cell_type": "code",
   "execution_count": null,
   "metadata": {
    "papermill": {
     "duration": 0.060102,
     "end_time": "2023-12-30T16:58:54.234628",
     "exception": false,
     "start_time": "2023-12-30T16:58:54.174526",
     "status": "completed"
    },
    "tags": []
   },
   "outputs": [],
   "source": [
    "# fill in missing values using the backwards fill method\n",
    "mass_train['mass_shape'] = mass_train['mass_shape'].fillna(method='bfill')\n",
    "mass_train['mass_margins'] = mass_train['mass_margins'].fillna(method='bfill')\n",
    "\n",
    "#check null values\n",
    "mass_train.isnull().sum()"
   ]
  },
  {
   "cell_type": "code",
   "execution_count": null,
   "metadata": {
    "papermill": {
     "duration": 0.057494,
     "end_time": "2023-12-30T16:58:54.334093",
     "exception": false,
     "start_time": "2023-12-30T16:58:54.276599",
     "status": "completed"
    },
    "tags": []
   },
   "outputs": [],
   "source": [
    "# fill in missing values using the backwards fill method\n",
    "calc_train['calc_type'] = calc_train['calc_type'].fillna(method='bfill')\n",
    "calc_train['calc_distribution'] = calc_train['calc_distribution'].fillna(method='bfill')\n",
    "\n",
    "#check null values\n",
    "calc_train.isnull().sum()"
   ]
  },
  {
   "cell_type": "code",
   "execution_count": null,
   "metadata": {
    "papermill": {
     "duration": 0.052703,
     "end_time": "2023-12-30T16:58:54.428504",
     "exception": false,
     "start_time": "2023-12-30T16:58:54.375801",
     "status": "completed"
    },
    "tags": []
   },
   "outputs": [],
   "source": [
    "mass_test_data.isnull().sum()"
   ]
  },
  {
   "cell_type": "code",
   "execution_count": null,
   "metadata": {
    "papermill": {
     "duration": 0.054291,
     "end_time": "2023-12-30T16:58:54.524366",
     "exception": false,
     "start_time": "2023-12-30T16:58:54.470075",
     "status": "completed"
    },
    "tags": []
   },
   "outputs": [],
   "source": [
    "calc_test_data.isnull().sum()"
   ]
  },
  {
   "cell_type": "code",
   "execution_count": null,
   "metadata": {
    "papermill": {
     "duration": 0.059766,
     "end_time": "2023-12-30T16:58:54.645503",
     "exception": false,
     "start_time": "2023-12-30T16:58:54.585737",
     "status": "completed"
    },
    "tags": []
   },
   "outputs": [],
   "source": [
    "# check for column names in mass_test\n",
    "print(mass_test_data.columns,'\\n')\n",
    "\n",
    "# renaming the columns\n",
    "mass_test = mass_test_data.rename(columns={'left or right breast': 'left_or_right_breast',\n",
    "                                           'image view': 'image_view',\n",
    "                                           'abnormality id': 'abnormality_id',\n",
    "                                           'abnormality type': 'abnormality_type',\n",
    "                                           'mass shape': 'mass_shape',\n",
    "                                           'mass margins': 'mass_margins',\n",
    "                                           'image file path': 'image_file_path',\n",
    "                                           'cropped image file path': 'cropped_image_file_path',\n",
    "                                           'ROI mask file path': 'ROI_mask_file_path'})\n",
    "\n",
    "# renamed columns\n",
    "mass_test.columns"
   ]
  },
  {
   "cell_type": "code",
   "execution_count": null,
   "metadata": {
    "papermill": {
     "duration": 0.056024,
     "end_time": "2023-12-30T16:58:54.744196",
     "exception": false,
     "start_time": "2023-12-30T16:58:54.688172",
     "status": "completed"
    },
    "tags": []
   },
   "outputs": [],
   "source": [
    "# check for column names in mass_test\n",
    "print(calc_test_data.columns,'\\n')\n",
    "\n",
    "# renaming the columns\n",
    "calc_test = calc_test_data.rename(columns={'left or right breast': 'left_or_right_breast',\n",
    "                                           'breast density':'breast_density',\n",
    "                                           'image view': 'image_view',\n",
    "                                           'abnormality id': 'abnormality_id',\n",
    "                                           'abnormality type': 'abnormality_type',\n",
    "                                           'calc type': 'calc_type',\n",
    "                                           'calc distribution': 'calc_distribution',\n",
    "                                           'image file path': 'image_file_path',\n",
    "                                           'cropped image file path': 'cropped_image_file_path',\n",
    "                                           'ROI mask file path': 'ROI_mask_file_path'})\n",
    "\n",
    "# renamed columns\n",
    "calc_test.columns"
   ]
  },
  {
   "cell_type": "code",
   "execution_count": null,
   "metadata": {
    "papermill": {
     "duration": 0.056337,
     "end_time": "2023-12-30T16:58:54.842701",
     "exception": false,
     "start_time": "2023-12-30T16:58:54.786364",
     "status": "completed"
    },
    "tags": []
   },
   "outputs": [],
   "source": [
    "# fill in missing values using the backwards fill method\n",
    "calc_test['calc_type'] = calc_test['calc_type'].fillna(method='bfill')\n",
    "calc_test['calc_distribution'] = calc_test['calc_distribution'].fillna(method='bfill')\n",
    "#check null values\n",
    "calc_test.isnull().sum()"
   ]
  },
  {
   "cell_type": "markdown",
   "metadata": {
    "papermill": {
     "duration": 0.041457,
     "end_time": "2023-12-30T16:58:54.927957",
     "exception": false,
     "start_time": "2023-12-30T16:58:54.8865",
     "status": "completed"
    },
    "tags": []
   },
   "source": [
    "### Data Visualization"
   ]
  },
  {
   "cell_type": "code",
   "execution_count": null,
   "metadata": {
    "papermill": {
     "duration": 0.068013,
     "end_time": "2023-12-30T16:58:55.03866",
     "exception": false,
     "start_time": "2023-12-30T16:58:54.970647",
     "status": "completed"
    },
    "tags": []
   },
   "outputs": [],
   "source": [
    "# quantitative summary of features\n",
    "mass_train.describe()"
   ]
  },
  {
   "cell_type": "code",
   "execution_count": null,
   "metadata": {
    "papermill": {
     "duration": 0.065253,
     "end_time": "2023-12-30T16:58:55.146171",
     "exception": false,
     "start_time": "2023-12-30T16:58:55.080918",
     "status": "completed"
    },
    "tags": []
   },
   "outputs": [],
   "source": [
    "calc_train.describe()"
   ]
  },
  {
   "cell_type": "code",
   "execution_count": null,
   "metadata": {
    "papermill": {
     "duration": 0.052031,
     "end_time": "2023-12-30T16:58:55.241292",
     "exception": false,
     "start_time": "2023-12-30T16:58:55.189261",
     "status": "completed"
    },
    "tags": []
   },
   "outputs": [],
   "source": [
    "# check datasets shape\n",
    "print(f'Shape of mass_train: {mass_train.shape}')\n",
    "print(f'Shape of mass_test: {mass_test.shape}')"
   ]
  },
  {
   "cell_type": "code",
   "execution_count": null,
   "metadata": {
    "papermill": {
     "duration": 0.051872,
     "end_time": "2023-12-30T16:58:55.335861",
     "exception": false,
     "start_time": "2023-12-30T16:58:55.283989",
     "status": "completed"
    },
    "tags": []
   },
   "outputs": [],
   "source": [
    "# check datasets shape\n",
    "print(f'Shape of calc_train: {calc_train.shape}')\n",
    "print(f'Shape of calc_test: {calc_test.shape}')"
   ]
  },
  {
   "cell_type": "code",
   "execution_count": null,
   "metadata": {
    "papermill": {
     "duration": 0.196011,
     "end_time": "2023-12-30T16:58:55.575316",
     "exception": false,
     "start_time": "2023-12-30T16:58:55.379305",
     "status": "completed"
    },
    "tags": []
   },
   "outputs": [],
   "source": [
    "# pathology distributions\n",
    "value = mass_train['pathology'].value_counts() + calc_train['pathology'].value_counts()\n",
    "plt.figure(figsize=(8,6))\n",
    "\n",
    "plt.pie(value, labels=value.index, autopct='%1.1f%%')\n",
    "plt.title('Breast Cancer Mass Types', fontsize=12)\n",
    "plt.show()"
   ]
  },
  {
   "cell_type": "code",
   "execution_count": null,
   "metadata": {
    "papermill": {
     "duration": 0.531093,
     "end_time": "2023-12-30T16:58:56.152189",
     "exception": false,
     "start_time": "2023-12-30T16:58:55.621096",
     "status": "completed"
    },
    "tags": []
   },
   "outputs": [],
   "source": [
    "# Assuming mass_train and calc_train are your DataFrames\n",
    "\n",
    "# Set the color palette for mass_train\n",
    "mass_palette = sns.color_palette(\"viridis\", n_colors=len(mass_train['assessment'].unique()))\n",
    "sns.countplot(data=mass_train, y='assessment', hue='pathology', palette=mass_palette)\n",
    "plt.title('Count Plot for mass_train')\n",
    "plt.show()\n",
    "\n",
    "# Set the color palette for calc_train\n",
    "calc_palette = sns.color_palette(\"magma\", n_colors=len(calc_train['assessment'].unique()))\n",
    "sns.countplot(data=calc_train, y='assessment', hue='pathology', palette=calc_palette)\n",
    "plt.title('Count Plot for calc_train')\n",
    "plt.show()"
   ]
  },
  {
   "cell_type": "code",
   "execution_count": null,
   "metadata": {
    "papermill": {
     "duration": 0.372619,
     "end_time": "2023-12-30T16:58:56.568933",
     "exception": false,
     "start_time": "2023-12-30T16:58:56.196314",
     "status": "completed"
    },
    "tags": []
   },
   "outputs": [],
   "source": [
    "plt.figure(figsize=(8, 6))\n",
    "sns.countplot(data=mass_train, x='subtlety', palette='magma', hue='subtlety')\n",
    "plt.title('Breast Cancer Mass Subtlety', fontsize=12)\n",
    "plt.xlabel('Subtlety Grade')\n",
    "plt.ylabel('Count')\n",
    "plt.show()"
   ]
  },
  {
   "cell_type": "code",
   "execution_count": null,
   "metadata": {
    "papermill": {
     "duration": 0.3346,
     "end_time": "2023-12-30T16:58:56.950058",
     "exception": false,
     "start_time": "2023-12-30T16:58:56.615458",
     "status": "completed"
    },
    "tags": []
   },
   "outputs": [],
   "source": [
    "plt.figure(figsize=(8, 6))\n",
    "sns.countplot(data=calc_train, x='subtlety', palette='viridis', hue='subtlety')\n",
    "plt.title('Breast Cancer Calc Subtlety', fontsize=12)\n",
    "plt.xlabel('Subtlety Grade')\n",
    "plt.ylabel('Count')\n",
    "plt.show()"
   ]
  },
  {
   "cell_type": "code",
   "execution_count": null,
   "metadata": {
    "papermill": {
     "duration": 0.59304,
     "end_time": "2023-12-30T16:58:57.58827",
     "exception": false,
     "start_time": "2023-12-30T16:58:56.99523",
     "status": "completed"
    },
    "tags": []
   },
   "outputs": [],
   "source": [
    "# view breast mass shape distribution against pathology\n",
    "plt.figure(figsize=(8,6))\n",
    "\n",
    "sns.countplot(mass_train, x='mass_shape', hue='pathology')\n",
    "plt.title('Mass Shape Distribution by Pathology', fontsize=14)\n",
    "plt.xlabel('Mass Shape')\n",
    "plt.xticks(rotation=30, ha='right')\n",
    "plt.ylabel('Pathology Count')\n",
    "plt.legend()\n",
    "plt.show()"
   ]
  },
  {
   "cell_type": "code",
   "execution_count": null,
   "metadata": {
    "papermill": {
     "duration": 1.01196,
     "end_time": "2023-12-30T16:58:58.649293",
     "exception": false,
     "start_time": "2023-12-30T16:58:57.637333",
     "status": "completed"
    },
    "tags": []
   },
   "outputs": [],
   "source": [
    "plt.figure(figsize=(12, 8))\n",
    "\n",
    "sns.countplot(data=calc_train, y='calc_type', hue='pathology', palette='viridis')\n",
    "plt.title('Calcification Type Distribution by Pathology', fontsize=14)\n",
    "plt.xlabel('Pathology Count')\n",
    "plt.ylabel('Calc Type')\n",
    "\n",
    "# Adjust the rotation of the y-axis labels\n",
    "plt.yticks(rotation=0, ha='right')\n",
    "\n",
    "# Move the legend outside the plot for better visibility\n",
    "plt.legend(loc='upper right', bbox_to_anchor=(1.25, 1))\n",
    "\n",
    "plt.show()"
   ]
  },
  {
   "cell_type": "code",
   "execution_count": null,
   "metadata": {
    "papermill": {
     "duration": 0.301483,
     "end_time": "2023-12-30T16:58:58.999403",
     "exception": false,
     "start_time": "2023-12-30T16:58:58.69792",
     "status": "completed"
    },
    "tags": []
   },
   "outputs": [],
   "source": [
    "# breast density against pathology\n",
    "plt.figure(figsize=(8,6))\n",
    "\n",
    "sns.countplot(mass_train, x='breast_density', hue='pathology')\n",
    "plt.title('Breast Density vs Pathology\\n\\n1: fatty || 2: Scattered Fibroglandular Density\\n3: Heterogenously Dense || 4: Extremely Dense',\n",
    "          fontsize=14)\n",
    "plt.xlabel('Density Grades')\n",
    "plt.ylabel('Count')\n",
    "plt.legend()\n",
    "\n",
    "plt.show()"
   ]
  },
  {
   "cell_type": "code",
   "execution_count": null,
   "metadata": {
    "papermill": {
     "duration": 0.388152,
     "end_time": "2023-12-30T16:58:59.437691",
     "exception": false,
     "start_time": "2023-12-30T16:58:59.049539",
     "status": "completed"
    },
    "tags": []
   },
   "outputs": [],
   "source": [
    "# breast density against pathology\n",
    "plt.figure(figsize=(8,6))\n",
    "\n",
    "sns.countplot(calc_train, x='breast_density', hue='pathology')\n",
    "plt.title('Breast Density vs Pathology\\n\\n1: fatty || 2: Scattered Fibroglandular Density\\n3: Heterogenously Dense || 4: Extremely Dense',\n",
    "          fontsize=14)\n",
    "plt.xlabel('Density Grades')\n",
    "plt.ylabel('Count')\n",
    "plt.legend()\n",
    "\n",
    "plt.show()"
   ]
  },
  {
   "cell_type": "code",
   "execution_count": null,
   "metadata": {
    "papermill": {
     "duration": 0.069407,
     "end_time": "2023-12-30T16:58:59.559771",
     "exception": false,
     "start_time": "2023-12-30T16:58:59.490364",
     "status": "completed"
    },
    "tags": []
   },
   "outputs": [],
   "source": [
    "mass_train.head()"
   ]
  },
  {
   "cell_type": "code",
   "execution_count": null,
   "metadata": {
    "papermill": {
     "duration": 0.07636,
     "end_time": "2023-12-30T16:58:59.688695",
     "exception": false,
     "start_time": "2023-12-30T16:58:59.612335",
     "status": "completed"
    },
    "tags": []
   },
   "outputs": [],
   "source": [
    "calc_train.head()"
   ]
  },
  {
   "cell_type": "code",
   "execution_count": null,
   "metadata": {
    "papermill": {
     "duration": 10.436913,
     "end_time": "2023-12-30T16:59:10.176738",
     "exception": false,
     "start_time": "2023-12-30T16:58:59.739825",
     "status": "completed"
    },
    "tags": []
   },
   "outputs": [],
   "source": [
    "import matplotlib.image as mpimg\n",
    "\n",
    "def display_images(column, number):\n",
    "    \"\"\"displays images in the dataset\"\"\"\n",
    "    # create figure and axes\n",
    "    number_to_visualize = number\n",
    "    rows = 1\n",
    "    cols = number_to_visualize\n",
    "    fig, axes = plt.subplots(rows, cols, figsize=(15, 5))\n",
    "\n",
    "    # Loop through rows and display images\n",
    "    for index, row in mass_train.head(number_to_visualize).iterrows():\n",
    "        image_path = row[column]\n",
    "        print(image_path)\n",
    "        # Check if the file exists\n",
    "        if os.path.exists(image_path):\n",
    "            image = mpimg.imread(image_path)\n",
    "            ax = axes[index]\n",
    "            ax.imshow(image, cmap='gray')\n",
    "            ax.set_title(f\"{row['pathology']}\")\n",
    "            ax.axis('off')\n",
    "        else:\n",
    "            print(f\"File not found: {image_path}\")\n",
    "\n",
    "    plt.tight_layout()\n",
    "    plt.show()\n",
    "\n",
    "print('Mass Training Dataset\\n\\n')\n",
    "print('Full Mammograms:\\n')\n",
    "display_images('image_file_path', 5)\n",
    "print('Cropped Mammograms:\\n')\n",
    "display_images('cropped_image_file_path', 5)\n",
    "print('ROI Images:\\n')\n",
    "display_images('ROI_mask_file_path', 5)"
   ]
  },
  {
   "cell_type": "code",
   "execution_count": null,
   "metadata": {
    "papermill": {
     "duration": 10.040383,
     "end_time": "2023-12-30T16:59:20.278811",
     "exception": false,
     "start_time": "2023-12-30T16:59:10.238428",
     "status": "completed"
    },
    "tags": []
   },
   "outputs": [],
   "source": [
    "def display_images(column, number):\n",
    "    \"\"\"displays images in the dataset\"\"\"\n",
    "\n",
    "    number_to_visualize = number\n",
    "    rows = 1\n",
    "    cols = number_to_visualize\n",
    "    fig, axes = plt.subplots(rows, cols, figsize=(15, 5))\n",
    "\n",
    "    # Loop through all rows and display images\n",
    "    for index, row in calc_train.head(number_to_visualize).iterrows():\n",
    "        image_path = row[column]\n",
    "        print(image_path)\n",
    "        # Check if the file exists\n",
    "        if os.path.exists(image_path):\n",
    "            image = mpimg.imread(image_path)\n",
    "            ax = axes[index]\n",
    "            ax.imshow(image, cmap='gray')\n",
    "            ax.set_title(f\"{row['pathology']}\")\n",
    "            ax.axis('off')\n",
    "        else:\n",
    "            print(f\"File not found: {image_path}\")\n",
    "\n",
    "    plt.tight_layout()\n",
    "    plt.show()\n",
    "\n",
    "\n",
    "print('Calcification Trianing Dataset\\n\\n')\n",
    "print('Full Mammograms:\\n')\n",
    "display_images('image_file_path', 5)\n",
    "print('Cropped Mammograms:\\n')\n",
    "display_images('cropped_image_file_path', 5)\n",
    "print('ROI Images:\\n')\n",
    "display_images('ROI_mask_file_path', 5)"
   ]
  },
  {
   "cell_type": "code",
   "execution_count": null,
   "metadata": {
    "papermill": {
     "duration": 0.085159,
     "end_time": "2023-12-30T16:59:20.436257",
     "exception": false,
     "start_time": "2023-12-30T16:59:20.351098",
     "status": "completed"
    },
    "tags": []
   },
   "outputs": [],
   "source": [
    "# Merge the datasets\n",
    "mass_calc = pd.concat([mass_train, mass_test, calc_train, calc_test], axis=0)\n",
    "\n",
    "# Define target size\n",
    "target_size = (224, 224, 3)"
   ]
  },
  {
   "cell_type": "code",
   "execution_count": null,
   "metadata": {
    "papermill": {
     "duration": 0.097932,
     "end_time": "2023-12-30T16:59:20.605162",
     "exception": false,
     "start_time": "2023-12-30T16:59:20.50723",
     "status": "completed"
    },
    "tags": []
   },
   "outputs": [],
   "source": [
    "mass_calc"
   ]
  },
  {
   "cell_type": "markdown",
   "metadata": {
    "papermill": {
     "duration": 0.071745,
     "end_time": "2023-12-30T16:59:20.751243",
     "exception": false,
     "start_time": "2023-12-30T16:59:20.679498",
     "status": "completed"
    },
    "tags": []
   },
   "source": [
    "### Image Preprocessing"
   ]
  },
  {
   "cell_type": "code",
   "execution_count": null,
   "metadata": {
    "papermill": {
     "duration": 0.083639,
     "end_time": "2023-12-30T16:59:21.368759",
     "exception": false,
     "start_time": "2023-12-30T16:59:21.28512",
     "status": "completed"
    },
    "tags": []
   },
   "outputs": [],
   "source": [
    "def image_processor(image_path, target_size, base_directory=\"/kaggle/input/cbis-ddsm-breast-cancer-image-dataset/jpeg\"):\n",
    "    \"\"\"Preprocess images for Inception V3 model with Gaussian filter and CLAHE\"\"\"\n",
    "\n",
    "    # Check if a GPU is available\n",
    "    physical_devices = tf.config.list_physical_devices('GPU')\n",
    "    if len(physical_devices) == 0:\n",
    "        print(\"Warning: No GPU devices found. Using CPU.\")\n",
    "    else:\n",
    "        # give equal memory growth to all the GPUs \n",
    "        for i in range(len(physical_devices)):\n",
    "            tf.config.experimental.set_memory_growth(physical_devices[i], True)\n",
    "\n",
    "    absolute_image_path = os.path.abspath(image_path)\n",
    "\n",
    "    # Count for skipped and processed images\n",
    "    skipped_count = 0\n",
    "    processed_count = 0\n",
    "\n",
    "    # Check if the image path starts with the specified directory\n",
    "    if not absolute_image_path.startswith(base_directory):\n",
    "        skipped_count += 1\n",
    "        return None, skipped_count, processed_count\n",
    "\n",
    "    # Read the image using TensorFlow for GPU acceleration\n",
    "    image = tf.io.read_file(absolute_image_path)\n",
    "    image = tf.image.decode_jpeg(image, channels=3)\n",
    "    image = tf.image.convert_image_dtype(image, dtype=tf.float32)\n",
    "\n",
    "    # Resize the image\n",
    "    image = tf.image.resize(image, (target_size[0], target_size[1]))\n",
    "\n",
    "    # Normalize pixel values to be in the range [0, 1]\n",
    "    image_array = image.numpy()\n",
    "\n",
    "    processed_count += 1\n",
    "\n",
    "    return image_array, skipped_count, processed_count"
   ]
  },
  {
   "cell_type": "code",
   "execution_count": null,
   "metadata": {
    "execution": {
     "execution_failed": "2025-06-10T17:28:38.727Z"
    },
    "papermill": {
     "duration": 386.153032,
     "end_time": "2023-12-30T17:05:47.759859",
     "exception": false,
     "start_time": "2023-12-30T16:59:21.606827",
     "status": "completed"
    },
    "tags": []
   },
   "outputs": [],
   "source": [
    "import os\n",
    "os.environ[\"CUDA_VISIBLE_DEVICES\"]=\"0\"\n",
    "\n",
    "# Apply preprocessor to train data\n",
    "result = mass_calc['image_file_path'].apply(lambda x: pd.Series(image_processor(x, target_size), index=['image_array', 'skipped_count', 'processed_count']))\n",
    "\n",
    "# Extract processed images, skipped count, and processed count from the result\n",
    "mass_calc[['processed_images', 'skipped_count', 'processed_count']] = result\n",
    "\n",
    "# Filter out rows where processed_images is None\n",
    "mass_calc = mass_calc.dropna(subset=['processed_images'])"
   ]
  },
  {
   "cell_type": "code",
   "execution_count": null,
   "metadata": {
    "execution": {
     "execution_failed": "2025-06-10T17:28:38.727Z"
    },
    "papermill": {
     "duration": 0.655487,
     "end_time": "2023-12-30T17:05:48.493479",
     "exception": false,
     "start_time": "2023-12-30T17:05:47.837992",
     "status": "completed"
    },
    "tags": []
   },
   "outputs": [],
   "source": [
    "# Convert the processed_images column to an array\n",
    "X_resized = np.array(mass_calc['processed_images'].tolist())\n",
    "\n",
    "# Create a binary mapping\n",
    "class_mapper = {'MALIGNANT': 1, 'BENIGN': 0, 'BENIGN_WITHOUT_CALLBACK': 0}\n",
    "\n",
    "# Apply class mapper to pathology column\n",
    "mass_calc['labels'] = mass_calc['pathology'].replace(class_mapper)\n",
    "\n",
    "# Check the number of classes in the dataset\n",
    "num_classes = len(mass_calc['labels'].unique())"
   ]
  },
  {
   "cell_type": "code",
   "execution_count": null,
   "metadata": {
    "execution": {
     "execution_failed": "2025-06-10T17:28:38.728Z"
    },
    "papermill": {
     "duration": 0.081938,
     "end_time": "2023-12-30T17:05:49.407183",
     "exception": false,
     "start_time": "2023-12-30T17:05:49.325245",
     "status": "completed"
    },
    "tags": []
   },
   "outputs": [],
   "source": [
    "skipped_sum = mass_calc['skipped_count'].sum() \n",
    "\n",
    "print(f\"Total skipped count: {skipped_sum}\")\n",
    "\n",
    "processed_count = mass_calc['processed_count'].sum() \n",
    "\n",
    "print(f\"Total processed count: {processed_count}\")"
   ]
  },
  {
   "cell_type": "code",
   "execution_count": null,
   "metadata": {
    "execution": {
     "execution_failed": "2025-06-10T17:28:38.728Z"
    },
    "papermill": {
     "duration": 0.08253,
     "end_time": "2023-12-30T17:05:49.563097",
     "exception": false,
     "start_time": "2023-12-30T17:05:49.480567",
     "status": "completed"
    },
    "tags": []
   },
   "outputs": [],
   "source": [
    "mass_calc['processed_count'].sum()"
   ]
  },
  {
   "cell_type": "code",
   "execution_count": null,
   "metadata": {
    "execution": {
     "execution_failed": "2025-06-10T17:28:38.728Z"
    },
    "papermill": {
     "duration": 31.424311,
     "end_time": "2023-12-30T17:06:21.573465",
     "exception": false,
     "start_time": "2023-12-30T17:05:50.149154",
     "status": "completed"
    },
    "tags": []
   },
   "outputs": [],
   "source": [
    "mass_calc"
   ]
  },
  {
   "cell_type": "code",
   "execution_count": null,
   "metadata": {
    "execution": {
     "execution_failed": "2025-06-10T17:28:38.729Z"
    },
    "papermill": {
     "duration": 0.080346,
     "end_time": "2023-12-30T17:06:22.200588",
     "exception": false,
     "start_time": "2023-12-30T17:06:22.120242",
     "status": "completed"
    },
    "tags": []
   },
   "outputs": [],
   "source": [
    "print('Number of Classes:', num_classes)"
   ]
  },
  {
   "cell_type": "code",
   "execution_count": null,
   "metadata": {
    "execution": {
     "execution_failed": "2025-06-10T17:28:38.729Z"
    },
    "papermill": {
     "duration": 0.080991,
     "end_time": "2023-12-30T17:06:22.356091",
     "exception": false,
     "start_time": "2023-12-30T17:06:22.2751",
     "status": "completed"
    },
    "tags": []
   },
   "outputs": [],
   "source": [
    "mass_calc.shape"
   ]
  },
  {
   "cell_type": "markdown",
   "metadata": {
    "papermill": {
     "duration": 0.072936,
     "end_time": "2023-12-30T17:06:22.501509",
     "exception": false,
     "start_time": "2023-12-30T17:06:22.428573",
     "status": "completed"
    },
    "tags": []
   },
   "source": [
    "### Train Test Split"
   ]
  },
  {
   "cell_type": "code",
   "execution_count": null,
   "metadata": {
    "execution": {
     "execution_failed": "2025-06-10T17:28:38.729Z"
    },
    "papermill": {
     "duration": 0.083017,
     "end_time": "2023-12-30T17:06:22.658818",
     "exception": false,
     "start_time": "2023-12-30T17:06:22.575801",
     "status": "completed"
    },
    "tags": []
   },
   "outputs": [],
   "source": [
    "unique_labels_count = mass_calc['labels'].nunique()\n",
    "print(\"Total number of unique labels:\", unique_labels_count)"
   ]
  },
  {
   "cell_type": "code",
   "execution_count": null,
   "metadata": {
    "execution": {
     "execution_failed": "2025-06-10T17:28:38.730Z"
    },
    "papermill": {
     "duration": 0.092504,
     "end_time": "2023-12-30T17:06:22.833144",
     "exception": false,
     "start_time": "2023-12-30T17:06:22.74064",
     "status": "completed"
    },
    "tags": []
   },
   "outputs": [],
   "source": [
    "filled_labels_count = mass_calc['labels'].count()\n",
    "\n",
    "print(\"Total number of filled labels:\", filled_labels_count)"
   ]
  },
  {
   "cell_type": "code",
   "execution_count": null,
   "metadata": {
    "execution": {
     "execution_failed": "2025-06-10T17:28:38.730Z"
    },
    "papermill": {
     "duration": 0.081187,
     "end_time": "2023-12-30T17:06:22.98901",
     "exception": false,
     "start_time": "2023-12-30T17:06:22.907823",
     "status": "completed"
    },
    "tags": []
   },
   "outputs": [],
   "source": [
    "print(len(X_resized))\n",
    "print(len(mass_calc['labels'].values))"
   ]
  },
  {
   "cell_type": "code",
   "execution_count": null,
   "metadata": {
    "execution": {
     "execution_failed": "2025-06-10T17:28:38.730Z"
    },
    "papermill": {
     "duration": 0.084396,
     "end_time": "2023-12-30T17:06:23.146063",
     "exception": false,
     "start_time": "2023-12-30T17:06:23.061667",
     "status": "completed"
    },
    "tags": []
   },
   "outputs": [],
   "source": [
    "mass_calc = mass_calc.dropna(subset=['labels'])"
   ]
  },
  {
   "cell_type": "code",
   "execution_count": null,
   "metadata": {
    "execution": {
     "execution_failed": "2025-06-10T17:28:38.731Z"
    },
    "papermill": {
     "duration": 0.081428,
     "end_time": "2023-12-30T17:06:23.301319",
     "exception": false,
     "start_time": "2023-12-30T17:06:23.219891",
     "status": "completed"
    },
    "tags": []
   },
   "outputs": [],
   "source": [
    "print(len(X_resized))\n",
    "print(len(mass_calc['labels'].values))"
   ]
  },
  {
   "cell_type": "code",
   "execution_count": null,
   "metadata": {
    "execution": {
     "execution_failed": "2025-06-10T17:28:38.731Z"
    },
    "papermill": {
     "duration": 0.083653,
     "end_time": "2023-12-30T17:06:23.457588",
     "exception": false,
     "start_time": "2023-12-30T17:06:23.373935",
     "status": "completed"
    },
    "tags": []
   },
   "outputs": [],
   "source": [
    "# Assuming mass_calc is your DataFrame and 'labels' is the column of interest\n",
    "mass_calc = mass_calc.dropna(subset=['labels'])"
   ]
  },
  {
   "cell_type": "code",
   "execution_count": null,
   "metadata": {
    "execution": {
     "execution_failed": "2025-06-10T17:28:38.732Z"
    },
    "papermill": {
     "duration": 0.647024,
     "end_time": "2023-12-30T17:06:24.177849",
     "exception": false,
     "start_time": "2023-12-30T17:06:23.530825",
     "status": "completed"
    },
    "tags": []
   },
   "outputs": [],
   "source": [
    "# Assuming X_resized is a NumPy array\n",
    "# Remove corresponding rows from X_resized\n",
    "X_resized = X_resized[mass_calc.index]"
   ]
  },
  {
   "cell_type": "code",
   "execution_count": null,
   "metadata": {
    "execution": {
     "execution_failed": "2025-06-10T17:28:38.732Z"
    },
    "papermill": {
     "duration": 0.082126,
     "end_time": "2023-12-30T17:06:24.334127",
     "exception": false,
     "start_time": "2023-12-30T17:06:24.252001",
     "status": "completed"
    },
    "tags": []
   },
   "outputs": [],
   "source": [
    "print(len(X_resized))\n",
    "print(len(mass_calc['labels'].values))"
   ]
  },
  {
   "cell_type": "code",
   "execution_count": null,
   "metadata": {
    "execution": {
     "execution_failed": "2025-06-10T17:28:38.732Z"
    },
    "papermill": {
     "duration": 0.644355,
     "end_time": "2023-12-30T17:06:25.051308",
     "exception": false,
     "start_time": "2023-12-30T17:06:24.406953",
     "status": "completed"
    },
    "tags": []
   },
   "outputs": [],
   "source": [
    "# Split data into train, test, and validation sets \n",
    "X_train, X_temp, y_train, y_temp = train_test_split(X_resized, mass_calc['labels'].values, test_size=0.2, random_state=42, \n",
    "                                                    shuffle=True, stratify=mass_calc['labels'].values)"
   ]
  },
  {
   "cell_type": "code",
   "execution_count": null,
   "metadata": {
    "execution": {
     "execution_failed": "2025-06-10T17:28:38.733Z"
    },
    "papermill": {
     "duration": 0.218876,
     "end_time": "2023-12-30T17:06:25.350747",
     "exception": false,
     "start_time": "2023-12-30T17:06:25.131871",
     "status": "completed"
    },
    "tags": []
   },
   "outputs": [],
   "source": [
    "# Split data into train, test, and validation sets \n",
    "# X_train, X_temp, y_train, y_temp = train_test_split(X_resized, mass_calc['labels'].values, test_size=0.2, random_state=42)\n",
    "X_test, X_val, y_test, y_val = train_test_split(X_temp, y_temp, test_size=0.2, random_state=42, shuffle=True, stratify=y_temp)\n",
    "\n",
    "# Convert integer labels to one-hot encoded labels\n",
    "y_train = to_categorical(y_train, num_classes)\n",
    "y_test = to_categorical(y_test, num_classes)\n",
    "y_val = to_categorical(y_val, num_classes)"
   ]
  },
  {
   "cell_type": "code",
   "execution_count": null,
   "metadata": {
    "execution": {
     "execution_failed": "2025-06-10T17:28:38.733Z"
    },
    "papermill": {
     "duration": 0.084662,
     "end_time": "2023-12-30T17:06:25.531637",
     "exception": false,
     "start_time": "2023-12-30T17:06:25.446975",
     "status": "completed"
    },
    "tags": []
   },
   "outputs": [],
   "source": [
    "# Number of images in each set\n",
    "num_train_images = X_train.shape[0]\n",
    "num_test_images = X_test.shape[0]\n",
    "num_val_images = X_val.shape[0]\n",
    "\n",
    "print(\"Number of images in the training set:\", num_train_images)\n",
    "print(\"Number of images in the testing set:\", num_test_images)\n",
    "print(\"Number of images in the validation set:\", num_val_images)"
   ]
  },
  {
   "cell_type": "markdown",
   "metadata": {
    "papermill": {
     "duration": 0.074114,
     "end_time": "2023-12-30T17:06:25.685824",
     "exception": false,
     "start_time": "2023-12-30T17:06:25.61171",
     "status": "completed"
    },
    "tags": []
   },
   "source": [
    "### Data Augmentation"
   ]
  },
  {
   "cell_type": "code",
   "execution_count": null,
   "metadata": {
    "execution": {
     "execution_failed": "2025-06-10T17:28:38.734Z"
    },
    "papermill": {
     "duration": 0.085792,
     "end_time": "2023-12-30T17:06:26.171602",
     "exception": false,
     "start_time": "2023-12-30T17:06:26.08581",
     "status": "completed"
    },
    "tags": []
   },
   "outputs": [],
   "source": [
    "# Data_augmentation\n",
    "train_datagen = ImageDataGenerator(rotation_range=20,\n",
    "                                   rescale=1.0 / 255,\n",
    "                                   width_shift_range=0.2,\n",
    "                                   height_shift_range=0.2,\n",
    "                                   shear_range=0.2,\n",
    "                                   zoom_range=0.2,\n",
    "                                   horizontal_flip=True,\n",
    "                                   vertical_flip=True,\n",
    "                                   fill_mode='nearest')"
   ]
  },
  {
   "cell_type": "code",
   "execution_count": null,
   "metadata": {
    "execution": {
     "execution_failed": "2025-06-10T17:28:38.734Z"
    },
    "papermill": {
     "duration": 0.081337,
     "end_time": "2023-12-30T17:06:26.328464",
     "exception": false,
     "start_time": "2023-12-30T17:06:26.247127",
     "status": "completed"
    },
    "tags": []
   },
   "outputs": [],
   "source": [
    "# Apply augmentation to training data\n",
    "train_data_augmented = train_datagen.flow(X_train, y_train, batch_size=32)"
   ]
  },
  {
   "cell_type": "code",
   "execution_count": null,
   "metadata": {
    "execution": {
     "execution_failed": "2025-06-10T17:28:38.734Z"
    },
    "papermill": {
     "duration": 7.41432,
     "end_time": "2023-12-30T17:06:34.106532",
     "exception": false,
     "start_time": "2023-12-30T17:06:26.692212",
     "status": "completed"
    },
    "tags": []
   },
   "outputs": [],
   "source": [
    "from keras.applications import EfficientNetB2\n",
    "\n",
    "base_model = EfficientNetB2(include_top=False, input_tensor=Input(shape=(224, 224, 3)), weights=\"imagenet\",classes=2)\n",
    "\n",
    "# Freeze the layers of the base model\n",
    "for layer in base_model.layers:\n",
    "    layer.trainable = False\n",
    "\n",
    "# Add custom classification layers on top of the base model\n",
    "x = base_model.output\n",
    "x = GlobalAveragePooling2D()(x)\n",
    "x = Dense(2096, activation='silu')(x)\n",
    "x = BatchNormalization()(x)\n",
    "predictions = Dense(2, activation='softmax')(x)\n",
    "\n",
    "# Create the final model\n",
    "model = Model(inputs=base_model.input, outputs=predictions)"
   ]
  },
  {
   "cell_type": "code",
   "execution_count": null,
   "metadata": {
    "execution": {
     "execution_failed": "2025-06-10T17:28:38.735Z"
    },
    "papermill": {
     "duration": 1.07661,
     "end_time": "2023-12-30T17:06:35.262608",
     "exception": false,
     "start_time": "2023-12-30T17:06:34.185998",
     "status": "completed"
    },
    "tags": []
   },
   "outputs": [],
   "source": [
    "model.summary()"
   ]
  },
  {
   "cell_type": "markdown",
   "metadata": {},
   "source": [
    "## Model Report\n",
    "\n",
    "* Number of layers - 2 additional layers over and above the EfficientNet2B \n",
    "    Needed Global Average Pooling Layer as we had removed the penultimate layer from the EfficientNet 2B model\n",
    "    Needed last dense layer for 2 classes of output\n",
    "* Number of units in each layer - 2096 and 2 units respectively\n",
    "    Added 2096 units so that model learns the complex pattern\n",
    "* Total number of trainable parameters - 2961650 - as given in the model summary\n"
   ]
  },
  {
   "cell_type": "code",
   "execution_count": null,
   "metadata": {
    "execution": {
     "execution_failed": "2025-06-10T17:28:38.735Z"
    },
    "papermill": {
     "duration": 0.174148,
     "end_time": "2023-12-30T17:06:35.587473",
     "exception": false,
     "start_time": "2023-12-30T17:06:35.413325",
     "status": "completed"
    },
    "tags": []
   },
   "outputs": [],
   "source": [
    "decay_steps = 1000\n",
    "initial_learning_rate = 0.05\n",
    "lr_decayed_fn = keras.optimizers.schedules.CosineDecay(\n",
    "    initial_learning_rate, decay_steps)\n",
    "\n",
    "# Compile the model\n",
    "model.compile(optimizer=AdamW(learning_rate=lr_decayed_fn),\n",
    "              loss='binary_crossentropy',\n",
    "              metrics=['accuracy'])"
   ]
  },
  {
   "cell_type": "code",
   "execution_count": null,
   "metadata": {
    "execution": {
     "execution_failed": "2025-06-10T17:28:38.735Z"
    },
    "papermill": {
     "duration": 0.154977,
     "end_time": "2023-12-30T17:06:36.192648",
     "exception": false,
     "start_time": "2023-12-30T17:06:36.037671",
     "status": "completed"
    },
    "tags": []
   },
   "outputs": [],
   "source": [
    "# Check the output shape of your model\n",
    "print(model.output_shape)"
   ]
  },
  {
   "cell_type": "code",
   "execution_count": null,
   "metadata": {
    "execution": {
     "execution_failed": "2025-06-10T17:28:38.736Z"
    },
    "papermill": {
     "duration": 0.156125,
     "end_time": "2023-12-30T17:06:36.495727",
     "exception": false,
     "start_time": "2023-12-30T17:06:36.339602",
     "status": "completed"
    },
    "tags": []
   },
   "outputs": [],
   "source": [
    "# Define the EarlyStopping callback\n",
    "early_stopping = EarlyStopping(\n",
    "   monitor='val_loss',  # Monitor validation loss\n",
    "   patience=5,  \n",
    "   min_delta=0,  \n",
    "   mode='min', \n",
    "   verbose=1,  \n",
    "   restore_best_weights=True\n",
    ")\n",
    "\n"
   ]
  },
  {
   "cell_type": "code",
   "execution_count": null,
   "metadata": {
    "execution": {
     "execution_failed": "2025-06-10T17:28:38.736Z"
    },
    "papermill": {
     "duration": 0.241491,
     "end_time": "2023-12-30T17:23:16.126662",
     "exception": false,
     "start_time": "2023-12-30T17:23:15.885171",
     "status": "completed"
    },
    "tags": []
   },
   "outputs": [],
   "source": [
    "# Continue with the rest of the code\n",
    "history = model.fit(\n",
    "   train_data_augmented,\n",
    "   epochs=30,\n",
    "   validation_data=(X_val, y_val),\n",
    "   steps_per_epoch=len(X_train) // 32,\n",
    "   validation_steps=len(X_val),\n",
    "   callbacks=[early_stopping]  # Add the EarlyStopping callback\n",
    ")"
   ]
  },
  {
   "cell_type": "markdown",
   "metadata": {
    "papermill": {
     "duration": 0.232727,
     "end_time": "2023-12-30T17:23:17.54102",
     "exception": false,
     "start_time": "2023-12-30T17:23:17.308293",
     "status": "completed"
    },
    "tags": []
   },
   "source": [
    "### Plotting the results"
   ]
  },
  {
   "cell_type": "code",
   "execution_count": null,
   "metadata": {
    "execution": {
     "execution_failed": "2025-06-10T17:28:38.736Z"
    }
   },
   "outputs": [],
   "source": [
    "#plot to visualize the loss and accuracy against number of epochs\n",
    "plt.figure(figsize=(18,8))\n",
    "\n",
    "plt.suptitle('Loss and Accuracy Plots', fontsize=18)\n",
    "\n",
    "plt.subplot(1,2,1)\n",
    "plt.plot(history.history['loss'], label='Training Loss')\n",
    "plt.plot(history.history['val_loss'], label='Validation Loss')\n",
    "plt.legend()\n",
    "plt.xlabel('Number of epochs', fontsize=15)\n",
    "plt.ylabel('Loss', fontsize=15)\n",
    "\n",
    "plt.subplot(1,2,2)\n",
    "plt.plot(history.history['accuracy'], label='Train Accuracy')\n",
    "plt.plot(history.history['val_accuracy'], label='Validation Accuracy')\n",
    "plt.legend()\n",
    "plt.xlabel('Number of epochs', fontsize=14)\n",
    "plt.ylabel('Accuracy', fontsize=14)\n",
    "plt.show()"
   ]
  },
  {
   "cell_type": "code",
   "execution_count": null,
   "metadata": {
    "execution": {
     "execution_failed": "2025-06-10T17:28:38.736Z"
    },
    "papermill": {
     "duration": 1.5519,
     "end_time": "2023-12-30T17:23:36.4233",
     "exception": false,
     "start_time": "2023-12-30T17:23:34.8714",
     "status": "completed"
    },
    "tags": []
   },
   "outputs": [],
   "source": [
    "from sklearn.metrics import roc_curve, auc\n",
    "\n",
    "# Use the trained model to predict probabilities for the test set\n",
    "y_pred_prob = model.predict(X_test)\n",
    "\n",
    "# Calculate the ROC curve\n",
    "fpr, tpr, thresholds = roc_curve(y_test[:, 1], y_pred_prob[:, 1])\n",
    "roc_auc = auc(fpr, tpr)\n",
    "\n",
    "# Plot the ROC curve\n",
    "plt.figure()\n",
    "plt.plot(fpr, tpr, color='darkorange', lw=2, label=f'ROC curve (area = {roc_auc:.2f})')\n",
    "plt.plot([0, 1], [0, 1], color='navy', lw=2, linestyle='--')\n",
    "plt.xlim([0.0, 1.0])\n",
    "plt.ylim([0.0, 1.05])\n",
    "plt.xlabel('False Positive Rate')\n",
    "plt.ylabel('True Positive Rate')\n",
    "plt.title('Receiver Operating Characteristic')\n",
    "plt.legend(loc='lower right')\n",
    "plt.show()\n",
    "\n",
    "# Print the AUC score\n",
    "print(f'AUC: {roc_auc:.2f}')"
   ]
  },
  {
   "cell_type": "code",
   "execution_count": null,
   "metadata": {
    "execution": {
     "execution_failed": "2025-06-10T17:28:38.737Z"
    }
   },
   "outputs": [],
   "source": [
    "model.evaluate(X_test,y_test)"
   ]
  },
  {
   "cell_type": "markdown",
   "metadata": {},
   "source": [
    "#### Test Accuracy = 56.65%\n",
    "#### Test Loss = 0.6892"
   ]
  },
  {
   "cell_type": "markdown",
   "metadata": {},
   "source": [
    "### Confusion matrix for the testing dataset"
   ]
  },
  {
   "cell_type": "code",
   "execution_count": null,
   "metadata": {
    "execution": {
     "execution_failed": "2025-06-10T17:28:38.737Z"
    }
   },
   "outputs": [],
   "source": [
    "from sklearn.metrics import confusion_matrix\n",
    "Y_pred = model.predict(X_test)\n",
    "Y_pred_classes = np.argmax(Y_pred,axis = 1) \n",
    "Y_true = np.argmax(y_test,axis = 1) \n",
    "\n",
    "confusion_mtx = confusion_matrix(Y_true, Y_pred_classes) \n",
    "f,ax = plt.subplots(figsize=(8, 8))\n",
    "sns.heatmap(confusion_mtx, annot=True, linewidths=0.01,cmap=\"BuPu\",linecolor=\"gray\", fmt= '.1f',ax=ax)\n",
    "plt.xlabel(\"Predicted Label\")\n",
    "plt.ylabel(\"True Label\")\n",
    "plt.title(\"Confusion Matrix\")\n",
    "plt.show()"
   ]
  },
  {
   "cell_type": "code",
   "execution_count": null,
   "metadata": {
    "execution": {
     "execution_failed": "2025-06-10T17:28:38.738Z"
    }
   },
   "outputs": [],
   "source": [
    "\n",
    "# Calculate metrics\n",
    "accuracy = accuracy_score(Y_true, Y_pred_classes)\n",
    "recall = recall_score(Y_true, Y_pred_classes)\n",
    "precision = precision_score(Y_true, Y_pred_classes)\n",
    "f1 = f1_score(Y_true, Y_pred_classes)\n",
    "print(f\"Test Accuracy: {accuracy:.4f}\")\n",
    "print(f\"Test Recall: {recall:.4f}\")\n",
    "print(f\"Test Precision: {precision:.4f}\")\n",
    "print(f\"Test F1 Score: {f1:.4f}\")"
   ]
  },
  {
   "cell_type": "code",
   "execution_count": null,
   "metadata": {
    "papermill": {
     "duration": 0.250374,
     "end_time": "2023-12-30T17:23:36.915636",
     "exception": false,
     "start_time": "2023-12-30T17:23:36.665262",
     "status": "completed"
    },
    "tags": []
   },
   "outputs": [],
   "source": []
  },
  {
   "cell_type": "code",
   "execution_count": null,
   "metadata": {
    "execution": {
     "execution_failed": "2025-06-10T17:28:38.738Z"
    },
    "papermill": {
     "duration": 0.255729,
     "end_time": "2023-12-30T17:23:37.412994",
     "exception": false,
     "start_time": "2023-12-30T17:23:37.157265",
     "status": "completed"
    },
    "tags": []
   },
   "outputs": [],
   "source": [
    "history_dict = history.history\n",
    "\n",
    "# plot training loss vs validation loss\n",
    "loss_values = history_dict['loss']\n",
    "val_loss_values = history_dict['val_loss']\n",
    "acc = history_dict['accuracy']\n",
    "\n",
    "epochs = range(1, len(acc) + 1)"
   ]
  },
  {
   "cell_type": "code",
   "execution_count": null,
   "metadata": {
    "execution": {
     "execution_failed": "2025-06-10T17:28:38.738Z"
    },
    "papermill": {
     "duration": 0.53256,
     "end_time": "2023-12-30T17:23:38.187779",
     "exception": false,
     "start_time": "2023-12-30T17:23:37.655219",
     "status": "completed"
    },
    "tags": []
   },
   "outputs": [],
   "source": [
    "plt.plot(epochs, loss_values, 'b', label='Training Loss')\n",
    "plt.plot(epochs, val_loss_values, 'r', label='Validation Loss')\n",
    "plt.title('Training and Validation Loss', fontsize=12)\n",
    "plt.xlabel('Epochs')\n",
    "plt.ylabel('Loss')\n",
    "plt.legend()\n",
    "plt.show()"
   ]
  },
  {
   "cell_type": "code",
   "execution_count": null,
   "metadata": {
    "execution": {
     "execution_failed": "2025-06-10T17:28:38.738Z"
    },
    "papermill": {
     "duration": 0.523865,
     "end_time": "2023-12-30T17:23:38.957389",
     "exception": false,
     "start_time": "2023-12-30T17:23:38.433524",
     "status": "completed"
    },
    "tags": []
   },
   "outputs": [],
   "source": [
    "# plot training vs validation accuracy\n",
    "val_acc_values = history_dict['val_accuracy']\n",
    "acc = history_dict['accuracy']\n",
    "\n",
    "plt.plot(epochs, acc, 'b', label='Training Accuracy')\n",
    "plt.plot(epochs, val_acc_values, 'r', label='Validation Accuracy')\n",
    "plt.title('Training and Validation Accuracy', fontsize=12)\n",
    "plt.xlabel('Epochs')\n",
    "plt.ylabel('Loss')\n",
    "plt.legend()\n",
    "plt.show()"
   ]
  },
  {
   "cell_type": "code",
   "execution_count": null,
   "metadata": {},
   "outputs": [],
   "source": []
  }
 ],
 "metadata": {
  "kaggle": {
   "accelerator": "none",
   "dataSources": [
    {
     "datasetId": 1115384,
     "sourceId": 1873742,
     "sourceType": "datasetVersion"
    },
    {
     "modelId": 2796,
     "modelInstanceId": 4590,
     "sourceId": 5817,
     "sourceType": "modelInstanceVersion"
    }
   ],
   "dockerImageVersionId": 30627,
   "isGpuEnabled": false,
   "isInternetEnabled": true,
   "language": "python",
   "sourceType": "notebook"
  },
  "kernelspec": {
   "display_name": "Python 3 (ipykernel)",
   "language": "python",
   "name": "python3"
  },
  "language_info": {
   "codemirror_mode": {
    "name": "ipython",
    "version": 3
   },
   "file_extension": ".py",
   "mimetype": "text/x-python",
   "name": "python",
   "nbconvert_exporter": "python",
   "pygments_lexer": "ipython3",
   "version": "3.12.3"
  },
  "papermill": {
   "default_parameters": {},
   "duration": 1511.568287,
   "end_time": "2023-12-30T17:23:43.304066",
   "environment_variables": {},
   "exception": null,
   "input_path": "__notebook__.ipynb",
   "output_path": "__notebook__.ipynb",
   "parameters": {},
   "start_time": "2023-12-30T16:58:31.735779",
   "version": "2.4.0"
  }
 },
 "nbformat": 4,
 "nbformat_minor": 4
}
