{
 "cells": [
  {
   "cell_type": "markdown",
   "metadata": {},
   "source": [
    "# Local Relational Layer Implementation\n",
    "\n",
    "This notebook contains PyTorch implementations of:\n",
    "- Geometry Prior\n",
    "- Key-Query Mapping\n",
    "- Appearance Composability\n",
    "- Local Relational Layer (combining all components)"
   ]
  },
  {
   "cell_type": "code",
   "execution_count": null,
   "metadata": {},
   "outputs": [],
   "source": [
    "import torch\n",
    "import torch.backends.cudnn as cudnn"
   ]
  },
  {
   "cell_type": "markdown",
   "metadata": {},
   "source": [
    "## 1. Geometry Prior Module"
   ]
  },
  {
   "cell_type": "code",
   "execution_count": null,
   "metadata": {},
   "outputs": [],
   "source": [
    "class GeometryPrior(torch.nn.Module):\n",
    "    \"\"\"\n",
    "    Learns geometric relationships between spatial positions\n",
    "    \n",
    "    Args:\n",
    "        k: kernel size\n",
    "        channels: number of channels\n",
    "        multiplier: channel reduction multiplier\n",
    "    \"\"\"\n",
    "    def __init__(self, k, channels, multiplier=0.5):\n",
    "        super(GeometryPrior, self).__init__()\n",
    "        self.channels = channels\n",
    "        self.k = k\n",
    "        # Initialize random positions between -1 and 1\n",
    "        self.position = 2 * torch.rand(1, 2, k, k, requires_grad=True) - 1\n",
    "        self.position = self.position.cuda()\n",
    "        # Two 1x1 conv layers for processing\n",
    "        self.l1 = torch.nn.Conv2d(2, int(multiplier * channels), 1)\n",
    "        self.l2 = torch.nn.Conv2d(int(multiplier * channels), channels, 1)\n",
    "        \n",
    "    def forward(self, x):\n",
    "        x = self.l2(torch.nn.functional.relu(self.l1(self.position)))\n",
    "        return x.view(1, self.channels, 1, self.k ** 2)"
   ]
  },
  {
   "cell_type": "markdown",
   "metadata": {},
   "source": [
    "## 2. Key-Query Map Module"
   ]
  },
  {
   "cell_type": "code",
   "execution_count": null,
   "metadata": {},
   "outputs": [],
   "source": [
    "class KeyQueryMap(torch.nn.Module):\n",
    "    \"\"\"\n",
    "    Projects input features into key and query spaces\n",
    "    \n",
    "    Args:\n",
    "        channels: input channels\n",
    "        m: reduction factor for channels\n",
    "    \"\"\"\n",
    "    def __init__(self, channels, m):\n",
    "        super(KeyQueryMap, self).__init__()\n",
    "        # 1x1 convolution for channel reduction\n",
    "        self.l = torch.nn.Conv2d(channels, channels // m, 1)\n",
    "    \n",
    "    def forward(self, x):\n",
    "        return self.l(x)"
   ]
  },
  {
   "cell_type": "markdown",
   "metadata": {},
   "source": [
    "## 3. Appearance Composability Module"
   ]
  },
  {
   "cell_type": "code",
   "execution_count": null,
   "metadata": {},
   "outputs": [],
   "source": [
    "class AppearanceComposability(torch.nn.Module):\n",
    "    \"\"\"\n",
    "    Computes appearance similarity between key and query features\n",
    "    \n",
    "    Args:\n",
    "        k: kernel size\n",
    "        padding: padding size\n",
    "        stride: convolution stride\n",
    "    \"\"\"\n",
    "    def __init__(self, k, padding, stride):\n",
    "        super(AppearanceComposability, self).__init__()\n",
    "        self.k = k\n",
    "        # Unfold operation to extract patches\n",
    "        self.unfold = torch.nn.Unfold(k, 1, padding, stride)\n",
    "    \n",
    "    def forward(self, x):\n",
    "        key_map, query_map = x\n",
    "        k = self.k\n",
    "        \n",
    "        # Unfold both key and query maps\n",
    "        key_map_unfold = self.unfold(key_map)\n",
    "        query_map_unfold = self.unfold(query_map)\n",
    "        \n",
    "        # Reshape unfolded maps\n",
    "        key_map_unfold = key_map_unfold.view(\n",
    "            key_map.shape[0], key_map.shape[1],\n",
    "            -1,\n",
    "            key_map_unfold.shape[-2] // key_map.shape[1])\n",
    "            \n",
    "        query_map_unfold = query_map_unfold.view(\n",
    "            query_map.shape[0], query_map.shape[1],\n",
    "            -1,\n",
    "            query_map_unfold.shape[-2] // query_map.shape[1])\n",
    "        \n",
    "        # Compute element-wise product with center query\n",
    "        return key_map_unfold * query_map_unfold[:, :, :, k**2//2:k**2//2+1]"
