{
 "cells": [
  {
   "cell_type": "markdown",
   "id": "c9184193",
   "metadata": {
    "id": "WxkzATVfb_Gt",
    "papermill": {
     "duration": 0.007113,
     "end_time": "2025-07-18T06:06:21.975404",
     "exception": false,
     "start_time": "2025-07-18T06:06:21.968291",
     "status": "completed"
    },
    "tags": []
   },
   "source": [
    "# Utilization of DenseNet201 for diagnosis of breast abnormality\n",
    "\n",
    "**Abstract:** As one of the leading killers of females, breast cancer has become one of the heated research topics in the community of clinical medical science and computer science. In the clinic, mammography is a publicly accepted technique to detect early abnormalities such as masses and distortions in breast leading to cancer. Interpreting the images, however, is time-consuming and error-prone for radiologists considering artificial factors including potential fatigue. To improve radiologists’ working efficiency, we developed a semi-automatic computer-aided diagnosis system to classify mammograms into normality and abnormality and thus to ease the process of making a diagnosis of breast cancer. Through transferring deep convolutional neural network DenseNet201 on the basis of suspicious regions provided by radiologists into our system, we obtained the network we termed DenseNet201-C, which achieved a high diagnostic accuracy of 92.73%. The comparison results between our method and the other five methods show that our method achieved the highest accuracy."
   ]
  },
  {
   "cell_type": "code",
   "execution_count": 1,
   "id": "dabd4f11",
   "metadata": {
    "execution": {
     "iopub.execute_input": "2025-07-18T06:06:21.990626Z",
     "iopub.status.busy": "2025-07-18T06:06:21.990250Z",
     "iopub.status.idle": "2025-07-18T06:06:36.452210Z",
     "shell.execute_reply": "2025-07-18T06:06:36.451150Z"
    },
    "id": "aPkJB82PS_i_",
    "outputId": "6c1c4732-c30b-43e5-87eb-fe1e9eb81eb3",
    "papermill": {
     "duration": 14.472577,
     "end_time": "2025-07-18T06:06:36.454920",
     "exception": false,
     "start_time": "2025-07-18T06:06:21.982343",
     "status": "completed"
    },
    "tags": []
   },
   "outputs": [
    {
     "name": "stderr",
     "output_type": "stream",
     "text": [
      "2025-07-18 06:06:25.541366: E external/local_xla/xla/stream_executor/cuda/cuda_dnn.cc:9261] Unable to register cuDNN factory: Attempting to register factory for plugin cuDNN when one has already been registered\n",
      "2025-07-18 06:06:25.541524: E external/local_xla/xla/stream_executor/cuda/cuda_fft.cc:607] Unable to register cuFFT factory: Attempting to register factory for plugin cuFFT when one has already been registered\n",
      "2025-07-18 06:06:25.688737: E external/local_xla/xla/stream_executor/cuda/cuda_blas.cc:1515] Unable to register cuBLAS factory: Attempting to register factory for plugin cuBLAS when one has already been registered\n"
     ]
    }
   ],
   "source": [
    "import os\n",
    "import pandas as pd\n",
    "import matplotlib.pyplot as plt\n",
    "import pydicom\n",
    "import imageio\n",
    "import shutil\n",
    "import tensorflow as tf\n",
    "import numpy as np\n",
    "import cv2\n",
    "\n",
    "from PIL import Image"
   ]
  },
  {
   "cell_type": "code",
   "execution_count": 2,
   "id": "0de81cfa",
   "metadata": {
    "execution": {
     "iopub.execute_input": "2025-07-18T06:06:36.471493Z",
     "iopub.status.busy": "2025-07-18T06:06:36.470850Z",
     "iopub.status.idle": "2025-07-18T06:06:36.476522Z",
     "shell.execute_reply": "2025-07-18T06:06:36.475525Z"
    },
    "papermill": {
     "duration": 0.015993,
     "end_time": "2025-07-18T06:06:36.478463",
     "exception": false,
     "start_time": "2025-07-18T06:06:36.462470",
     "status": "completed"
    },
    "tags": []
   },
   "outputs": [],
   "source": [
    "def pipeline(image, label):\n",
    "    if tf.executing_eagerly():\n",
    "      opened_image = opening(image.numpy(), element)   # Apply morphological Openess\n",
    "      mask = create_binarized_mask(opened_image) # Create the Binary Mask\n",
    "      image = opened_image * mask\n",
    "    return image, label"
   ]
  },
  {
   "cell_type": "code",
   "execution_count": 3,
   "id": "40248284",
   "metadata": {
    "execution": {
     "iopub.execute_input": "2025-07-18T06:06:36.493869Z",
     "iopub.status.busy": "2025-07-18T06:06:36.493510Z",
     "iopub.status.idle": "2025-07-18T06:06:36.498472Z",
     "shell.execute_reply": "2025-07-18T06:06:36.497540Z"
    },
    "papermill": {
     "duration": 0.015125,
     "end_time": "2025-07-18T06:06:36.500586",
     "exception": false,
     "start_time": "2025-07-18T06:06:36.485461",
     "status": "completed"
    },
    "tags": []
   },
   "outputs": [],
   "source": [
    "def scheduler(epoch, lr):\n",
    "     if epoch % 10 == 0:\n",
    "         return lr - 0.01\n",
    "     else:\n",
    "         return lr"
   ]
  },
  {
   "cell_type": "code",
   "execution_count": 4,
   "id": "7c38e2da",
   "metadata": {
    "execution": {
     "iopub.execute_input": "2025-07-18T06:06:36.516109Z",
     "iopub.status.busy": "2025-07-18T06:06:36.515687Z",
     "iopub.status.idle": "2025-07-18T06:06:36.521536Z",
     "shell.execute_reply": "2025-07-18T06:06:36.520191Z"
    },
    "papermill": {
     "duration": 0.016553,
     "end_time": "2025-07-18T06:06:36.524222",
     "exception": false,
     "start_time": "2025-07-18T06:06:36.507669",
     "status": "completed"
    },
    "tags": []
   },
   "outputs": [],
   "source": [
    "def evaluate(model, validation):\n",
    "  m = tf.keras.metrics.Accuracy()\n",
    "  for image, label in validation:\n",
    "      pred = model.predict(image)\n",
    "      pred = tf.constant(pred > 0.5, dtype=tf.int64)\n",
    "\n",
    "      m.update_state(pred, tf.expand_dims(label, 1))\n",
    "\n",
    "  return m.result()"
   ]
  },
  {
   "cell_type": "code",
   "execution_count": 5,
   "id": "d01e6167",
   "metadata": {
    "execution": {
     "iopub.execute_input": "2025-07-18T06:06:36.539932Z",
     "iopub.status.busy": "2025-07-18T06:06:36.539533Z",
     "iopub.status.idle": "2025-07-18T06:06:36.547150Z",
     "shell.execute_reply": "2025-07-18T06:06:36.545708Z"
    },
    "papermill": {
     "duration": 0.01779,
     "end_time": "2025-07-18T06:06:36.549205",
     "exception": false,
     "start_time": "2025-07-18T06:06:36.531415",
     "status": "completed"
    },
    "tags": []
   },
   "outputs": [],
   "source": [
    "def init_model(freeze=False):\n",
    "  pretrained_model = tf.keras.applications.densenet.DenseNet201(\n",
    "        include_top=False,\n",
    "        weights='imagenet',\n",
    "        input_tensor=None,\n",
    "        input_shape=None,\n",
    "        pooling=None,\n",
    "        classes=None,\n",
    "        classifier_activation=None\n",
    "    )\n",
    "  if freeze:\n",
    "    for layer in pretrained_model.layers:\n",
    "        layer.trainable = False\n",
    "\n",
    "  last_layer = pretrained_model.get_layer('conv5_block32_concat')\n",
    "  x = tf.keras.layers.GlobalAveragePooling2D()(last_layer.output)\n",
    "  x =  tf.keras.layers.Flatten()(x)\n",
    "  x =  tf.keras.layers.Dropout(0.5)(x)\n",
    "  out = tf.keras.layers.Dense(1, activation='sigmoid')(x)\n",
    "  out\n",
    "\n",
    "  return tf.keras.Model(pretrained_model.input, out)"
   ]
  },
  {
   "cell_type": "markdown",
   "id": "a681491b",
   "metadata": {
    "papermill": {
     "duration": 0.006583,
     "end_time": "2025-07-18T06:06:36.563701",
     "exception": false,
     "start_time": "2025-07-18T06:06:36.557118",
     "status": "completed"
    },
    "tags": []
   },
   "source": [
    "# Converting to PNG and saving locally\n"
   ]
  },
  {
   "cell_type": "markdown",
   "id": "5d168ad6",
   "metadata": {
    "papermill": {
     "duration": 0.006365,
     "end_time": "2025-07-18T06:06:36.576968",
     "exception": false,
     "start_time": "2025-07-18T06:06:36.570603",
     "status": "completed"
    },
    "tags": []
   },
   "source": [
    "\"Creating a temporary directory where the images in PNG format will be stored"
   ]
  },
  {
   "cell_type": "code",
   "execution_count": 6,
   "id": "372b9044",
   "metadata": {
    "execution": {
     "iopub.execute_input": "2025-07-18T06:06:36.592476Z",
     "iopub.status.busy": "2025-07-18T06:06:36.591674Z",
     "iopub.status.idle": "2025-07-18T06:06:36.596963Z",
     "shell.execute_reply": "2025-07-18T06:06:36.595852Z"
    },
    "papermill": {
     "duration": 0.015447,
     "end_time": "2025-07-18T06:06:36.599147",
     "exception": false,
     "start_time": "2025-07-18T06:06:36.583700",
     "status": "completed"
    },
    "tags": []
   },
   "outputs": [],
   "source": [
    "final_dir = os.path.join('/kaggle/working/AllPNGs')\n",
    "os.makedirs(final_dir, exist_ok=True)"
   ]
  },
  {
   "cell_type": "markdown",
   "id": "2bc7fa49",
   "metadata": {
    "papermill": {
     "duration": 0.006522,
     "end_time": "2025-07-18T06:06:36.612569",
     "exception": false,
     "start_time": "2025-07-18T06:06:36.606047",
     "status": "completed"
    },
    "tags": []
   },
   "source": [
    "Converting from .dcm to .png, and saving the images in the new directory."
   ]
  },
  {
   "cell_type": "code",
   "execution_count": 7,
   "id": "7ce7ba3b",
   "metadata": {
    "execution": {
     "iopub.execute_input": "2025-07-18T06:06:36.628601Z",
     "iopub.status.busy": "2025-07-18T06:06:36.627859Z",
     "iopub.status.idle": "2025-07-18T06:16:14.509300Z",
     "shell.execute_reply": "2025-07-18T06:16:14.507699Z"
    },
    "papermill": {
     "duration": 577.894879,
     "end_time": "2025-07-18T06:16:14.514468",
     "exception": false,
     "start_time": "2025-07-18T06:06:36.619589",
     "status": "completed"
    },
    "tags": []
   },
   "outputs": [],
   "source": [
    "directory = \"/kaggle/input/inbreast-dataset/INbreast Release 1.0/AllDICOMs/\"\n",
    "\n",
    "for filename in os.listdir(directory):\n",
    "    if filename.endswith(\".dcm\"): \n",
    "        ds = pydicom.dcmread(os.path.join(directory, filename))\n",
    "        pixel_array = ds.pixel_array\n",
    "        name_parts = filename.split(\"_\")        \n",
    "        new_filename = name_parts[0]\n",
    "        output_path = f\"/kaggle/working/AllPNGs/{new_filename}.png\"\n",
    "        imageio.imwrite(output_path, pixel_array)"
   ]
  },
  {
   "cell_type": "markdown",
   "id": "1fe8432c",
   "metadata": {
    "papermill": {
     "duration": 0.006672,
     "end_time": "2025-07-18T06:16:14.531194",
     "exception": false,
     "start_time": "2025-07-18T06:16:14.524522",
     "status": "completed"
    },
    "tags": []
   },
   "source": [
    "# Creating the class split and classes"
   ]
  },
  {
   "cell_type": "code",
   "execution_count": 8,
   "id": "ec2360eb",
   "metadata": {
    "execution": {
     "iopub.execute_input": "2025-07-18T06:16:14.547221Z",
     "iopub.status.busy": "2025-07-18T06:16:14.546715Z",
     "iopub.status.idle": "2025-07-18T06:16:14.561841Z",
     "shell.execute_reply": "2025-07-18T06:16:14.560782Z"
    },
    "papermill": {
     "duration": 0.026795,
     "end_time": "2025-07-18T06:16:14.564866",
     "exception": false,
     "start_time": "2025-07-18T06:16:14.538071",
     "status": "completed"
    },
    "tags": []
   },
   "outputs": [
    {
     "data": {
      "text/plain": [
       "['INbreast.csv',\n",
       " 'README.txt',\n",
       " 'inbreast.pdf',\n",
       " 'PectoralMuscle',\n",
       " 'INbreast.xls',\n",
       " 'AllXML',\n",
       " 'AllDICOMs',\n",
       " 'AllROI',\n",
       " 'MedicalReports']"
      ]
     },
     "execution_count": 8,
     "metadata": {},
     "output_type": "execute_result"
    }
   ],
   "source": [
    "os.listdir('/kaggle/input/inbreast-dataset/INbreast Release 1.0')"
   ]
  },
  {
   "cell_type": "code",
   "execution_count": 9,
   "id": "0343880c",
   "metadata": {
    "execution": {
     "iopub.execute_input": "2025-07-18T06:16:14.580555Z",
     "iopub.status.busy": "2025-07-18T06:16:14.580238Z",
     "iopub.status.idle": "2025-07-18T06:16:14.622626Z",
     "shell.execute_reply": "2025-07-18T06:16:14.621733Z"
    },
    "papermill": {
     "duration": 0.052779,
     "end_time": "2025-07-18T06:16:14.624922",
     "exception": false,
     "start_time": "2025-07-18T06:16:14.572143",
     "status": "completed"
    },
    "tags": []
   },
   "outputs": [],
   "source": [
    "raw_csv = pd.read_csv(\"/kaggle/input/inbreast-dataset/INbreast Release 1.0/INbreast.csv\", delimiter=';')\n",
    "raw_csv = raw_csv.rename(columns={'File Name':'FileName'})"
   ]
  },
  {
   "cell_type": "code",
   "execution_count": 10,
   "id": "c7ee296f",
   "metadata": {
    "execution": {
     "iopub.execute_input": "2025-07-18T06:16:14.640398Z",
     "iopub.status.busy": "2025-07-18T06:16:14.640024Z",
     "iopub.status.idle": "2025-07-18T06:16:14.654794Z",
     "shell.execute_reply": "2025-07-18T06:16:14.653761Z"
    },
    "papermill": {
     "duration": 0.025107,
     "end_time": "2025-07-18T06:16:14.657060",
     "exception": false,
     "start_time": "2025-07-18T06:16:14.631953",
     "status": "completed"
    },
    "tags": []
   },
   "outputs": [],
   "source": [
    "raw_csv_ = pd.read_csv(\"/kaggle/input/inbreast-roi-yolov8l/INBREAST-Mammography/description.csv\")\n",
    "raw_csv_ = raw_csv_.rename(columns={'File name':'FileName'})"
   ]
  },
  {
   "cell_type": "code",
   "execution_count": 11,
   "id": "05722887",
   "metadata": {
    "execution": {
     "iopub.execute_input": "2025-07-18T06:16:14.673251Z",
     "iopub.status.busy": "2025-07-18T06:16:14.672837Z",
     "iopub.status.idle": "2025-07-18T06:16:14.691356Z",
     "shell.execute_reply": "2025-07-18T06:16:14.690313Z"
    },
    "papermill": {
     "duration": 0.028701,
     "end_time": "2025-07-18T06:16:14.693447",
     "exception": false,
     "start_time": "2025-07-18T06:16:14.664746",
     "status": "completed"
    },
    "tags": []
   },
   "outputs": [
    {
     "data": {
      "text/html": [
       "<div>\n",
       "<style scoped>\n",
       "    .dataframe tbody tr th:only-of-type {\n",
       "        vertical-align: middle;\n",
       "    }\n",
       "\n",
       "    .dataframe tbody tr th {\n",
       "        vertical-align: top;\n",
       "    }\n",
       "\n",
       "    .dataframe thead th {\n",
       "        text-align: right;\n",
       "    }\n",
       "</style>\n",
       "<table border=\"1\" class=\"dataframe\">\n",
       "  <thead>\n",
       "    <tr style=\"text-align: right;\">\n",
       "      <th></th>\n",
       "      <th>Patient ID</th>\n",
       "      <th>Patient age</th>\n",
       "      <th>Laterality</th>\n",
       "      <th>View</th>\n",
       "      <th>Acquisition date</th>\n",
       "      <th>FileName</th>\n",
       "      <th>ACR</th>\n",
       "      <th>Bi-Rads</th>\n",
       "    </tr>\n",
       "  </thead>\n",
       "  <tbody>\n",
       "    <tr>\n",
       "      <th>0</th>\n",
       "      <td>removed</td>\n",
       "      <td>removed</td>\n",
       "      <td>R</td>\n",
       "      <td>CC</td>\n",
       "      <td>201001</td>\n",
       "      <td>22678622</td>\n",
       "      <td>4</td>\n",
       "      <td>1</td>\n",
       "    </tr>\n",
       "    <tr>\n",
       "      <th>1</th>\n",
       "      <td>removed</td>\n",
       "      <td>removed</td>\n",
       "      <td>L</td>\n",
       "      <td>CC</td>\n",
       "      <td>201001</td>\n",
       "      <td>22678646</td>\n",
       "      <td>4</td>\n",
       "      <td>3</td>\n",
       "    </tr>\n",
       "    <tr>\n",
       "      <th>2</th>\n",
       "      <td>removed</td>\n",
       "      <td>removed</td>\n",
       "      <td>R</td>\n",
       "      <td>MLO</td>\n",
       "      <td>201001</td>\n",
       "      <td>22678670</td>\n",
       "      <td>4</td>\n",
       "      <td>1</td>\n",
       "    </tr>\n",
       "    <tr>\n",
       "      <th>3</th>\n",
       "      <td>removed</td>\n",
       "      <td>removed</td>\n",
       "      <td>L</td>\n",
       "      <td>MLO</td>\n",
       "      <td>201001</td>\n",
       "      <td>22678694</td>\n",
       "      <td>4</td>\n",
       "      <td>3</td>\n",
       "    </tr>\n",
       "    <tr>\n",
       "      <th>4</th>\n",
       "      <td>removed</td>\n",
       "      <td>removed</td>\n",
       "      <td>R</td>\n",
       "      <td>CC</td>\n",
       "      <td>201001</td>\n",
       "      <td>22614074</td>\n",
       "      <td>2</td>\n",
       "      <td>5</td>\n",
       "    </tr>\n",
       "  </tbody>\n",
       "</table>\n",
       "</div>"
      ],
      "text/plain": [
       "  Patient ID Patient age Laterality View  Acquisition date  FileName ACR  \\\n",
       "0    removed     removed          R   CC            201001  22678622   4   \n",
       "1    removed     removed          L   CC            201001  22678646   4   \n",
       "2    removed     removed          R  MLO            201001  22678670   4   \n",
       "3    removed     removed          L  MLO            201001  22678694   4   \n",
       "4    removed     removed          R   CC            201001  22614074   2   \n",
       "\n",
       "  Bi-Rads  \n",
       "0       1  \n",
       "1       3  \n",
       "2       1  \n",
       "3       3  \n",
       "4       5  "
      ]
     },
     "execution_count": 11,
     "metadata": {},
     "output_type": "execute_result"
    }
   ],
   "source": [
    "raw_csv.head()"
   ]
  },
  {
   "cell_type": "code",
   "execution_count": 12,
   "id": "8e4ac816",
   "metadata": {
    "execution": {
     "iopub.execute_input": "2025-07-18T06:16:14.709726Z",
     "iopub.status.busy": "2025-07-18T06:16:14.709405Z",
     "iopub.status.idle": "2025-07-18T06:16:14.723903Z",
     "shell.execute_reply": "2025-07-18T06:16:14.722905Z"
    },
    "papermill": {
     "duration": 0.024967,
     "end_time": "2025-07-18T06:16:14.725814",
     "exception": false,
     "start_time": "2025-07-18T06:16:14.700847",
     "status": "completed"
    },
    "tags": []
   },
   "outputs": [
    {
     "data": {
      "text/plain": [
       "View\n",
       "MLO    206\n",
       "CC     203\n",
       "FB       1\n",
       "Name: count, dtype: int64"
      ]
     },
     "execution_count": 12,
     "metadata": {},
     "output_type": "execute_result"
    }
   ],
   "source": [
    "raw_csv['View'].value_counts()"
   ]
  },
  {
   "cell_type": "code",
   "execution_count": 13,
   "id": "d0daa1fe",
   "metadata": {
    "execution": {
     "iopub.execute_input": "2025-07-18T06:16:14.742732Z",
     "iopub.status.busy": "2025-07-18T06:16:14.742414Z",
     "iopub.status.idle": "2025-07-18T06:16:14.771728Z",
     "shell.execute_reply": "2025-07-18T06:16:14.770603Z"
    },
    "papermill": {
     "duration": 0.040848,
     "end_time": "2025-07-18T06:16:14.774166",
     "exception": false,
     "start_time": "2025-07-18T06:16:14.733318",
     "status": "completed"
    },
    "tags": []
   },
   "outputs": [],
   "source": [
    "raw_csv = pd.merge(\n",
    "    raw_csv,\n",
    "    raw_csv_[['FileName','Lesion annotation status']],\n",
    "    how='left',\n",
    "    on = 'FileName'\n",
    ")"
   ]
  },
  {
   "cell_type": "code",
   "execution_count": 14,
   "id": "e7fd9682",
   "metadata": {
    "execution": {
     "iopub.execute_input": "2025-07-18T06:16:14.790682Z",
     "iopub.status.busy": "2025-07-18T06:16:14.790361Z",
     "iopub.status.idle": "2025-07-18T06:16:14.795577Z",
     "shell.execute_reply": "2025-07-18T06:16:14.794711Z"
    },
    "papermill": {
     "duration": 0.016238,
     "end_time": "2025-07-18T06:16:14.797813",
     "exception": false,
     "start_time": "2025-07-18T06:16:14.781575",
     "status": "completed"
    },
    "tags": []
   },
   "outputs": [],
   "source": [
    "data_info = raw_csv.copy()"
   ]
  },
  {
   "cell_type": "code",
   "execution_count": 15,
   "id": "69ff7643",
   "metadata": {
    "execution": {
     "iopub.execute_input": "2025-07-18T06:16:14.814438Z",
     "iopub.status.busy": "2025-07-18T06:16:14.814077Z",
     "iopub.status.idle": "2025-07-18T06:16:14.827175Z",
     "shell.execute_reply": "2025-07-18T06:16:14.826181Z"
    },
    "id": "_4o--Lc8kvB8",
    "outputId": "0f8c87a0-ec3d-454a-d057-534132e0f8ec",
    "papermill": {
     "duration": 0.023769,
     "end_time": "2025-07-18T06:16:14.829189",
     "exception": false,
     "start_time": "2025-07-18T06:16:14.805420",
     "status": "completed"
    },
    "tags": []
   },
   "outputs": [],
   "source": [
    "ALL_CLASSES = data_info['Lesion annotation status']\n",
    "ABNORMAL_CLASSES = ALL_CLASSES !='NO ANNOTATION (NORMAL)'\n",
    "abnormal_images = data_info[ABNORMAL_CLASSES]\n",
    "data_info.loc[ABNORMAL_CLASSES, [\"NEW_CLASS\"]] = [\"ABNORM\"] * abnormal_images.shape[0]\n",
    "data_info[\"NEW_CLASS\"] = data_info[\"NEW_CLASS\"].fillna(\"NORM\")\n",
    "data_info = data_info.drop(columns=['Lesion annotation status'])"
   ]
  },
  {
   "cell_type": "code",
   "execution_count": 16,
   "id": "2a3b3011",
   "metadata": {
    "execution": {
     "iopub.execute_input": "2025-07-18T06:16:14.845975Z",
     "iopub.status.busy": "2025-07-18T06:16:14.845547Z",
     "iopub.status.idle": "2025-07-18T06:19:50.176625Z",
     "shell.execute_reply": "2025-07-18T06:19:50.175596Z"
    },
    "id": "uNLhKIn_8VBS",
    "papermill": {
     "duration": 215.342214,
     "end_time": "2025-07-18T06:19:50.179281",
     "exception": false,
     "start_time": "2025-07-18T06:16:14.837067",
     "status": "completed"
    },
    "tags": []
   },
   "outputs": [],
   "source": [
    "IMAGE_DIR = \"/kaggle/working/AllPNGs/\"\n",
    "SAVE_DIR = \"inbreast\"\n",
    "class_list = ['NORM', 'ABNORM']\n",
    "for class_name in class_list:\n",
    "  final_dir = os.path.join(SAVE_DIR, class_name)\n",
    "  os.makedirs(final_dir, exist_ok=True)\n",
    "\n",
    "\n",
    "for refnum, class_name in data_info.loc[:, ['FileName','NEW_CLASS']].values:\n",
    "    in_filename = f\"{refnum}.png\"\n",
    "    out_filename = f\"{refnum}.png\"\n",
    "   \n",
    "    img_png = Image.open(os.path.join(IMAGE_DIR, in_filename)).convert(\"RGB\")\n",
    "    final_dir = os.path.join(SAVE_DIR, class_name)\n",
    "\n",
    "    img_png.save(os.path.join(final_dir, out_filename))\n",
    "    # shutil.copyfile(os.path.join(IMAGE_DIR, filename),\n",
    "    #                 os.path.join(final_dir, out_filename))\n"
   ]
  },
  {
   "cell_type": "code",
   "execution_count": 17,
   "id": "380304f2",
   "metadata": {
    "execution": {
     "iopub.execute_input": "2025-07-18T06:19:50.195710Z",
     "iopub.status.busy": "2025-07-18T06:19:50.195376Z",
     "iopub.status.idle": "2025-07-18T06:19:50.277545Z",
     "shell.execute_reply": "2025-07-18T06:19:50.276687Z"
    },
    "id": "Q9yQCK1xFhrv",
    "papermill": {
     "duration": 0.092862,
     "end_time": "2025-07-18T06:19:50.279871",
     "exception": false,
     "start_time": "2025-07-18T06:19:50.187009",
     "status": "completed"
    },
    "tags": []
   },
   "outputs": [],
   "source": [
    "data_augmentation = tf.keras.Sequential([\n",
    "  tf.keras.layers.RandomFlip(\"horizontal_and_vertical\"),\n",
    "  tf.keras.layers.RandomRotation((0, 1)),\n",
    "])"
   ]
  },
  {
   "cell_type": "code",
   "execution_count": 18,
   "id": "0234216b",
   "metadata": {
    "execution": {
     "iopub.execute_input": "2025-07-18T06:19:50.295580Z",
     "iopub.status.busy": "2025-07-18T06:19:50.295241Z",
     "iopub.status.idle": "2025-07-18T06:29:32.414025Z",
     "shell.execute_reply": "2025-07-18T06:29:32.412731Z"
    },
    "id": "PppiBRetD2YH",
    "papermill": {
     "duration": 582.130674,
     "end_time": "2025-07-18T06:29:32.417732",
     "exception": false,
     "start_time": "2025-07-18T06:19:50.287058",
     "status": "completed"
    },
    "tags": []
   },
   "outputs": [],
   "source": [
    "directory = \"/kaggle/working/inbreast\"\n",
    "for dir in os.listdir(directory):\n",
    "  new_path = os.path.join(directory, dir)\n",
    "\n",
    "  if dir == \"ABNORM\":\n",
    "    for example in os.listdir(new_path):\n",
    "        example_path = os.path.join(new_path, example)\n",
    "        img_example = Image.open(example_path).convert(\"RGB\")\n",
    "        augmented_image = data_augmentation(np.asarray(img_example))\n",
    "        out_filename = \"aug_\" + example\n",
    "\n",
    "        cv2.imwrite(os.path.join(new_path, out_filename), augmented_image.numpy())\n",
    "      #Image.save(, )\n"
   ]
  },
  {
   "cell_type": "code",
   "execution_count": 19,
   "id": "a91ffa11",
   "metadata": {
    "execution": {
     "iopub.execute_input": "2025-07-18T06:29:32.436045Z",
     "iopub.status.busy": "2025-07-18T06:29:32.435629Z",
     "iopub.status.idle": "2025-07-18T06:29:32.568715Z",
     "shell.execute_reply": "2025-07-18T06:29:32.567867Z"
    },
    "id": "PENJ2bEB9Gun",
    "outputId": "222b28ee-b55d-491a-f464-fb63ec7430ca",
    "papermill": {
     "duration": 0.144341,
     "end_time": "2025-07-18T06:29:32.571143",
     "exception": false,
     "start_time": "2025-07-18T06:29:32.426802",
     "status": "completed"
    },
    "tags": []
   },
   "outputs": [
    {
     "name": "stdout",
     "output_type": "stream",
     "text": [
      "Found 753 files belonging to 2 classes.\n",
      "Using 603 files for training.\n",
      "Using 150 files for validation.\n"
     ]
    }
   ],
   "source": [
    "training_data, validation_data = tf.keras.utils.image_dataset_from_directory(\n",
    "    directory,\n",
    "    labels=\"inferred\",\n",
    "    label_mode=\"int\",\n",
    "    class_names=None,\n",
    "    color_mode=\"rgb\",\n",
    "    batch_size=8,\n",
    "    image_size=(224, 224),\n",
    "    shuffle=True,\n",
    "    seed=42,\n",
    "    validation_split=0.2,\n",
    "    subset=\"both\",\n",
    "    interpolation=\"bilinear\",\n",
    ")"
   ]
  },
  {
   "cell_type": "code",
   "execution_count": 20,
   "id": "c3a40c5a",
   "metadata": {
    "execution": {
     "iopub.execute_input": "2025-07-18T06:29:32.587573Z",
     "iopub.status.busy": "2025-07-18T06:29:32.587231Z",
     "iopub.status.idle": "2025-07-18T06:29:32.688342Z",
     "shell.execute_reply": "2025-07-18T06:29:32.687318Z"
    },
    "id": "I6cdD8QAf3OI",
    "papermill": {
     "duration": 0.111999,
     "end_time": "2025-07-18T06:29:32.690658",
     "exception": false,
     "start_time": "2025-07-18T06:29:32.578659",
     "status": "completed"
    },
    "tags": []
   },
   "outputs": [],
   "source": [
    "training_dataset = training_data.map(pipeline)\n",
    "validation_dataset = validation_data.map(pipeline)"
   ]
  },
  {
   "cell_type": "code",
   "execution_count": 21,
   "id": "50c9aa3a",
   "metadata": {
    "execution": {
     "iopub.execute_input": "2025-07-18T06:29:32.708785Z",
     "iopub.status.busy": "2025-07-18T06:29:32.708457Z",
     "iopub.status.idle": "2025-07-18T06:29:32.713449Z",
     "shell.execute_reply": "2025-07-18T06:29:32.712539Z"
    },
    "papermill": {
     "duration": 0.016811,
     "end_time": "2025-07-18T06:29:32.715408",
     "exception": false,
     "start_time": "2025-07-18T06:29:32.698597",
     "status": "completed"
    },
    "tags": []
   },
   "outputs": [],
   "source": [
    "tf_scheduler = tf.keras.callbacks.LearningRateScheduler(scheduler)"
   ]
  },
  {
   "cell_type": "code",
   "execution_count": null,
   "id": "0eebdb0a",
   "metadata": {
    "papermill": {
     "duration": 0.00713,
     "end_time": "2025-07-18T06:29:32.730192",
     "exception": false,
     "start_time": "2025-07-18T06:29:32.723062",
     "status": "completed"
    },
    "tags": []
   },
   "outputs": [],
   "source": []
  },
  {
   "cell_type": "markdown",
   "id": "357c126d",
   "metadata": {
    "papermill": {
     "duration": 0.007054,
     "end_time": "2025-07-18T06:29:32.744454",
     "exception": false,
     "start_time": "2025-07-18T06:29:32.737400",
     "status": "completed"
    },
    "tags": []
   },
   "source": [
    "# Resultados com freeze=False"
   ]
  },
  {
   "cell_type": "code",
   "execution_count": 22,
   "id": "be4bc726",
   "metadata": {
    "execution": {
     "iopub.execute_input": "2025-07-18T06:29:32.760328Z",
     "iopub.status.busy": "2025-07-18T06:29:32.759987Z",
     "iopub.status.idle": "2025-07-18T09:11:07.824732Z",
     "shell.execute_reply": "2025-07-18T09:11:07.822964Z"
    },
    "id": "2u5NeQEw10GZ",
    "outputId": "16d54089-77f0-4871-bd18-efe9b7823cf6",
    "papermill": {
     "duration": 9695.076312,
     "end_time": "2025-07-18T09:11:07.827914",
     "exception": false,
     "start_time": "2025-07-18T06:29:32.751602",
     "status": "completed"
    },
    "tags": []
   },
   "outputs": [
    {
     "name": "stdout",
     "output_type": "stream",
     "text": [
      "Downloading data from https://storage.googleapis.com/tensorflow/keras-applications/densenet/densenet201_weights_tf_dim_ordering_tf_kernels_notop.h5\n",
      "\u001b[1m74836368/74836368\u001b[0m \u001b[32m━━━━━━━━━━━━━━━━━━━━\u001b[0m\u001b[37m\u001b[0m \u001b[1m2s\u001b[0m 0us/step\n",
      "Epoch 1/5\n",
      "\u001b[1m76/76\u001b[0m \u001b[32m━━━━━━━━━━━━━━━━━━━━\u001b[0m\u001b[37m\u001b[0m \u001b[1m471s\u001b[0m 5s/step - acc: 0.8968 - loss: 0.6896\n",
      "Epoch 2/5\n",
      "\u001b[1m76/76\u001b[0m \u001b[32m━━━━━━━━━━━━━━━━━━━━\u001b[0m\u001b[37m\u001b[0m \u001b[1m338s\u001b[0m 4s/step - acc: 0.9112 - loss: 0.3171\n",
      "Epoch 3/5\n",
      "\u001b[1m76/76\u001b[0m \u001b[32m━━━━━━━━━━━━━━━━━━━━\u001b[0m\u001b[37m\u001b[0m \u001b[1m349s\u001b[0m 5s/step - acc: 0.8990 - loss: 0.3719\n",
      "Epoch 4/5\n",
      "\u001b[1m76/76\u001b[0m \u001b[32m━━━━━━━━━━━━━━━━━━━━\u001b[0m\u001b[37m\u001b[0m \u001b[1m341s\u001b[0m 4s/step - acc: 0.9016 - loss: 0.3382\n",
      "Epoch 5/5\n",
      "\u001b[1m76/76\u001b[0m \u001b[32m━━━━━━━━━━━━━━━━━━━━\u001b[0m\u001b[37m\u001b[0m \u001b[1m382s\u001b[0m 4s/step - acc: 0.9005 - loss: 0.3265\n",
      "\u001b[1m1/1\u001b[0m \u001b[32m━━━━━━━━━━━━━━━━━━━━\u001b[0m\u001b[37m\u001b[0m \u001b[1m7s\u001b[0m 7s/step\n",
      "\u001b[1m1/1\u001b[0m \u001b[32m━━━━━━━━━━━━━━━━━━━━\u001b[0m\u001b[37m\u001b[0m \u001b[1m1s\u001b[0m 1s/step\n",
      "\u001b[1m1/1\u001b[0m \u001b[32m━━━━━━━━━━━━━━━━━━━━\u001b[0m\u001b[37m\u001b[0m \u001b[1m1s\u001b[0m 1s/step\n",
      "\u001b[1m1/1\u001b[0m \u001b[32m━━━━━━━━━━━━━━━━━━━━\u001b[0m\u001b[37m\u001b[0m \u001b[1m1s\u001b[0m 995ms/step\n",
      "\u001b[1m1/1\u001b[0m \u001b[32m━━━━━━━━━━━━━━━━━━━━\u001b[0m\u001b[37m\u001b[0m \u001b[1m1s\u001b[0m 1s/step\n",
      "\u001b[1m1/1\u001b[0m \u001b[32m━━━━━━━━━━━━━━━━━━━━\u001b[0m\u001b[37m\u001b[0m \u001b[1m1s\u001b[0m 967ms/step\n",
      "\u001b[1m1/1\u001b[0m \u001b[32m━━━━━━━━━━━━━━━━━━━━\u001b[0m\u001b[37m\u001b[0m \u001b[1m1s\u001b[0m 1s/step\n",
      "\u001b[1m1/1\u001b[0m \u001b[32m━━━━━━━━━━━━━━━━━━━━\u001b[0m\u001b[37m\u001b[0m \u001b[1m1s\u001b[0m 1s/step\n",
      "\u001b[1m1/1\u001b[0m \u001b[32m━━━━━━━━━━━━━━━━━━━━\u001b[0m\u001b[37m\u001b[0m \u001b[1m1s\u001b[0m 1s/step\n",
      "\u001b[1m1/1\u001b[0m \u001b[32m━━━━━━━━━━━━━━━━━━━━\u001b[0m\u001b[37m\u001b[0m \u001b[1m1s\u001b[0m 1s/step\n",
      "\u001b[1m1/1\u001b[0m \u001b[32m━━━━━━━━━━━━━━━━━━━━\u001b[0m\u001b[37m\u001b[0m \u001b[1m1s\u001b[0m 1s/step\n",
      "\u001b[1m1/1\u001b[0m \u001b[32m━━━━━━━━━━━━━━━━━━━━\u001b[0m\u001b[37m\u001b[0m \u001b[1m1s\u001b[0m 1s/step\n",
      "\u001b[1m1/1\u001b[0m \u001b[32m━━━━━━━━━━━━━━━━━━━━\u001b[0m\u001b[37m\u001b[0m \u001b[1m1s\u001b[0m 1s/step\n",
      "\u001b[1m1/1\u001b[0m \u001b[32m━━━━━━━━━━━━━━━━━━━━\u001b[0m\u001b[37m\u001b[0m \u001b[1m1s\u001b[0m 1s/step\n",
      "\u001b[1m1/1\u001b[0m \u001b[32m━━━━━━━━━━━━━━━━━━━━\u001b[0m\u001b[37m\u001b[0m \u001b[1m1s\u001b[0m 1s/step\n",
      "\u001b[1m1/1\u001b[0m \u001b[32m━━━━━━━━━━━━━━━━━━━━\u001b[0m\u001b[37m\u001b[0m \u001b[1m1s\u001b[0m 1s/step\n",
      "\u001b[1m1/1\u001b[0m \u001b[32m━━━━━━━━━━━━━━━━━━━━\u001b[0m\u001b[37m\u001b[0m \u001b[1m1s\u001b[0m 1s/step\n",
      "\u001b[1m1/1\u001b[0m \u001b[32m━━━━━━━━━━━━━━━━━━━━\u001b[0m\u001b[37m\u001b[0m \u001b[1m1s\u001b[0m 889ms/step\n",
      "\u001b[1m1/1\u001b[0m \u001b[32m━━━━━━━━━━━━━━━━━━━━\u001b[0m\u001b[37m\u001b[0m \u001b[1m8s\u001b[0m 8s/step\n",
      "Accuracy:  tf.Tensor(0.92, shape=(), dtype=float32)\n",
      "Epoch 1/5\n",
      "\u001b[1m76/76\u001b[0m \u001b[32m━━━━━━━━━━━━━━━━━━━━\u001b[0m\u001b[37m\u001b[0m \u001b[1m466s\u001b[0m 4s/step - acc: 0.8330 - loss: 0.5930\n",
      "Epoch 2/5\n",
      "\u001b[1m76/76\u001b[0m \u001b[32m━━━━━━━━━━━━━━━━━━━━\u001b[0m\u001b[37m\u001b[0m \u001b[1m384s\u001b[0m 5s/step - acc: 0.9112 - loss: 0.3262\n",
      "Epoch 3/5\n",
      "\u001b[1m76/76\u001b[0m \u001b[32m━━━━━━━━━━━━━━━━━━━━\u001b[0m\u001b[37m\u001b[0m \u001b[1m346s\u001b[0m 5s/step - acc: 0.8903 - loss: 0.3697\n",
      "Epoch 4/5\n",
      "\u001b[1m76/76\u001b[0m \u001b[32m━━━━━━━━━━━━━━━━━━━━\u001b[0m\u001b[37m\u001b[0m \u001b[1m344s\u001b[0m 4s/step - acc: 0.9075 - loss: 0.3324\n",
      "Epoch 5/5\n",
      "\u001b[1m76/76\u001b[0m \u001b[32m━━━━━━━━━━━━━━━━━━━━\u001b[0m\u001b[37m\u001b[0m \u001b[1m343s\u001b[0m 4s/step - acc: 0.8966 - loss: 0.3364\n",
      "\u001b[1m1/1\u001b[0m \u001b[32m━━━━━━━━━━━━━━━━━━━━\u001b[0m\u001b[37m\u001b[0m \u001b[1m8s\u001b[0m 8s/step\n",
      "\u001b[1m1/1\u001b[0m \u001b[32m━━━━━━━━━━━━━━━━━━━━\u001b[0m\u001b[37m\u001b[0m \u001b[1m1s\u001b[0m 1s/step\n",
      "\u001b[1m1/1\u001b[0m \u001b[32m━━━━━━━━━━━━━━━━━━━━\u001b[0m\u001b[37m\u001b[0m \u001b[1m1s\u001b[0m 1s/step\n",
      "\u001b[1m1/1\u001b[0m \u001b[32m━━━━━━━━━━━━━━━━━━━━\u001b[0m\u001b[37m\u001b[0m \u001b[1m1s\u001b[0m 977ms/step\n",
      "\u001b[1m1/1\u001b[0m \u001b[32m━━━━━━━━━━━━━━━━━━━━\u001b[0m\u001b[37m\u001b[0m \u001b[1m1s\u001b[0m 1s/step\n",
      "\u001b[1m1/1\u001b[0m \u001b[32m━━━━━━━━━━━━━━━━━━━━\u001b[0m\u001b[37m\u001b[0m \u001b[1m1s\u001b[0m 1s/step\n",
      "\u001b[1m1/1\u001b[0m \u001b[32m━━━━━━━━━━━━━━━━━━━━\u001b[0m\u001b[37m\u001b[0m \u001b[1m1s\u001b[0m 1s/step\n",
      "\u001b[1m1/1\u001b[0m \u001b[32m━━━━━━━━━━━━━━━━━━━━\u001b[0m\u001b[37m\u001b[0m \u001b[1m1s\u001b[0m 1s/step\n",
      "\u001b[1m1/1\u001b[0m \u001b[32m━━━━━━━━━━━━━━━━━━━━\u001b[0m\u001b[37m\u001b[0m \u001b[1m1s\u001b[0m 1s/step\n",
      "\u001b[1m1/1\u001b[0m \u001b[32m━━━━━━━━━━━━━━━━━━━━\u001b[0m\u001b[37m\u001b[0m \u001b[1m1s\u001b[0m 1s/step\n",
      "\u001b[1m1/1\u001b[0m \u001b[32m━━━━━━━━━━━━━━━━━━━━\u001b[0m\u001b[37m\u001b[0m \u001b[1m1s\u001b[0m 1s/step\n",
      "\u001b[1m1/1\u001b[0m \u001b[32m━━━━━━━━━━━━━━━━━━━━\u001b[0m\u001b[37m\u001b[0m \u001b[1m1s\u001b[0m 1s/step\n",
      "\u001b[1m1/1\u001b[0m \u001b[32m━━━━━━━━━━━━━━━━━━━━\u001b[0m\u001b[37m\u001b[0m \u001b[1m1s\u001b[0m 1s/step\n",
      "\u001b[1m1/1\u001b[0m \u001b[32m━━━━━━━━━━━━━━━━━━━━\u001b[0m\u001b[37m\u001b[0m \u001b[1m1s\u001b[0m 1s/step\n",
      "\u001b[1m1/1\u001b[0m \u001b[32m━━━━━━━━━━━━━━━━━━━━\u001b[0m\u001b[37m\u001b[0m \u001b[1m1s\u001b[0m 1s/step\n",
      "\u001b[1m1/1\u001b[0m \u001b[32m━━━━━━━━━━━━━━━━━━━━\u001b[0m\u001b[37m\u001b[0m \u001b[1m1s\u001b[0m 936ms/step\n",
      "\u001b[1m1/1\u001b[0m \u001b[32m━━━━━━━━━━━━━━━━━━━━\u001b[0m\u001b[37m\u001b[0m \u001b[1m1s\u001b[0m 1s/step\n",
      "\u001b[1m1/1\u001b[0m \u001b[32m━━━━━━━━━━━━━━━━━━━━\u001b[0m\u001b[37m\u001b[0m \u001b[1m1s\u001b[0m 891ms/step\n",
      "\u001b[1m1/1\u001b[0m \u001b[32m━━━━━━━━━━━━━━━━━━━━\u001b[0m\u001b[37m\u001b[0m \u001b[1m7s\u001b[0m 7s/step\n",
      "Accuracy:  tf.Tensor(0.92, shape=(), dtype=float32)\n",
      "Epoch 1/5\n",
      "\u001b[1m76/76\u001b[0m \u001b[32m━━━━━━━━━━━━━━━━━━━━\u001b[0m\u001b[37m\u001b[0m \u001b[1m469s\u001b[0m 5s/step - acc: 0.8646 - loss: 0.8045\n",
      "Epoch 2/5\n",
      "\u001b[1m76/76\u001b[0m \u001b[32m━━━━━━━━━━━━━━━━━━━━\u001b[0m\u001b[37m\u001b[0m \u001b[1m383s\u001b[0m 5s/step - acc: 0.9173 - loss: 0.2849\n",
      "Epoch 3/5\n",
      "\u001b[1m76/76\u001b[0m \u001b[32m━━━━━━━━━━━━━━━━━━━━\u001b[0m\u001b[37m\u001b[0m \u001b[1m347s\u001b[0m 5s/step - acc: 0.8986 - loss: 0.3200\n",
      "Epoch 4/5\n",
      "\u001b[1m76/76\u001b[0m \u001b[32m━━━━━━━━━━━━━━━━━━━━\u001b[0m\u001b[37m\u001b[0m \u001b[1m350s\u001b[0m 5s/step - acc: 0.9061 - loss: 0.3670\n",
      "Epoch 5/5\n",
      "\u001b[1m76/76\u001b[0m \u001b[32m━━━━━━━━━━━━━━━━━━━━\u001b[0m\u001b[37m\u001b[0m \u001b[1m351s\u001b[0m 5s/step - acc: 0.8957 - loss: 0.3354\n",
      "\u001b[1m1/1\u001b[0m \u001b[32m━━━━━━━━━━━━━━━━━━━━\u001b[0m\u001b[37m\u001b[0m \u001b[1m8s\u001b[0m 8s/step\n",
      "\u001b[1m1/1\u001b[0m \u001b[32m━━━━━━━━━━━━━━━━━━━━\u001b[0m\u001b[37m\u001b[0m \u001b[1m1s\u001b[0m 971ms/step\n",
      "\u001b[1m1/1\u001b[0m \u001b[32m━━━━━━━━━━━━━━━━━━━━\u001b[0m\u001b[37m\u001b[0m \u001b[1m1s\u001b[0m 1s/step\n",
      "\u001b[1m1/1\u001b[0m \u001b[32m━━━━━━━━━━━━━━━━━━━━\u001b[0m\u001b[37m\u001b[0m \u001b[1m1s\u001b[0m 1s/step\n",
      "\u001b[1m1/1\u001b[0m \u001b[32m━━━━━━━━━━━━━━━━━━━━\u001b[0m\u001b[37m\u001b[0m \u001b[1m1s\u001b[0m 1s/step\n",
      "\u001b[1m1/1\u001b[0m \u001b[32m━━━━━━━━━━━━━━━━━━━━\u001b[0m\u001b[37m\u001b[0m \u001b[1m1s\u001b[0m 1s/step\n",
      "\u001b[1m1/1\u001b[0m \u001b[32m━━━━━━━━━━━━━━━━━━━━\u001b[0m\u001b[37m\u001b[0m \u001b[1m1s\u001b[0m 1s/step\n",
      "\u001b[1m1/1\u001b[0m \u001b[32m━━━━━━━━━━━━━━━━━━━━\u001b[0m\u001b[37m\u001b[0m \u001b[1m1s\u001b[0m 1s/step\n",
      "\u001b[1m1/1\u001b[0m \u001b[32m━━━━━━━━━━━━━━━━━━━━\u001b[0m\u001b[37m\u001b[0m \u001b[1m1s\u001b[0m 1s/step\n",
      "\u001b[1m1/1\u001b[0m \u001b[32m━━━━━━━━━━━━━━━━━━━━\u001b[0m\u001b[37m\u001b[0m \u001b[1m1s\u001b[0m 1s/step\n",
      "\u001b[1m1/1\u001b[0m \u001b[32m━━━━━━━━━━━━━━━━━━━━\u001b[0m\u001b[37m\u001b[0m \u001b[1m1s\u001b[0m 1s/step\n",
      "\u001b[1m1/1\u001b[0m \u001b[32m━━━━━━━━━━━━━━━━━━━━\u001b[0m\u001b[37m\u001b[0m \u001b[1m1s\u001b[0m 1s/step\n",
      "\u001b[1m1/1\u001b[0m \u001b[32m━━━━━━━━━━━━━━━━━━━━\u001b[0m\u001b[37m\u001b[0m \u001b[1m1s\u001b[0m 1s/step\n",
      "\u001b[1m1/1\u001b[0m \u001b[32m━━━━━━━━━━━━━━━━━━━━\u001b[0m\u001b[37m\u001b[0m \u001b[1m1s\u001b[0m 1s/step\n",
      "\u001b[1m1/1\u001b[0m \u001b[32m━━━━━━━━━━━━━━━━━━━━\u001b[0m\u001b[37m\u001b[0m \u001b[1m1s\u001b[0m 1s/step\n",
      "\u001b[1m1/1\u001b[0m \u001b[32m━━━━━━━━━━━━━━━━━━━━\u001b[0m\u001b[37m\u001b[0m \u001b[1m1s\u001b[0m 1s/step\n",
      "\u001b[1m1/1\u001b[0m \u001b[32m━━━━━━━━━━━━━━━━━━━━\u001b[0m\u001b[37m\u001b[0m \u001b[1m1s\u001b[0m 1s/step\n",
      "\u001b[1m1/1\u001b[0m \u001b[32m━━━━━━━━━━━━━━━━━━━━\u001b[0m\u001b[37m\u001b[0m \u001b[1m1s\u001b[0m 888ms/step\n",
      "\u001b[1m1/1\u001b[0m \u001b[32m━━━━━━━━━━━━━━━━━━━━\u001b[0m\u001b[37m\u001b[0m \u001b[1m7s\u001b[0m 7s/step\n",
      "Accuracy:  tf.Tensor(0.92, shape=(), dtype=float32)\n",
      "Epoch 1/5\n",
      "\u001b[1m76/76\u001b[0m \u001b[32m━━━━━━━━━━━━━━━━━━━━\u001b[0m\u001b[37m\u001b[0m \u001b[1m477s\u001b[0m 5s/step - acc: 0.8731 - loss: 0.5516\n",
      "Epoch 2/5\n",
      "\u001b[1m76/76\u001b[0m \u001b[32m━━━━━━━━━━━━━━━━━━━━\u001b[0m\u001b[37m\u001b[0m \u001b[1m351s\u001b[0m 5s/step - acc: 0.9048 - loss: 0.3702\n",
      "Epoch 3/5\n",
      "\u001b[1m76/76\u001b[0m \u001b[32m━━━━━━━━━━━━━━━━━━━━\u001b[0m\u001b[37m\u001b[0m \u001b[1m355s\u001b[0m 5s/step - acc: 0.9024 - loss: 0.3978\n",
      "Epoch 4/5\n",
      "\u001b[1m76/76\u001b[0m \u001b[32m━━━━━━━━━━━━━━━━━━━━\u001b[0m\u001b[37m\u001b[0m \u001b[1m354s\u001b[0m 5s/step - acc: 0.8933 - loss: 0.4104\n",
      "Epoch 5/5\n",
      "\u001b[1m76/76\u001b[0m \u001b[32m━━━━━━━━━━━━━━━━━━━━\u001b[0m\u001b[37m\u001b[0m \u001b[1m358s\u001b[0m 5s/step - acc: 0.9102 - loss: 0.3556\n",
      "\u001b[1m1/1\u001b[0m \u001b[32m━━━━━━━━━━━━━━━━━━━━\u001b[0m\u001b[37m\u001b[0m \u001b[1m8s\u001b[0m 8s/step\n",
      "\u001b[1m1/1\u001b[0m \u001b[32m━━━━━━━━━━━━━━━━━━━━\u001b[0m\u001b[37m\u001b[0m \u001b[1m1s\u001b[0m 996ms/step\n",
      "\u001b[1m1/1\u001b[0m \u001b[32m━━━━━━━━━━━━━━━━━━━━\u001b[0m\u001b[37m\u001b[0m \u001b[1m1s\u001b[0m 1s/step\n",
      "\u001b[1m1/1\u001b[0m \u001b[32m━━━━━━━━━━━━━━━━━━━━\u001b[0m\u001b[37m\u001b[0m \u001b[1m1s\u001b[0m 984ms/step\n",
      "\u001b[1m1/1\u001b[0m \u001b[32m━━━━━━━━━━━━━━━━━━━━\u001b[0m\u001b[37m\u001b[0m \u001b[1m1s\u001b[0m 1s/step\n",
      "\u001b[1m1/1\u001b[0m \u001b[32m━━━━━━━━━━━━━━━━━━━━\u001b[0m\u001b[37m\u001b[0m \u001b[1m1s\u001b[0m 1s/step\n",
      "\u001b[1m1/1\u001b[0m \u001b[32m━━━━━━━━━━━━━━━━━━━━\u001b[0m\u001b[37m\u001b[0m \u001b[1m1s\u001b[0m 1s/step\n",
      "\u001b[1m1/1\u001b[0m \u001b[32m━━━━━━━━━━━━━━━━━━━━\u001b[0m\u001b[37m\u001b[0m \u001b[1m1s\u001b[0m 1s/step\n",
      "\u001b[1m1/1\u001b[0m \u001b[32m━━━━━━━━━━━━━━━━━━━━\u001b[0m\u001b[37m\u001b[0m \u001b[1m1s\u001b[0m 1s/step\n",
      "\u001b[1m1/1\u001b[0m \u001b[32m━━━━━━━━━━━━━━━━━━━━\u001b[0m\u001b[37m\u001b[0m \u001b[1m1s\u001b[0m 973ms/step\n",
      "\u001b[1m1/1\u001b[0m \u001b[32m━━━━━━━━━━━━━━━━━━━━\u001b[0m\u001b[37m\u001b[0m \u001b[1m1s\u001b[0m 1s/step\n",
      "\u001b[1m1/1\u001b[0m \u001b[32m━━━━━━━━━━━━━━━━━━━━\u001b[0m\u001b[37m\u001b[0m \u001b[1m1s\u001b[0m 1s/step\n",
      "\u001b[1m1/1\u001b[0m \u001b[32m━━━━━━━━━━━━━━━━━━━━\u001b[0m\u001b[37m\u001b[0m \u001b[1m1s\u001b[0m 1s/step\n",
      "\u001b[1m1/1\u001b[0m \u001b[32m━━━━━━━━━━━━━━━━━━━━\u001b[0m\u001b[37m\u001b[0m \u001b[1m1s\u001b[0m 1s/step\n",
      "\u001b[1m1/1\u001b[0m \u001b[32m━━━━━━━━━━━━━━━━━━━━\u001b[0m\u001b[37m\u001b[0m \u001b[1m1s\u001b[0m 1s/step\n",
      "\u001b[1m1/1\u001b[0m \u001b[32m━━━━━━━━━━━━━━━━━━━━\u001b[0m\u001b[37m\u001b[0m \u001b[1m1s\u001b[0m 985ms/step\n",
      "\u001b[1m1/1\u001b[0m \u001b[32m━━━━━━━━━━━━━━━━━━━━\u001b[0m\u001b[37m\u001b[0m \u001b[1m1s\u001b[0m 1s/step\n",
      "\u001b[1m1/1\u001b[0m \u001b[32m━━━━━━━━━━━━━━━━━━━━\u001b[0m\u001b[37m\u001b[0m \u001b[1m1s\u001b[0m 907ms/step\n",
      "\u001b[1m1/1\u001b[0m \u001b[32m━━━━━━━━━━━━━━━━━━━━\u001b[0m\u001b[37m\u001b[0m \u001b[1m7s\u001b[0m 7s/step\n",
      "Accuracy:  tf.Tensor(0.92, shape=(), dtype=float32)\n",
      "Epoch 1/5\n",
      "\u001b[1m76/76\u001b[0m \u001b[32m━━━━━━━━━━━━━━━━━━━━\u001b[0m\u001b[37m\u001b[0m \u001b[1m490s\u001b[0m 5s/step - acc: 0.8614 - loss: 0.4961\n",
      "Epoch 2/5\n",
      "\u001b[1m76/76\u001b[0m \u001b[32m━━━━━━━━━━━━━━━━━━━━\u001b[0m\u001b[37m\u001b[0m \u001b[1m360s\u001b[0m 5s/step - acc: 0.9109 - loss: 0.2941\n",
      "Epoch 3/5\n",
      "\u001b[1m76/76\u001b[0m \u001b[32m━━━━━━━━━━━━━━━━━━━━\u001b[0m\u001b[37m\u001b[0m \u001b[1m359s\u001b[0m 5s/step - acc: 0.8872 - loss: 0.4383\n",
      "Epoch 4/5\n",
      "\u001b[1m76/76\u001b[0m \u001b[32m━━━━━━━━━━━━━━━━━━━━\u001b[0m\u001b[37m\u001b[0m \u001b[1m359s\u001b[0m 5s/step - acc: 0.9049 - loss: 0.3177\n",
      "Epoch 5/5\n",
      "\u001b[1m76/76\u001b[0m \u001b[32m━━━━━━━━━━━━━━━━━━━━\u001b[0m\u001b[37m\u001b[0m \u001b[1m357s\u001b[0m 5s/step - acc: 0.9009 - loss: 0.3212\n",
      "\u001b[1m1/1\u001b[0m \u001b[32m━━━━━━━━━━━━━━━━━━━━\u001b[0m\u001b[37m\u001b[0m \u001b[1m8s\u001b[0m 8s/step\n",
      "\u001b[1m1/1\u001b[0m \u001b[32m━━━━━━━━━━━━━━━━━━━━\u001b[0m\u001b[37m\u001b[0m \u001b[1m1s\u001b[0m 1s/step\n",
      "\u001b[1m1/1\u001b[0m \u001b[32m━━━━━━━━━━━━━━━━━━━━\u001b[0m\u001b[37m\u001b[0m \u001b[1m1s\u001b[0m 1s/step\n",
      "\u001b[1m1/1\u001b[0m \u001b[32m━━━━━━━━━━━━━━━━━━━━\u001b[0m\u001b[37m\u001b[0m \u001b[1m1s\u001b[0m 952ms/step\n",
      "\u001b[1m1/1\u001b[0m \u001b[32m━━━━━━━━━━━━━━━━━━━━\u001b[0m\u001b[37m\u001b[0m \u001b[1m1s\u001b[0m 1s/step\n",
      "\u001b[1m1/1\u001b[0m \u001b[32m━━━━━━━━━━━━━━━━━━━━\u001b[0m\u001b[37m\u001b[0m \u001b[1m1s\u001b[0m 1s/step\n",
      "\u001b[1m1/1\u001b[0m \u001b[32m━━━━━━━━━━━━━━━━━━━━\u001b[0m\u001b[37m\u001b[0m \u001b[1m1s\u001b[0m 1s/step\n",
      "\u001b[1m1/1\u001b[0m \u001b[32m━━━━━━━━━━━━━━━━━━━━\u001b[0m\u001b[37m\u001b[0m \u001b[1m1s\u001b[0m 1s/step\n",
      "\u001b[1m1/1\u001b[0m \u001b[32m━━━━━━━━━━━━━━━━━━━━\u001b[0m\u001b[37m\u001b[0m \u001b[1m1s\u001b[0m 1s/step\n",
      "\u001b[1m1/1\u001b[0m \u001b[32m━━━━━━━━━━━━━━━━━━━━\u001b[0m\u001b[37m\u001b[0m \u001b[1m1s\u001b[0m 1s/step\n",
      "\u001b[1m1/1\u001b[0m \u001b[32m━━━━━━━━━━━━━━━━━━━━\u001b[0m\u001b[37m\u001b[0m \u001b[1m1s\u001b[0m 1s/step\n",
      "\u001b[1m1/1\u001b[0m \u001b[32m━━━━━━━━━━━━━━━━━━━━\u001b[0m\u001b[37m\u001b[0m \u001b[1m1s\u001b[0m 1s/step\n",
      "\u001b[1m1/1\u001b[0m \u001b[32m━━━━━━━━━━━━━━━━━━━━\u001b[0m\u001b[37m\u001b[0m \u001b[1m1s\u001b[0m 1s/step\n",
      "\u001b[1m1/1\u001b[0m \u001b[32m━━━━━━━━━━━━━━━━━━━━\u001b[0m\u001b[37m\u001b[0m \u001b[1m1s\u001b[0m 1s/step\n",
      "\u001b[1m1/1\u001b[0m \u001b[32m━━━━━━━━━━━━━━━━━━━━\u001b[0m\u001b[37m\u001b[0m \u001b[1m2s\u001b[0m 2s/step\n",
      "\u001b[1m1/1\u001b[0m \u001b[32m━━━━━━━━━━━━━━━━━━━━\u001b[0m\u001b[37m\u001b[0m \u001b[1m1s\u001b[0m 1s/step\n",
      "\u001b[1m1/1\u001b[0m \u001b[32m━━━━━━━━━━━━━━━━━━━━\u001b[0m\u001b[37m\u001b[0m \u001b[1m1s\u001b[0m 1s/step\n",
      "\u001b[1m1/1\u001b[0m \u001b[32m━━━━━━━━━━━━━━━━━━━━\u001b[0m\u001b[37m\u001b[0m \u001b[1m1s\u001b[0m 1s/step\n",
      "\u001b[1m1/1\u001b[0m \u001b[32m━━━━━━━━━━━━━━━━━━━━\u001b[0m\u001b[37m\u001b[0m \u001b[1m8s\u001b[0m 8s/step\n",
      "Accuracy:  tf.Tensor(0.92, shape=(), dtype=float32)\n"
     ]
    }
   ],
   "source": [
    "accs = []\n",
    "for i in range(5):\n",
    "  model = init_model(freeze=False)\n",
    "  model.compile(\n",
    "    loss=tf.keras.losses.binary_crossentropy ,\n",
    "    optimizer=tf.keras.optimizers.Adam(learning_rate=0.01),\n",
    "    metrics=['acc'],\n",
    "\n",
    "  )\n",
    "  history = model.fit(\n",
    "      training_dataset,\n",
    "      epochs=5,\n",
    "      verbose = 1,\n",
    "  )\n",
    "  result = evaluate(model, validation_dataset)\n",
    "  accs.append(result)\n",
    "  print(\"Accuracy: \", result)"
   ]
  },
  {
   "cell_type": "code",
   "execution_count": 23,
   "id": "2c1e6f31",
   "metadata": {
    "execution": {
     "iopub.execute_input": "2025-07-18T09:11:08.095091Z",
     "iopub.status.busy": "2025-07-18T09:11:08.094659Z",
     "iopub.status.idle": "2025-07-18T09:11:08.107960Z",
     "shell.execute_reply": "2025-07-18T09:11:08.106818Z"
    },
    "papermill": {
     "duration": 0.150526,
     "end_time": "2025-07-18T09:11:08.110020",
     "exception": false,
     "start_time": "2025-07-18T09:11:07.959494",
     "status": "completed"
    },
    "tags": []
   },
   "outputs": [
    {
     "data": {
      "text/plain": [
       "(0.92, 0.0, 0.92)"
      ]
     },
     "execution_count": 23,
     "metadata": {},
     "output_type": "execute_result"
    }
   ],
   "source": [
    "np.mean(accs).round(6), np.std(accs).round(6), np.median(accs).round(6)"
   ]
  },
  {
   "cell_type": "code",
   "execution_count": 24,
   "id": "05af499e",
   "metadata": {
    "execution": {
     "iopub.execute_input": "2025-07-18T09:11:08.380088Z",
     "iopub.status.busy": "2025-07-18T09:11:08.379635Z",
     "iopub.status.idle": "2025-07-18T09:11:08.388034Z",
     "shell.execute_reply": "2025-07-18T09:11:08.386902Z"
    },
    "papermill": {
     "duration": 0.145365,
     "end_time": "2025-07-18T09:11:08.390194",
     "exception": false,
     "start_time": "2025-07-18T09:11:08.244829",
     "status": "completed"
    },
    "tags": []
   },
   "outputs": [
    {
     "data": {
      "text/plain": [
       "5.9604645e-08"
      ]
     },
     "execution_count": 24,
     "metadata": {},
     "output_type": "execute_result"
    }
   ],
   "source": [
    "np.std(accs)"
   ]
  },
  {
   "cell_type": "code",
   "execution_count": null,
   "id": "7441b533",
   "metadata": {
    "papermill": {
     "duration": 0.12708,
     "end_time": "2025-07-18T09:11:08.651485",
     "exception": false,
     "start_time": "2025-07-18T09:11:08.524405",
     "status": "completed"
    },
    "tags": []
   },
   "outputs": [],
   "source": []
  },
  {
   "cell_type": "code",
   "execution_count": null,
   "id": "04f541e5",
   "metadata": {
    "papermill": {
     "duration": 0.129827,
     "end_time": "2025-07-18T09:11:08.909699",
     "exception": false,
     "start_time": "2025-07-18T09:11:08.779872",
     "status": "completed"
    },
    "tags": []
   },
   "outputs": [],
   "source": []
  },
  {
   "cell_type": "markdown",
   "id": "a56fd25c",
   "metadata": {
    "execution": {
     "iopub.status.busy": "2024-05-27T23:13:37.344875Z",
     "iopub.status.idle": "2024-05-27T23:13:37.345193Z",
     "shell.execute_reply": "2024-05-27T23:13:37.345051Z",
     "shell.execute_reply.started": "2024-05-27T23:13:37.345032Z"
    },
    "papermill": {
     "duration": 0.127932,
     "end_time": "2025-07-18T09:11:09.163746",
     "exception": false,
     "start_time": "2025-07-18T09:11:09.035814",
     "status": "completed"
    },
    "tags": []
   },
   "source": [
    "# Resultados com freeze=True"
   ]
  },
  {
   "cell_type": "code",
   "execution_count": 25,
   "id": "4aee5124",
   "metadata": {
    "execution": {
     "iopub.execute_input": "2025-07-18T09:11:09.427789Z",
     "iopub.status.busy": "2025-07-18T09:11:09.427402Z",
     "iopub.status.idle": "2025-07-18T09:54:55.598334Z",
     "shell.execute_reply": "2025-07-18T09:54:55.597125Z"
    },
    "papermill": {
     "duration": 2626.305605,
     "end_time": "2025-07-18T09:54:55.601059",
     "exception": false,
     "start_time": "2025-07-18T09:11:09.295454",
     "status": "completed"
    },
    "tags": []
   },
   "outputs": [
    {
     "name": "stdout",
     "output_type": "stream",
     "text": [
      "Epoch 1/5\n",
      "\u001b[1m76/76\u001b[0m \u001b[32m━━━━━━━━━━━━━━━━━━━━\u001b[0m\u001b[37m\u001b[0m \u001b[1m129s\u001b[0m 1s/step - acc: 0.8123 - loss: 1.2093\n",
      "Epoch 2/5\n",
      "\u001b[1m76/76\u001b[0m \u001b[32m━━━━━━━━━━━━━━━━━━━━\u001b[0m\u001b[37m\u001b[0m \u001b[1m91s\u001b[0m 1s/step - acc: 0.8457 - loss: 0.5505\n",
      "Epoch 3/5\n",
      "\u001b[1m76/76\u001b[0m \u001b[32m━━━━━━━━━━━━━━━━━━━━\u001b[0m\u001b[37m\u001b[0m \u001b[1m90s\u001b[0m 1s/step - acc: 0.8624 - loss: 0.8326\n",
      "Epoch 4/5\n",
      "\u001b[1m76/76\u001b[0m \u001b[32m━━━━━━━━━━━━━━━━━━━━\u001b[0m\u001b[37m\u001b[0m \u001b[1m142s\u001b[0m 1s/step - acc: 0.8735 - loss: 0.9685\n",
      "Epoch 5/5\n",
      "\u001b[1m76/76\u001b[0m \u001b[32m━━━━━━━━━━━━━━━━━━━━\u001b[0m\u001b[37m\u001b[0m \u001b[1m90s\u001b[0m 1s/step - acc: 0.8311 - loss: 0.9173\n",
      "\u001b[1m1/1\u001b[0m \u001b[32m━━━━━━━━━━━━━━━━━━━━\u001b[0m\u001b[37m\u001b[0m \u001b[1m8s\u001b[0m 8s/step\n",
      "\u001b[1m1/1\u001b[0m \u001b[32m━━━━━━━━━━━━━━━━━━━━\u001b[0m\u001b[37m\u001b[0m \u001b[1m1s\u001b[0m 1s/step\n",
      "\u001b[1m1/1\u001b[0m \u001b[32m━━━━━━━━━━━━━━━━━━━━\u001b[0m\u001b[37m\u001b[0m \u001b[1m1s\u001b[0m 1s/step\n",
      "\u001b[1m1/1\u001b[0m \u001b[32m━━━━━━━━━━━━━━━━━━━━\u001b[0m\u001b[37m\u001b[0m \u001b[1m1s\u001b[0m 1s/step\n",
      "\u001b[1m1/1\u001b[0m \u001b[32m━━━━━━━━━━━━━━━━━━━━\u001b[0m\u001b[37m\u001b[0m \u001b[1m1s\u001b[0m 1s/step\n",
      "\u001b[1m1/1\u001b[0m \u001b[32m━━━━━━━━━━━━━━━━━━━━\u001b[0m\u001b[37m\u001b[0m \u001b[1m1s\u001b[0m 1s/step\n",
      "\u001b[1m1/1\u001b[0m \u001b[32m━━━━━━━━━━━━━━━━━━━━\u001b[0m\u001b[37m\u001b[0m \u001b[1m1s\u001b[0m 1s/step\n",
      "\u001b[1m1/1\u001b[0m \u001b[32m━━━━━━━━━━━━━━━━━━━━\u001b[0m\u001b[37m\u001b[0m \u001b[1m1s\u001b[0m 1s/step\n",
      "\u001b[1m1/1\u001b[0m \u001b[32m━━━━━━━━━━━━━━━━━━━━\u001b[0m\u001b[37m\u001b[0m \u001b[1m1s\u001b[0m 1s/step\n",
      "\u001b[1m1/1\u001b[0m \u001b[32m━━━━━━━━━━━━━━━━━━━━\u001b[0m\u001b[37m\u001b[0m \u001b[1m1s\u001b[0m 1s/step\n",
      "\u001b[1m1/1\u001b[0m \u001b[32m━━━━━━━━━━━━━━━━━━━━\u001b[0m\u001b[37m\u001b[0m \u001b[1m1s\u001b[0m 1s/step\n",
      "\u001b[1m1/1\u001b[0m \u001b[32m━━━━━━━━━━━━━━━━━━━━\u001b[0m\u001b[37m\u001b[0m \u001b[1m1s\u001b[0m 1s/step\n",
      "\u001b[1m1/1\u001b[0m \u001b[32m━━━━━━━━━━━━━━━━━━━━\u001b[0m\u001b[37m\u001b[0m \u001b[1m1s\u001b[0m 1s/step\n",
      "\u001b[1m1/1\u001b[0m \u001b[32m━━━━━━━━━━━━━━━━━━━━\u001b[0m\u001b[37m\u001b[0m \u001b[1m1s\u001b[0m 1s/step\n",
      "\u001b[1m1/1\u001b[0m \u001b[32m━━━━━━━━━━━━━━━━━━━━\u001b[0m\u001b[37m\u001b[0m \u001b[1m1s\u001b[0m 1s/step\n",
      "\u001b[1m1/1\u001b[0m \u001b[32m━━━━━━━━━━━━━━━━━━━━\u001b[0m\u001b[37m\u001b[0m \u001b[1m1s\u001b[0m 1s/step\n",
      "\u001b[1m1/1\u001b[0m \u001b[32m━━━━━━━━━━━━━━━━━━━━\u001b[0m\u001b[37m\u001b[0m \u001b[1m1s\u001b[0m 1s/step\n",
      "\u001b[1m1/1\u001b[0m \u001b[32m━━━━━━━━━━━━━━━━━━━━\u001b[0m\u001b[37m\u001b[0m \u001b[1m1s\u001b[0m 1s/step\n",
      "\u001b[1m1/1\u001b[0m \u001b[32m━━━━━━━━━━━━━━━━━━━━\u001b[0m\u001b[37m\u001b[0m \u001b[1m7s\u001b[0m 7s/step\n",
      "Accuracy:  tf.Tensor(0.92, shape=(), dtype=float32)\n",
      "Epoch 1/5\n",
      "\u001b[1m76/76\u001b[0m \u001b[32m━━━━━━━━━━━━━━━━━━━━\u001b[0m\u001b[37m\u001b[0m \u001b[1m110s\u001b[0m 1s/step - acc: 0.8094 - loss: 1.4315\n",
      "Epoch 2/5\n",
      "\u001b[1m76/76\u001b[0m \u001b[32m━━━━━━━━━━━━━━━━━━━━\u001b[0m\u001b[37m\u001b[0m \u001b[1m88s\u001b[0m 1s/step - acc: 0.8464 - loss: 0.7934\n",
      "Epoch 3/5\n",
      "\u001b[1m76/76\u001b[0m \u001b[32m━━━━━━━━━━━━━━━━━━━━\u001b[0m\u001b[37m\u001b[0m \u001b[1m89s\u001b[0m 1s/step - acc: 0.8187 - loss: 0.6658\n",
      "Epoch 4/5\n",
      "\u001b[1m76/76\u001b[0m \u001b[32m━━━━━━━━━━━━━━━━━━━━\u001b[0m\u001b[37m\u001b[0m \u001b[1m88s\u001b[0m 1s/step - acc: 0.8532 - loss: 1.1089\n",
      "Epoch 5/5\n",
      "\u001b[1m76/76\u001b[0m \u001b[32m━━━━━━━━━━━━━━━━━━━━\u001b[0m\u001b[37m\u001b[0m \u001b[1m89s\u001b[0m 1s/step - acc: 0.8223 - loss: 1.0704\n",
      "\u001b[1m1/1\u001b[0m \u001b[32m━━━━━━━━━━━━━━━━━━━━\u001b[0m\u001b[37m\u001b[0m \u001b[1m7s\u001b[0m 7s/step\n",
      "\u001b[1m1/1\u001b[0m \u001b[32m━━━━━━━━━━━━━━━━━━━━\u001b[0m\u001b[37m\u001b[0m \u001b[1m1s\u001b[0m 1s/step\n",
      "\u001b[1m1/1\u001b[0m \u001b[32m━━━━━━━━━━━━━━━━━━━━\u001b[0m\u001b[37m\u001b[0m \u001b[1m1s\u001b[0m 1s/step\n",
      "\u001b[1m1/1\u001b[0m \u001b[32m━━━━━━━━━━━━━━━━━━━━\u001b[0m\u001b[37m\u001b[0m \u001b[1m1s\u001b[0m 1s/step\n",
      "\u001b[1m1/1\u001b[0m \u001b[32m━━━━━━━━━━━━━━━━━━━━\u001b[0m\u001b[37m\u001b[0m \u001b[1m1s\u001b[0m 1s/step\n",
      "\u001b[1m1/1\u001b[0m \u001b[32m━━━━━━━━━━━━━━━━━━━━\u001b[0m\u001b[37m\u001b[0m \u001b[1m1s\u001b[0m 1s/step\n",
      "\u001b[1m1/1\u001b[0m \u001b[32m━━━━━━━━━━━━━━━━━━━━\u001b[0m\u001b[37m\u001b[0m \u001b[1m1s\u001b[0m 1s/step\n",
      "\u001b[1m1/1\u001b[0m \u001b[32m━━━━━━━━━━━━━━━━━━━━\u001b[0m\u001b[37m\u001b[0m \u001b[1m1s\u001b[0m 1s/step\n",
      "\u001b[1m1/1\u001b[0m \u001b[32m━━━━━━━━━━━━━━━━━━━━\u001b[0m\u001b[37m\u001b[0m \u001b[1m1s\u001b[0m 1s/step\n",
      "\u001b[1m1/1\u001b[0m \u001b[32m━━━━━━━━━━━━━━━━━━━━\u001b[0m\u001b[37m\u001b[0m \u001b[1m1s\u001b[0m 974ms/step\n",
      "\u001b[1m1/1\u001b[0m \u001b[32m━━━━━━━━━━━━━━━━━━━━\u001b[0m\u001b[37m\u001b[0m \u001b[1m1s\u001b[0m 1s/step\n",
      "\u001b[1m1/1\u001b[0m \u001b[32m━━━━━━━━━━━━━━━━━━━━\u001b[0m\u001b[37m\u001b[0m \u001b[1m1s\u001b[0m 1s/step\n",
      "\u001b[1m1/1\u001b[0m \u001b[32m━━━━━━━━━━━━━━━━━━━━\u001b[0m\u001b[37m\u001b[0m \u001b[1m1s\u001b[0m 1s/step\n",
      "\u001b[1m1/1\u001b[0m \u001b[32m━━━━━━━━━━━━━━━━━━━━\u001b[0m\u001b[37m\u001b[0m \u001b[1m1s\u001b[0m 1s/step\n",
      "\u001b[1m1/1\u001b[0m \u001b[32m━━━━━━━━━━━━━━━━━━━━\u001b[0m\u001b[37m\u001b[0m \u001b[1m1s\u001b[0m 1s/step\n",
      "\u001b[1m1/1\u001b[0m \u001b[32m━━━━━━━━━━━━━━━━━━━━\u001b[0m\u001b[37m\u001b[0m \u001b[1m1s\u001b[0m 1s/step\n",
      "\u001b[1m1/1\u001b[0m \u001b[32m━━━━━━━━━━━━━━━━━━━━\u001b[0m\u001b[37m\u001b[0m \u001b[1m1s\u001b[0m 1s/step\n",
      "\u001b[1m1/1\u001b[0m \u001b[32m━━━━━━━━━━━━━━━━━━━━\u001b[0m\u001b[37m\u001b[0m \u001b[1m1s\u001b[0m 897ms/step\n",
      "\u001b[1m1/1\u001b[0m \u001b[32m━━━━━━━━━━━━━━━━━━━━\u001b[0m\u001b[37m\u001b[0m \u001b[1m7s\u001b[0m 7s/step\n",
      "Accuracy:  tf.Tensor(0.88666666, shape=(), dtype=float32)\n",
      "Epoch 1/5\n",
      "\u001b[1m76/76\u001b[0m \u001b[32m━━━━━━━━━━━━━━━━━━━━\u001b[0m\u001b[37m\u001b[0m \u001b[1m112s\u001b[0m 1s/step - acc: 0.8241 - loss: 0.9505\n",
      "Epoch 2/5\n",
      "\u001b[1m76/76\u001b[0m \u001b[32m━━━━━━━━━━━━━━━━━━━━\u001b[0m\u001b[37m\u001b[0m \u001b[1m88s\u001b[0m 1s/step - acc: 0.8457 - loss: 0.8926\n",
      "Epoch 3/5\n",
      "\u001b[1m76/76\u001b[0m \u001b[32m━━━━━━━━━━━━━━━━━━━━\u001b[0m\u001b[37m\u001b[0m \u001b[1m89s\u001b[0m 1s/step - acc: 0.8377 - loss: 0.6705\n",
      "Epoch 4/5\n",
      "\u001b[1m76/76\u001b[0m \u001b[32m━━━━━━━━━━━━━━━━━━━━\u001b[0m\u001b[37m\u001b[0m \u001b[1m92s\u001b[0m 1s/step - acc: 0.8864 - loss: 0.6040\n",
      "Epoch 5/5\n",
      "\u001b[1m76/76\u001b[0m \u001b[32m━━━━━━━━━━━━━━━━━━━━\u001b[0m\u001b[37m\u001b[0m \u001b[1m89s\u001b[0m 1s/step - acc: 0.8404 - loss: 0.8602\n",
      "\u001b[1m1/1\u001b[0m \u001b[32m━━━━━━━━━━━━━━━━━━━━\u001b[0m\u001b[37m\u001b[0m \u001b[1m7s\u001b[0m 7s/step\n",
      "\u001b[1m1/1\u001b[0m \u001b[32m━━━━━━━━━━━━━━━━━━━━\u001b[0m\u001b[37m\u001b[0m \u001b[1m1s\u001b[0m 1s/step\n",
      "\u001b[1m1/1\u001b[0m \u001b[32m━━━━━━━━━━━━━━━━━━━━\u001b[0m\u001b[37m\u001b[0m \u001b[1m1s\u001b[0m 1s/step\n",
      "\u001b[1m1/1\u001b[0m \u001b[32m━━━━━━━━━━━━━━━━━━━━\u001b[0m\u001b[37m\u001b[0m \u001b[1m1s\u001b[0m 1s/step\n",
      "\u001b[1m1/1\u001b[0m \u001b[32m━━━━━━━━━━━━━━━━━━━━\u001b[0m\u001b[37m\u001b[0m \u001b[1m1s\u001b[0m 1s/step\n",
      "\u001b[1m1/1\u001b[0m \u001b[32m━━━━━━━━━━━━━━━━━━━━\u001b[0m\u001b[37m\u001b[0m \u001b[1m1s\u001b[0m 975ms/step\n",
      "\u001b[1m1/1\u001b[0m \u001b[32m━━━━━━━━━━━━━━━━━━━━\u001b[0m\u001b[37m\u001b[0m \u001b[1m1s\u001b[0m 1s/step\n",
      "\u001b[1m1/1\u001b[0m \u001b[32m━━━━━━━━━━━━━━━━━━━━\u001b[0m\u001b[37m\u001b[0m \u001b[1m1s\u001b[0m 1s/step\n",
      "\u001b[1m1/1\u001b[0m \u001b[32m━━━━━━━━━━━━━━━━━━━━\u001b[0m\u001b[37m\u001b[0m \u001b[1m1s\u001b[0m 1s/step\n",
      "\u001b[1m1/1\u001b[0m \u001b[32m━━━━━━━━━━━━━━━━━━━━\u001b[0m\u001b[37m\u001b[0m \u001b[1m1s\u001b[0m 964ms/step\n",
      "\u001b[1m1/1\u001b[0m \u001b[32m━━━━━━━━━━━━━━━━━━━━\u001b[0m\u001b[37m\u001b[0m \u001b[1m1s\u001b[0m 1s/step\n",
      "\u001b[1m1/1\u001b[0m \u001b[32m━━━━━━━━━━━━━━━━━━━━\u001b[0m\u001b[37m\u001b[0m \u001b[1m1s\u001b[0m 1s/step\n",
      "\u001b[1m1/1\u001b[0m \u001b[32m━━━━━━━━━━━━━━━━━━━━\u001b[0m\u001b[37m\u001b[0m \u001b[1m1s\u001b[0m 1s/step\n",
      "\u001b[1m1/1\u001b[0m \u001b[32m━━━━━━━━━━━━━━━━━━━━\u001b[0m\u001b[37m\u001b[0m \u001b[1m1s\u001b[0m 1s/step\n",
      "\u001b[1m1/1\u001b[0m \u001b[32m━━━━━━━━━━━━━━━━━━━━\u001b[0m\u001b[37m\u001b[0m \u001b[1m1s\u001b[0m 1s/step\n",
      "\u001b[1m1/1\u001b[0m \u001b[32m━━━━━━━━━━━━━━━━━━━━\u001b[0m\u001b[37m\u001b[0m \u001b[1m1s\u001b[0m 1s/step\n",
      "\u001b[1m1/1\u001b[0m \u001b[32m━━━━━━━━━━━━━━━━━━━━\u001b[0m\u001b[37m\u001b[0m \u001b[1m1s\u001b[0m 1s/step\n",
      "\u001b[1m1/1\u001b[0m \u001b[32m━━━━━━━━━━━━━━━━━━━━\u001b[0m\u001b[37m\u001b[0m \u001b[1m1s\u001b[0m 900ms/step\n",
      "\u001b[1m1/1\u001b[0m \u001b[32m━━━━━━━━━━━━━━━━━━━━\u001b[0m\u001b[37m\u001b[0m \u001b[1m7s\u001b[0m 7s/step\n",
      "Accuracy:  tf.Tensor(0.92, shape=(), dtype=float32)\n",
      "Epoch 1/5\n",
      "\u001b[1m76/76\u001b[0m \u001b[32m━━━━━━━━━━━━━━━━━━━━\u001b[0m\u001b[37m\u001b[0m \u001b[1m111s\u001b[0m 1s/step - acc: 0.8211 - loss: 1.1862\n",
      "Epoch 2/5\n",
      "\u001b[1m76/76\u001b[0m \u001b[32m━━━━━━━━━━━━━━━━━━━━\u001b[0m\u001b[37m\u001b[0m \u001b[1m88s\u001b[0m 1s/step - acc: 0.8322 - loss: 0.8920\n",
      "Epoch 3/5\n",
      "\u001b[1m76/76\u001b[0m \u001b[32m━━━━━━━━━━━━━━━━━━━━\u001b[0m\u001b[37m\u001b[0m \u001b[1m88s\u001b[0m 1s/step - acc: 0.8112 - loss: 0.8797\n",
      "Epoch 4/5\n",
      "\u001b[1m76/76\u001b[0m \u001b[32m━━━━━━━━━━━━━━━━━━━━\u001b[0m\u001b[37m\u001b[0m \u001b[1m89s\u001b[0m 1s/step - acc: 0.8412 - loss: 1.2907\n",
      "Epoch 5/5\n",
      "\u001b[1m76/76\u001b[0m \u001b[32m━━━━━━━━━━━━━━━━━━━━\u001b[0m\u001b[37m\u001b[0m \u001b[1m89s\u001b[0m 1s/step - acc: 0.8511 - loss: 1.4640\n",
      "\u001b[1m1/1\u001b[0m \u001b[32m━━━━━━━━━━━━━━━━━━━━\u001b[0m\u001b[37m\u001b[0m \u001b[1m7s\u001b[0m 7s/step\n",
      "\u001b[1m1/1\u001b[0m \u001b[32m━━━━━━━━━━━━━━━━━━━━\u001b[0m\u001b[37m\u001b[0m \u001b[1m1s\u001b[0m 1s/step\n",
      "\u001b[1m1/1\u001b[0m \u001b[32m━━━━━━━━━━━━━━━━━━━━\u001b[0m\u001b[37m\u001b[0m \u001b[1m1s\u001b[0m 1s/step\n",
      "\u001b[1m1/1\u001b[0m \u001b[32m━━━━━━━━━━━━━━━━━━━━\u001b[0m\u001b[37m\u001b[0m \u001b[1m1s\u001b[0m 1s/step\n",
      "\u001b[1m1/1\u001b[0m \u001b[32m━━━━━━━━━━━━━━━━━━━━\u001b[0m\u001b[37m\u001b[0m \u001b[1m1s\u001b[0m 1s/step\n",
      "\u001b[1m1/1\u001b[0m \u001b[32m━━━━━━━━━━━━━━━━━━━━\u001b[0m\u001b[37m\u001b[0m \u001b[1m1s\u001b[0m 1s/step\n",
      "\u001b[1m1/1\u001b[0m \u001b[32m━━━━━━━━━━━━━━━━━━━━\u001b[0m\u001b[37m\u001b[0m \u001b[1m1s\u001b[0m 1s/step\n",
      "\u001b[1m1/1\u001b[0m \u001b[32m━━━━━━━━━━━━━━━━━━━━\u001b[0m\u001b[37m\u001b[0m \u001b[1m1s\u001b[0m 1s/step\n",
      "\u001b[1m1/1\u001b[0m \u001b[32m━━━━━━━━━━━━━━━━━━━━\u001b[0m\u001b[37m\u001b[0m \u001b[1m1s\u001b[0m 1s/step\n",
      "\u001b[1m1/1\u001b[0m \u001b[32m━━━━━━━━━━━━━━━━━━━━\u001b[0m\u001b[37m\u001b[0m \u001b[1m1s\u001b[0m 1s/step\n",
      "\u001b[1m1/1\u001b[0m \u001b[32m━━━━━━━━━━━━━━━━━━━━\u001b[0m\u001b[37m\u001b[0m \u001b[1m1s\u001b[0m 1s/step\n",
      "\u001b[1m1/1\u001b[0m \u001b[32m━━━━━━━━━━━━━━━━━━━━\u001b[0m\u001b[37m\u001b[0m \u001b[1m1s\u001b[0m 1s/step\n",
      "\u001b[1m1/1\u001b[0m \u001b[32m━━━━━━━━━━━━━━━━━━━━\u001b[0m\u001b[37m\u001b[0m \u001b[1m1s\u001b[0m 1s/step\n",
      "\u001b[1m1/1\u001b[0m \u001b[32m━━━━━━━━━━━━━━━━━━━━\u001b[0m\u001b[37m\u001b[0m \u001b[1m1s\u001b[0m 1s/step\n",
      "\u001b[1m1/1\u001b[0m \u001b[32m━━━━━━━━━━━━━━━━━━━━\u001b[0m\u001b[37m\u001b[0m \u001b[1m1s\u001b[0m 1s/step\n",
      "\u001b[1m1/1\u001b[0m \u001b[32m━━━━━━━━━━━━━━━━━━━━\u001b[0m\u001b[37m\u001b[0m \u001b[1m1s\u001b[0m 1s/step\n",
      "\u001b[1m1/1\u001b[0m \u001b[32m━━━━━━━━━━━━━━━━━━━━\u001b[0m\u001b[37m\u001b[0m \u001b[1m1s\u001b[0m 1s/step\n",
      "\u001b[1m1/1\u001b[0m \u001b[32m━━━━━━━━━━━━━━━━━━━━\u001b[0m\u001b[37m\u001b[0m \u001b[1m1s\u001b[0m 899ms/step\n",
      "\u001b[1m1/1\u001b[0m \u001b[32m━━━━━━━━━━━━━━━━━━━━\u001b[0m\u001b[37m\u001b[0m \u001b[1m7s\u001b[0m 7s/step\n",
      "Accuracy:  tf.Tensor(0.8666667, shape=(), dtype=float32)\n",
      "Epoch 1/5\n",
      "\u001b[1m76/76\u001b[0m \u001b[32m━━━━━━━━━━━━━━━━━━━━\u001b[0m\u001b[37m\u001b[0m \u001b[1m125s\u001b[0m 1s/step - acc: 0.8425 - loss: 1.0367\n",
      "Epoch 2/5\n",
      "\u001b[1m76/76\u001b[0m \u001b[32m━━━━━━━━━━━━━━━━━━━━\u001b[0m\u001b[37m\u001b[0m \u001b[1m89s\u001b[0m 1s/step - acc: 0.8485 - loss: 0.7718\n",
      "Epoch 3/5\n",
      "\u001b[1m76/76\u001b[0m \u001b[32m━━━━━━━━━━━━━━━━━━━━\u001b[0m\u001b[37m\u001b[0m \u001b[1m88s\u001b[0m 1s/step - acc: 0.8254 - loss: 1.0659\n",
      "Epoch 4/5\n",
      "\u001b[1m76/76\u001b[0m \u001b[32m━━━━━━━━━━━━━━━━━━━━\u001b[0m\u001b[37m\u001b[0m \u001b[1m89s\u001b[0m 1s/step - acc: 0.8457 - loss: 0.7303\n",
      "Epoch 5/5\n",
      "\u001b[1m76/76\u001b[0m \u001b[32m━━━━━━━━━━━━━━━━━━━━\u001b[0m\u001b[37m\u001b[0m \u001b[1m89s\u001b[0m 1s/step - acc: 0.8597 - loss: 0.7523\n",
      "\u001b[1m1/1\u001b[0m \u001b[32m━━━━━━━━━━━━━━━━━━━━\u001b[0m\u001b[37m\u001b[0m \u001b[1m8s\u001b[0m 8s/step\n",
      "\u001b[1m1/1\u001b[0m \u001b[32m━━━━━━━━━━━━━━━━━━━━\u001b[0m\u001b[37m\u001b[0m \u001b[1m1s\u001b[0m 1s/step\n",
      "\u001b[1m1/1\u001b[0m \u001b[32m━━━━━━━━━━━━━━━━━━━━\u001b[0m\u001b[37m\u001b[0m \u001b[1m1s\u001b[0m 1s/step\n",
      "\u001b[1m1/1\u001b[0m \u001b[32m━━━━━━━━━━━━━━━━━━━━\u001b[0m\u001b[37m\u001b[0m \u001b[1m1s\u001b[0m 1s/step\n",
      "\u001b[1m1/1\u001b[0m \u001b[32m━━━━━━━━━━━━━━━━━━━━\u001b[0m\u001b[37m\u001b[0m \u001b[1m1s\u001b[0m 1s/step\n",
      "\u001b[1m1/1\u001b[0m \u001b[32m━━━━━━━━━━━━━━━━━━━━\u001b[0m\u001b[37m\u001b[0m \u001b[1m1s\u001b[0m 1s/step\n",
      "\u001b[1m1/1\u001b[0m \u001b[32m━━━━━━━━━━━━━━━━━━━━\u001b[0m\u001b[37m\u001b[0m \u001b[1m1s\u001b[0m 1s/step\n",
      "\u001b[1m1/1\u001b[0m \u001b[32m━━━━━━━━━━━━━━━━━━━━\u001b[0m\u001b[37m\u001b[0m \u001b[1m1s\u001b[0m 1s/step\n",
      "\u001b[1m1/1\u001b[0m \u001b[32m━━━━━━━━━━━━━━━━━━━━\u001b[0m\u001b[37m\u001b[0m \u001b[1m1s\u001b[0m 1s/step\n",
      "\u001b[1m1/1\u001b[0m \u001b[32m━━━━━━━━━━━━━━━━━━━━\u001b[0m\u001b[37m\u001b[0m \u001b[1m1s\u001b[0m 951ms/step\n",
      "\u001b[1m1/1\u001b[0m \u001b[32m━━━━━━━━━━━━━━━━━━━━\u001b[0m\u001b[37m\u001b[0m \u001b[1m1s\u001b[0m 1s/step\n",
      "\u001b[1m1/1\u001b[0m \u001b[32m━━━━━━━━━━━━━━━━━━━━\u001b[0m\u001b[37m\u001b[0m \u001b[1m1s\u001b[0m 1s/step\n",
      "\u001b[1m1/1\u001b[0m \u001b[32m━━━━━━━━━━━━━━━━━━━━\u001b[0m\u001b[37m\u001b[0m \u001b[1m1s\u001b[0m 1s/step\n",
      "\u001b[1m1/1\u001b[0m \u001b[32m━━━━━━━━━━━━━━━━━━━━\u001b[0m\u001b[37m\u001b[0m \u001b[1m1s\u001b[0m 1s/step\n",
      "\u001b[1m1/1\u001b[0m \u001b[32m━━━━━━━━━━━━━━━━━━━━\u001b[0m\u001b[37m\u001b[0m \u001b[1m1s\u001b[0m 1s/step\n",
      "\u001b[1m1/1\u001b[0m \u001b[32m━━━━━━━━━━━━━━━━━━━━\u001b[0m\u001b[37m\u001b[0m \u001b[1m1s\u001b[0m 993ms/step\n",
      "\u001b[1m1/1\u001b[0m \u001b[32m━━━━━━━━━━━━━━━━━━━━\u001b[0m\u001b[37m\u001b[0m \u001b[1m1s\u001b[0m 1s/step\n",
      "\u001b[1m1/1\u001b[0m \u001b[32m━━━━━━━━━━━━━━━━━━━━\u001b[0m\u001b[37m\u001b[0m \u001b[1m1s\u001b[0m 1s/step\n",
      "\u001b[1m1/1\u001b[0m \u001b[32m━━━━━━━━━━━━━━━━━━━━\u001b[0m\u001b[37m\u001b[0m \u001b[1m7s\u001b[0m 7s/step\n",
      "Accuracy:  tf.Tensor(0.92, shape=(), dtype=float32)\n"
     ]
    }
   ],
   "source": [
    "accs_freeze = []\n",
    "for i in range(5):\n",
    "  model = init_model(freeze=True)\n",
    "  model.compile(\n",
    "    loss=tf.keras.losses.binary_crossentropy ,\n",
    "    optimizer=tf.keras.optimizers.Adam(learning_rate=0.01),\n",
    "    metrics=['acc'],\n",
    "\n",
    "  )\n",
    "  history = model.fit(\n",
    "      training_dataset ,\n",
    "      epochs=5,\n",
    "      verbose = 1,\n",
    "  )\n",
    "  result = evaluate(model, validation_dataset)\n",
    "  accs_freeze.append(result)\n",
    "  print(\"Accuracy: \", result)"
   ]
  },
  {
   "cell_type": "code",
   "execution_count": 26,
   "id": "53561287",
   "metadata": {
    "execution": {
     "iopub.execute_input": "2025-07-18T09:54:56.115617Z",
     "iopub.status.busy": "2025-07-18T09:54:56.115222Z",
     "iopub.status.idle": "2025-07-18T09:54:56.125379Z",
     "shell.execute_reply": "2025-07-18T09:54:56.124263Z"
    },
    "papermill": {
     "duration": 0.257768,
     "end_time": "2025-07-18T09:54:56.127633",
     "exception": false,
     "start_time": "2025-07-18T09:54:55.869865",
     "status": "completed"
    },
    "tags": []
   },
   "outputs": [
    {
     "data": {
      "text/plain": [
       "(0.903, 0.022, 0.92)"
      ]
     },
     "execution_count": 26,
     "metadata": {},
     "output_type": "execute_result"
    }
   ],
   "source": [
    "np.mean(accs_freeze).round(3), np.std(accs_freeze).round(3), np.median(accs_freeze).round(3)"
   ]
  },
  {
   "cell_type": "code",
   "execution_count": 27,
   "id": "50f4e0a4",
   "metadata": {
    "execution": {
     "iopub.execute_input": "2025-07-18T09:54:56.625445Z",
     "iopub.status.busy": "2025-07-18T09:54:56.625057Z",
     "iopub.status.idle": "2025-07-18T09:54:56.632345Z",
     "shell.execute_reply": "2025-07-18T09:54:56.631308Z"
    },
    "papermill": {
     "duration": 0.25615,
     "end_time": "2025-07-18T09:54:56.634460",
     "exception": false,
     "start_time": "2025-07-18T09:54:56.378310",
     "status": "completed"
    },
    "tags": []
   },
   "outputs": [
    {
     "data": {
      "text/plain": [
       "0.022151003"
      ]
     },
     "execution_count": 27,
     "metadata": {},
     "output_type": "execute_result"
    }
   ],
   "source": [
    "np.std(accs_freeze)"
   ]
  },
  {
   "cell_type": "code",
   "execution_count": null,
   "id": "b60af8d3",
   "metadata": {
    "papermill": {
     "duration": 0.242918,
     "end_time": "2025-07-18T09:54:57.119852",
     "exception": false,
     "start_time": "2025-07-18T09:54:56.876934",
     "status": "completed"
    },
    "tags": []
   },
   "outputs": [],
   "source": []
  }
 ],
 "metadata": {
  "accelerator": "GPU",
  "colab": {
   "gpuType": "T4",
   "provenance": []
  },
  "kaggle": {
   "accelerator": "none",
   "dataSources": [
    {
     "datasetId": 1235472,
     "sourceId": 2061385,
     "sourceType": "datasetVersion"
    },
    {
     "sourceId": 123298552,
     "sourceType": "kernelVersion"
    }
   ],
   "dockerImageVersionId": 30699,
   "isGpuEnabled": false,
   "isInternetEnabled": true,
   "language": "python",
   "sourceType": "notebook"
  },
  "kernelspec": {
   "display_name": "Python 3",
   "language": "python",
   "name": "python3"
  },
  "language_info": {
   "codemirror_mode": {
    "name": "ipython",
    "version": 3
   },
   "file_extension": ".py",
   "mimetype": "text/x-python",
   "name": "python",
   "nbconvert_exporter": "python",
   "pygments_lexer": "ipython3",
   "version": "3.10.13"
  },
  "papermill": {
   "default_parameters": {},
   "duration": 13722.676476,
   "end_time": "2025-07-18T09:55:01.510211",
   "environment_variables": {},
   "exception": null,
   "input_path": "__notebook__.ipynb",
   "output_path": "__notebook__.ipynb",
   "parameters": {},
   "start_time": "2025-07-18T06:06:18.833735",
   "version": "2.5.0"
  }
 },
 "nbformat": 4,
 "nbformat_minor": 5
}
