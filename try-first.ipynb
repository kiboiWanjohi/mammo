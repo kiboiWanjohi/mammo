{
 "cells": [
  {
   "cell_type": "code",
   "execution_count": 1,
   "id": "029c483f",
   "metadata": {
    "_cell_guid": "b1076dfc-b9ad-4769-8c92-a6c4dae69d19",
    "_uuid": "8f2839f25d086af736a60e9eeb907d3b93b6e0e5",
    "execution": {
     "iopub.execute_input": "2025-06-06T21:24:08.242916Z",
     "iopub.status.busy": "2025-06-06T21:24:08.242569Z",
     "iopub.status.idle": "2025-06-06T21:24:20.629783Z",
     "shell.execute_reply": "2025-06-06T21:24:20.629055Z"
    },
    "papermill": {
     "duration": 12.396258,
     "end_time": "2025-06-06T21:24:20.631727",
     "exception": false,
     "start_time": "2025-06-06T21:24:08.235469",
     "status": "completed"
    },
    "tags": []
   },
   "outputs": [
    {
     "name": "stderr",
     "output_type": "stream",
     "text": [
      "2025-06-06 21:24:10.002163: E external/local_xla/xla/stream_executor/cuda/cuda_dnn.cc:9261] Unable to register cuDNN factory: Attempting to register factory for plugin cuDNN when one has already been registered\n",
      "2025-06-06 21:24:10.002292: E external/local_xla/xla/stream_executor/cuda/cuda_fft.cc:607] Unable to register cuFFT factory: Attempting to register factory for plugin cuFFT when one has already been registered\n",
      "2025-06-06 21:24:10.139484: E external/local_xla/xla/stream_executor/cuda/cuda_blas.cc:1515] Unable to register cuBLAS factory: Attempting to register factory for plugin cuBLAS when one has already been registered\n"
     ]
    }
   ],
   "source": [
    "import os\n",
    "import tensorflow as tf\n",
    "import shutil\n",
    "import pandas as pd\n",
    "import sys\n",
    "import matplotlib.pyplot as plt\n",
    "import matplotlib.image as mpimg\n",
    "import cv2"
   ]
  },
  {
   "cell_type": "code",
   "execution_count": 2,
   "id": "72327ac2",
   "metadata": {
    "execution": {
     "iopub.execute_input": "2025-06-06T21:24:20.644019Z",
     "iopub.status.busy": "2025-06-06T21:24:20.643534Z",
     "iopub.status.idle": "2025-06-06T21:24:20.647829Z",
     "shell.execute_reply": "2025-06-06T21:24:20.647026Z"
    },
    "papermill": {
     "duration": 0.01202,
     "end_time": "2025-06-06T21:24:20.649464",
     "exception": false,
     "start_time": "2025-06-06T21:24:20.637444",
     "status": "completed"
    },
    "tags": []
   },
   "outputs": [
    {
     "name": "stdout",
     "output_type": "stream",
     "text": [
      "/kaggle/working\n"
     ]
    }
   ],
   "source": [
    "current_working_directory = os.getcwd()\n",
    "\n",
    "# print output to the console\n",
    "print(current_working_directory)\n"
   ]
  },
  {
   "cell_type": "code",
   "execution_count": 3,
   "id": "03a2311e",
   "metadata": {
    "execution": {
     "iopub.execute_input": "2025-06-06T21:24:20.661089Z",
     "iopub.status.busy": "2025-06-06T21:24:20.660861Z",
     "iopub.status.idle": "2025-06-06T21:24:20.919453Z",
     "shell.execute_reply": "2025-06-06T21:24:20.918720Z"
    },
    "papermill": {
     "duration": 0.266687,
     "end_time": "2025-06-06T21:24:20.921496",
     "exception": false,
     "start_time": "2025-06-06T21:24:20.654809",
     "status": "completed"
    },
    "tags": []
   },
   "outputs": [],
   "source": [
    "csv_path = '/kaggle/input/cbis-ddsm-breast-cancer-image-dataset/csv/meta.csv'\n",
    "df_meta = pd.read_csv(csv_path)\n",
    "dicom_data = pd.read_csv('/kaggle/input/cbis-ddsm-breast-cancer-image-dataset/csv/dicom_info.csv')"
   ]
  },
  {
   "cell_type": "code",
   "execution_count": 4,
   "id": "643dd421",
   "metadata": {
    "execution": {
     "iopub.execute_input": "2025-06-06T21:24:20.934811Z",
     "iopub.status.busy": "2025-06-06T21:24:20.934179Z",
     "iopub.status.idle": "2025-06-06T21:24:20.958875Z",
     "shell.execute_reply": "2025-06-06T21:24:20.958012Z"
    },
    "papermill": {
     "duration": 0.033088,
     "end_time": "2025-06-06T21:24:20.960643",
     "exception": false,
     "start_time": "2025-06-06T21:24:20.927555",
     "status": "completed"
    },
    "tags": []
   },
   "outputs": [
    {
     "data": {
      "text/plain": [
       "'/kaggle/input/cbis-ddsm-breast-cancer-image-dataset/jpeg/1.3.6.1.4.1.9590.100.1.2.248386742010678582309005372213277814849/1-249.jpg'"
      ]
     },
     "execution_count": 4,
     "metadata": {},
     "output_type": "execute_result"
    }
   ],
   "source": [
    "image_dir = '/kaggle/input/cbis-ddsm-breast-cancer-image-dataset/jpeg'\n",
    "full_mammogram_images = dicom_data[dicom_data.SeriesDescription == 'full mammogram images'].image_path\n",
    "cropped_images = dicom_data[dicom_data.SeriesDescription == 'cropped images'].image_path\n",
    "roi_mask_images = dicom_data[dicom_data.SeriesDescription == 'ROI mask images'].image_path\n",
    "\n",
    "full_mammogram_images = full_mammogram_images.apply(lambda x: x.replace('CBIS-DDSM/jpeg', image_dir))\n",
    "cropped_images = cropped_images.apply(lambda x: x.replace('CBIS-DDSM/jpeg', image_dir))\n",
    "roi_mask_images = roi_mask_images.apply(lambda x: x.replace('CBIS-DDSM/jpeg', image_dir))\n",
    "full_mammogram_images.iloc[0]"
   ]
  },
  {
   "cell_type": "code",
   "execution_count": 5,
   "id": "6bee3e95",
   "metadata": {
    "execution": {
     "iopub.execute_input": "2025-06-06T21:24:20.974097Z",
     "iopub.status.busy": "2025-06-06T21:24:20.973866Z",
     "iopub.status.idle": "2025-06-06T21:24:20.985531Z",
     "shell.execute_reply": "2025-06-06T21:24:20.984882Z"
    },
    "papermill": {
     "duration": 0.020114,
     "end_time": "2025-06-06T21:24:20.987064",
     "exception": false,
     "start_time": "2025-06-06T21:24:20.966950",
     "status": "completed"
    },
    "tags": []
   },
   "outputs": [],
   "source": [
    "full_mammogram_dict = dict()\n",
    "cropped_dict = dict()\n",
    "roi_mask_dict = dict()\n",
    "\n",
    "for dicom in full_mammogram_images:\n",
    "    # print(dicom)\n",
    "    key = dicom.split(\"/\")[5]\n",
    "    # print(key)\n",
    "    full_mammogram_dict[key] = dicom\n",
    "for dicom in cropped_images:\n",
    "    key = dicom.split(\"/\")[5]\n",
    "    cropped_dict[key] = dicom\n",
    "for dicom in roi_mask_images:\n",
    "    key = dicom.split(\"/\")[5]\n",
    "    roi_mask_dict[key] = dicom"
   ]
  },
  {
   "cell_type": "code",
   "execution_count": 6,
   "id": "f6fa934d",
   "metadata": {
    "execution": {
     "iopub.execute_input": "2025-06-06T21:24:20.999636Z",
     "iopub.status.busy": "2025-06-06T21:24:20.999033Z",
     "iopub.status.idle": "2025-06-06T21:24:21.090058Z",
     "shell.execute_reply": "2025-06-06T21:24:21.089091Z"
    },
    "papermill": {
     "duration": 0.099395,
     "end_time": "2025-06-06T21:24:21.092085",
     "exception": false,
     "start_time": "2025-06-06T21:24:20.992690",
     "status": "completed"
    },
    "tags": []
   },
   "outputs": [],
   "source": [
    "mass_train_data = pd.read_csv('/kaggle/input/cbis-ddsm-breast-cancer-image-dataset/csv/mass_case_description_train_set.csv')\n",
    "mass_test_data = pd.read_csv('/kaggle/input/cbis-ddsm-breast-cancer-image-dataset/csv/mass_case_description_test_set.csv')\n",
    "calc_train_data = pd.read_csv('/kaggle/input/cbis-ddsm-breast-cancer-image-dataset/csv/calc_case_description_train_set.csv')\n",
    "calc_test_data = pd.read_csv('/kaggle/input/cbis-ddsm-breast-cancer-image-dataset/csv/calc_case_description_test_set.csv')"
   ]
  },
  {
   "cell_type": "code",
   "execution_count": 7,
   "id": "8bc56de2",
   "metadata": {
    "execution": {
     "iopub.execute_input": "2025-06-06T21:24:21.107460Z",
     "iopub.status.busy": "2025-06-06T21:24:21.106859Z",
     "iopub.status.idle": "2025-06-06T21:24:21.112069Z",
     "shell.execute_reply": "2025-06-06T21:24:21.111242Z"
    },
    "papermill": {
     "duration": 0.014573,
     "end_time": "2025-06-06T21:24:21.113750",
     "exception": false,
     "start_time": "2025-06-06T21:24:21.099177",
     "status": "completed"
    },
    "tags": []
   },
   "outputs": [],
   "source": [
    "def fix_image_path_mass(dataset):\n",
    "    for i, img in enumerate(dataset.values):\n",
    "        img_name = img[11].split(\"/\")[2]\n",
    "        if img_name in full_mammogram_dict:\n",
    "            dataset.iloc[i, 11] = full_mammogram_dict[img_name]\n",
    "\n",
    "        img_name = img[12].split(\"/\")[2]\n",
    "        if img_name in cropped_dict:\n",
    "            dataset.iloc[i, 12] = cropped_dict[img_name]\n",
    "\n",
    "        img_name = img[13].split(\"/\")[2]\n",
    "        if img_name in roi_mask_dict:\n",
    "            dataset.iloc[i, 13] = roi_mask_dict[img_name]"
   ]
  },
  {
   "cell_type": "code",
   "execution_count": 8,
   "id": "df582f88",
   "metadata": {
    "execution": {
     "iopub.execute_input": "2025-06-06T21:24:21.126154Z",
     "iopub.status.busy": "2025-06-06T21:24:21.125922Z",
     "iopub.status.idle": "2025-06-06T21:24:21.482032Z",
     "shell.execute_reply": "2025-06-06T21:24:21.481172Z"
    },
    "papermill": {
     "duration": 0.364441,
     "end_time": "2025-06-06T21:24:21.484029",
     "exception": false,
     "start_time": "2025-06-06T21:24:21.119588",
     "status": "completed"
    },
    "tags": []
   },
   "outputs": [],
   "source": [
    "fix_image_path_mass(mass_test_data)\n",
    "fix_image_path_mass(mass_train_data)"
   ]
  },
  {
   "cell_type": "code",
   "execution_count": 9,
   "id": "1029864f",
   "metadata": {
    "execution": {
     "iopub.execute_input": "2025-06-06T21:24:21.497248Z",
     "iopub.status.busy": "2025-06-06T21:24:21.496930Z",
     "iopub.status.idle": "2025-06-06T21:24:21.503697Z",
     "shell.execute_reply": "2025-06-06T21:24:21.502913Z"
    },
    "papermill": {
     "duration": 0.015141,
     "end_time": "2025-06-06T21:24:21.505267",
     "exception": false,
     "start_time": "2025-06-06T21:24:21.490126",
     "status": "completed"
    },
    "tags": []
   },
   "outputs": [],
   "source": [
    "mass_train = mass_train_data.rename(columns={'left or right breast': 'left_or_right_breast',\n",
    "                                           'image view': 'image_view',\n",
    "                                           'abnormality id': 'abnormality_id',\n",
    "                                           'abnormality type': 'abnormality_type',\n",
    "                                           'mass shape': 'mass_shape',\n",
    "                                           'mass margins': 'mass_margins',\n",
    "                                           'image file path': 'image_file_path',\n",
    "                                           'cropped image file path': 'cropped_image_file_path',\n",
    "                                           'ROI mask file path': 'ROI_mask_file_path'})\n",
    "mass_test = mass_test_data.rename(columns={'left or right breast': 'left_or_right_breast',\n",
    "                                           'image view': 'image_view',\n",
    "                                           'abnormality id': 'abnormality_id',\n",
    "                                           'abnormality type': 'abnormality_type',\n",
    "                                           'mass shape': 'mass_shape',\n",
    "                                           'mass margins': 'mass_margins',\n",
    "                                           'image file path': 'image_file_path',\n",
    "                                           'cropped image file path': 'cropped_image_file_path',\n",
    "                                           'ROI mask file path': 'ROI_mask_file_path'})\n"
   ]
  },
  {
   "cell_type": "code",
   "execution_count": 10,
   "id": "35856371",
   "metadata": {
    "execution": {
     "iopub.execute_input": "2025-06-06T21:24:21.517814Z",
     "iopub.status.busy": "2025-06-06T21:24:21.517539Z",
     "iopub.status.idle": "2025-06-06T21:24:21.523098Z",
     "shell.execute_reply": "2025-06-06T21:24:21.522213Z"
    },
    "papermill": {
     "duration": 0.013734,
     "end_time": "2025-06-06T21:24:21.524802",
     "exception": false,
     "start_time": "2025-06-06T21:24:21.511068",
     "status": "completed"
    },
    "tags": []
   },
   "outputs": [
    {
     "data": {
      "text/plain": [
       "'/kaggle/input/cbis-ddsm-breast-cancer-image-dataset/jpeg/1.3.6.1.4.1.9590.100.1.2.342386194811267636608694132590482924515/1-211.jpg'"
      ]
     },
     "execution_count": 10,
     "metadata": {},
     "output_type": "execute_result"
    }
   ],
   "source": [
    "mass_train.image_file_path[0]"
   ]
  },
  {
   "cell_type": "code",
   "execution_count": 11,
   "id": "e2ffebaa",
   "metadata": {
    "execution": {
     "iopub.execute_input": "2025-06-06T21:24:21.537865Z",
     "iopub.status.busy": "2025-06-06T21:24:21.537578Z",
     "iopub.status.idle": "2025-06-06T21:24:21.542800Z",
     "shell.execute_reply": "2025-06-06T21:24:21.542064Z"
    },
    "papermill": {
     "duration": 0.013675,
     "end_time": "2025-06-06T21:24:21.544499",
     "exception": false,
     "start_time": "2025-06-06T21:24:21.530824",
     "status": "completed"
    },
    "tags": []
   },
   "outputs": [],
   "source": [
    "benign=mass_train[mass_train.pathology==\"BENIGN\"]"
   ]
  },
  {
   "cell_type": "code",
   "execution_count": 12,
   "id": "37ea333c",
   "metadata": {
    "execution": {
     "iopub.execute_input": "2025-06-06T21:24:21.557914Z",
     "iopub.status.busy": "2025-06-06T21:24:21.557248Z",
     "iopub.status.idle": "2025-06-06T21:24:21.562821Z",
     "shell.execute_reply": "2025-06-06T21:24:21.562029Z"
    },
    "papermill": {
     "duration": 0.013922,
     "end_time": "2025-06-06T21:24:21.564429",
     "exception": false,
     "start_time": "2025-06-06T21:24:21.550507",
     "status": "completed"
    },
    "tags": []
   },
   "outputs": [],
   "source": [
    "benignwoclbk=mass_train[mass_train.pathology==\"BENIGN_WITHOUT_CALLBACK\"]\n",
    "malignant=mass_train[mass_train.pathology==\"MALIGNANT\"]"
   ]
  },
  {
   "cell_type": "code",
   "execution_count": 13,
   "id": "3337d02d",
   "metadata": {
    "execution": {
     "iopub.execute_input": "2025-06-06T21:24:21.577689Z",
     "iopub.status.busy": "2025-06-06T21:24:21.577411Z",
     "iopub.status.idle": "2025-06-06T21:24:21.581582Z",
     "shell.execute_reply": "2025-06-06T21:24:21.580770Z"
    },
    "papermill": {
     "duration": 0.012812,
     "end_time": "2025-06-06T21:24:21.583331",
     "exception": false,
     "start_time": "2025-06-06T21:24:21.570519",
     "status": "completed"
    },
    "tags": []
   },
   "outputs": [],
   "source": [
    "benignimgs=benign.image_file_path\n",
    "malignantimgs=malignant.image_file_path\n",
    "benignwoclbkimgs=benignwoclbk.image_file_path"
   ]
  },
  {
   "cell_type": "code",
   "execution_count": 14,
   "id": "5dfcef26",
   "metadata": {
    "execution": {
     "iopub.execute_input": "2025-06-06T21:24:21.596309Z",
     "iopub.status.busy": "2025-06-06T21:24:21.596035Z",
     "iopub.status.idle": "2025-06-06T21:24:21.600367Z",
     "shell.execute_reply": "2025-06-06T21:24:21.599718Z"
    },
    "papermill": {
     "duration": 0.012635,
     "end_time": "2025-06-06T21:24:21.601986",
     "exception": false,
     "start_time": "2025-06-06T21:24:21.589351",
     "status": "completed"
    },
    "tags": []
   },
   "outputs": [],
   "source": [
    "ben='/kaggle/working/class/benign'\n",
    "benwcb='/kaggle/working/class/benignwithoutcallback'\n",
    "mal='/kaggle/working/class/malignant'\n",
    "os.makedirs(ben,exist_ok=True)\n",
    "os.makedirs(mal,exist_ok=True)"
   ]
  },
  {
   "cell_type": "code",
   "execution_count": 15,
   "id": "afbf7e95",
   "metadata": {
    "execution": {
     "iopub.execute_input": "2025-06-06T21:24:21.614935Z",
     "iopub.status.busy": "2025-06-06T21:24:21.614630Z",
     "iopub.status.idle": "2025-06-06T21:25:14.186617Z",
     "shell.execute_reply": "2025-06-06T21:25:14.184658Z"
    },
    "papermill": {
     "duration": 52.581826,
     "end_time": "2025-06-06T21:25:14.189754",
     "exception": false,
     "start_time": "2025-06-06T21:24:21.607928",
     "status": "completed"
    },
    "tags": []
   },
   "outputs": [],
   "source": [
    "for ben_path in benignimgs:\n",
    "  img_filename1=os.path.basename(ben_path)\n",
    "  destination_path1=os.path.join(ben,img_filename1)\n",
    "  shutil.copy(ben_path,destination_path1)\n",
    "\n",
    "for mal_path in malignantimgs:\n",
    "  img_filename1=os.path.basename(mal_path)\n",
    "  destination_path1=os.path.join(mal,img_filename1)\n",
    "  shutil.copy(mal_path,destination_path1)\n"
   ]
  },
  {
   "cell_type": "code",
   "execution_count": 16,
   "id": "355b6263",
   "metadata": {
    "execution": {
     "iopub.execute_input": "2025-06-06T21:25:14.213181Z",
     "iopub.status.busy": "2025-06-06T21:25:14.212821Z",
     "iopub.status.idle": "2025-06-06T21:25:14.981337Z",
     "shell.execute_reply": "2025-06-06T21:25:14.980440Z"
    },
    "papermill": {
     "duration": 0.780352,
     "end_time": "2025-06-06T21:25:14.983388",
     "exception": false,
     "start_time": "2025-06-06T21:25:14.203036",
     "status": "completed"
    },
    "tags": []
   },
   "outputs": [],
   "source": [
    "import numpy as np\n",
    "import pandas as pd\n",
    "import tensorflow as tf\n",
    "from tensorflow.keras.preprocessing.image import ImageDataGenerator\n",
    "from sklearn.model_selection import train_test_split\n",
    "\n",
    "# Define image dimensions\n",
    "IMG_HEIGHT, IMG_WIDTH = 512, 512\n",
    "CHANNELS = 1  # Grayscale\n",
    "\n",
    "# Define file paths for benign and malignant images (replace with your arrays)\n",
    "benign_file_paths = benignimgs\n",
    "malignant_file_paths = malignantimgs"
   ]
  },
  {
   "cell_type": "code",
   "execution_count": 17,
   "id": "4b49f41d",
   "metadata": {
    "execution": {
     "iopub.execute_input": "2025-06-06T21:25:14.997405Z",
     "iopub.status.busy": "2025-06-06T21:25:14.996608Z",
     "iopub.status.idle": "2025-06-06T21:25:15.007908Z",
     "shell.execute_reply": "2025-06-06T21:25:15.006985Z"
    },
    "papermill": {
     "duration": 0.019744,
     "end_time": "2025-06-06T21:25:15.009540",
     "exception": false,
     "start_time": "2025-06-06T21:25:14.989796",
     "status": "completed"
    },
    "tags": []
   },
   "outputs": [],
   "source": [
    "# Create DataFrame with file paths and labels\n",
    "benign_df = pd.DataFrame({'file_paths': benign_file_paths, 'labels': 'benign'})\n",
    "malignant_df = pd.DataFrame({'file_paths': malignant_file_paths, 'labels': 'malignant'})\n",
    "\n",
    "# Concatenate DataFrames\n",
    "df = pd.concat([benign_df, malignant_df], ignore_index=True)\n",
    "\n",
    "# Split data into training and validation sets\n",
    "train_df, val_df = train_test_split(df, test_size=0.2, random_state=42, stratify=df['labels'])\n",
    "\n",
    "# Create data generators for training and validation\n",
    "train_datagen = ImageDataGenerator(\n",
    "    rescale=1./255,\n",
    "    rotation_range=20,\n",
    "    width_shift_range=0.2,\n",
    "    height_shift_range=0.2,\n",
    "    shear_range=0.2,\n",
    "    zoom_range=0.2,\n",
    "    horizontal_flip=True,\n",
    "    fill_mode='nearest'\n",
    ")"
   ]
  },
  {
   "cell_type": "code",
   "execution_count": 18,
   "id": "19cde701",
   "metadata": {
    "execution": {
     "iopub.execute_input": "2025-06-06T21:25:15.022955Z",
     "iopub.status.busy": "2025-06-06T21:25:15.022232Z",
     "iopub.status.idle": "2025-06-06T21:25:16.300388Z",
     "shell.execute_reply": "2025-06-06T21:25:16.299387Z"
    },
    "papermill": {
     "duration": 1.286836,
     "end_time": "2025-06-06T21:25:16.302320",
     "exception": false,
     "start_time": "2025-06-06T21:25:15.015484",
     "status": "completed"
    },
    "tags": []
   },
   "outputs": [
    {
     "name": "stdout",
     "output_type": "stream",
     "text": [
      "Found 971 validated image filenames belonging to 2 classes.\n"
     ]
    }
   ],
   "source": [
    "val_datagen = ImageDataGenerator(rescale=1./255)\n",
    "\n",
    "train_generator = train_datagen.flow_from_dataframe(\n",
    "    train_df,\n",
    "    x_col='file_paths',\n",
    "    y_col='labels',\n",
    "    target_size=(IMG_HEIGHT, IMG_WIDTH),\n",
    "#     color_mode='grayscale',\n",
    "    batch_size=32,\n",
    "    class_mode='binary',\n",
    "    shuffle=True,\n",
    "    seed=42\n",
    ")"
   ]
  },
  {
   "cell_type": "code",
   "execution_count": 19,
   "id": "d08d3ff9",
   "metadata": {
    "execution": {
     "iopub.execute_input": "2025-06-06T21:25:16.317793Z",
     "iopub.status.busy": "2025-06-06T21:25:16.317214Z",
     "iopub.status.idle": "2025-06-06T21:25:16.636261Z",
     "shell.execute_reply": "2025-06-06T21:25:16.635288Z"
    },
    "papermill": {
     "duration": 0.328418,
     "end_time": "2025-06-06T21:25:16.638316",
     "exception": false,
     "start_time": "2025-06-06T21:25:16.309898",
     "status": "completed"
    },
    "tags": []
   },
   "outputs": [
    {
     "name": "stdout",
     "output_type": "stream",
     "text": [
      "Found 243 validated image filenames belonging to 2 classes.\n"
     ]
    }
   ],
   "source": [
    "val_generator = val_datagen.flow_from_dataframe(\n",
    "    val_df,\n",
    "    x_col='file_paths',\n",
    "    y_col='labels',\n",
    "    target_size=(IMG_HEIGHT, IMG_WIDTH),\n",
    "#     color_mode='grayscale',\n",
    "    batch_size=32,\n",
    "    class_mode='binary',\n",
    "    shuffle=False,\n",
    "    seed=42\n",
    ")"
   ]
  },
  {
   "cell_type": "markdown",
   "id": "e552863d",
   "metadata": {
    "papermill": {
     "duration": 0.005976,
     "end_time": "2025-06-06T21:25:16.650943",
     "exception": false,
     "start_time": "2025-06-06T21:25:16.644967",
     "status": "completed"
    },
    "tags": []
   },
   "source": [
    "MODEL CUSTOM"
   ]
  },
  {
   "cell_type": "code",
   "execution_count": 20,
   "id": "ce0f9d30",
   "metadata": {
    "execution": {
     "iopub.execute_input": "2025-06-06T21:25:16.664692Z",
     "iopub.status.busy": "2025-06-06T21:25:16.664197Z",
     "iopub.status.idle": "2025-06-06T21:25:16.668400Z",
     "shell.execute_reply": "2025-06-06T21:25:16.667650Z"
    },
    "papermill": {
     "duration": 0.012997,
     "end_time": "2025-06-06T21:25:16.669945",
     "exception": false,
     "start_time": "2025-06-06T21:25:16.656948",
     "status": "completed"
    },
    "tags": []
   },
   "outputs": [],
   "source": [
    "# # Define and compile the model (using MobileNetV2 as an example)\n",
    "# from tensorflow.keras.models import Sequential\n",
    "# from tensorflow.keras.layers import Conv2D, MaxPooling2D, Flatten, Dense\n",
    "\n",
    "# from tensorflow.keras.models import Sequential\n",
    "# from tensorflow.keras.layers import Dense, Dropout, Activation, Flatten, Conv2D, MaxPooling2D, Input\n",
    "\n",
    "# model = Sequential()\n",
    "# model.add(Input(shape = (512, 512, 1)))\n",
    "# model.add(Conv2D(64, (5,5), padding = \"same\"))\n",
    "# model.add(Activation(\"relu\"))\n",
    "# model.add(MaxPooling2D(pool_size=(2,2)))\n",
    "\n",
    "# model.add(Dropout(0.2))\n",
    "\n",
    "# model.add(Conv2D(64, (5,5), padding = \"same\"))\n",
    "# model.add(Activation(\"relu\"))\n",
    "# model.add(MaxPooling2D(pool_size=(2,2)))\n",
    "\n",
    "# model.add(Conv2D(64, (5,5), padding = \"same\"))\n",
    "# model.add(Activation(\"relu\"))\n",
    "# model.add(MaxPooling2D(pool_size=(2,2)))\n",
    "\n",
    "# model.add(Flatten())\n",
    "# model.add(Dense(64, activation=\"LeakyReLU\"))\n",
    "\n",
    "# model.add(Dropout(0.2))\n",
    "\n",
    "# model.add(Dense(64, activation=\"LeakyReLU\"))\n",
    "\n",
    "# model.add(Dense(1, activation=\"softmax\"))\n",
    "# #fitongenerator\n",
    "\n",
    "# model.compile(optimizer='adam',\n",
    "#               loss='binary_crossentropy',\n",
    "#               metrics=['accuracy'])\n",
    "\n",
    "# model.summary()\n"
   ]
  },
  {
   "cell_type": "markdown",
   "id": "88faf847",
   "metadata": {
    "papermill": {
     "duration": 0.006543,
     "end_time": "2025-06-06T21:25:16.683055",
     "exception": false,
     "start_time": "2025-06-06T21:25:16.676512",
     "status": "completed"
    },
    "tags": []
   },
   "source": [
    "MODEL-MOBILENET V2"
   ]
  },
  {
   "cell_type": "code",
   "execution_count": 21,
   "id": "607d3a90",
   "metadata": {
    "execution": {
     "iopub.execute_input": "2025-06-06T21:25:16.697274Z",
     "iopub.status.busy": "2025-06-06T21:25:16.696763Z",
     "iopub.status.idle": "2025-06-06T21:25:21.450268Z",
     "shell.execute_reply": "2025-06-06T21:25:21.449557Z"
    },
    "papermill": {
     "duration": 4.762384,
     "end_time": "2025-06-06T21:25:21.451874",
     "exception": false,
     "start_time": "2025-06-06T21:25:16.689490",
     "status": "completed"
    },
    "tags": []
   },
   "outputs": [
    {
     "name": "stdout",
     "output_type": "stream",
     "text": [
      "Downloading data from https://storage.googleapis.com/tensorflow/keras-applications/mobilenet_v2/mobilenet_v2_weights_tf_dim_ordering_tf_kernels_1.0_224_no_top.h5\n",
      "9406464/9406464 [==============================] - 2s 0us/step\n",
      "Model: \"model\"\n",
      "_________________________________________________________________\n",
      " Layer (type)                Output Shape              Param #   \n",
      "=================================================================\n",
      " input_2 (InputLayer)        [(None, 512, 512, 3)]     0         \n",
      "                                                                 \n",
      " mobilenetv2_1.00_224 (Func  (None, 16, 16, 1280)      2257984   \n",
      " tional)                                                         \n",
      "                                                                 \n",
      " global_average_pooling2d (  (None, 1280)              0         \n",
      " GlobalAveragePooling2D)                                         \n",
      "                                                                 \n",
      " dense (Dense)               (None, 1)                 1281      \n",
      "                                                                 \n",
      "=================================================================\n",
      "Total params: 2259265 (8.62 MB)\n",
      "Trainable params: 1281 (5.00 KB)\n",
      "Non-trainable params: 2257984 (8.61 MB)\n",
      "_________________________________________________________________\n"
     ]
    }
   ],
   "source": [
    "import tensorflow as tf\n",
    "from tensorflow.keras.layers import Input, GlobalAveragePooling2D, Dense\n",
    "from tensorflow.keras.models import Model\n",
    "from tensorflow.keras.applications import MobileNetV2\n",
    "\n",
    "def create_binary_classification_model(base_model):\n",
    "    # Freeze the base model layers\n",
    "    base_model.trainable = False\n",
    "    \n",
    "    # Add custom classification layers on top of the base model\n",
    "    inputs = Input(shape=(512, 512, 3))\n",
    "    x = base_model(inputs, training=False)\n",
    "    x = GlobalAveragePooling2D()(x)\n",
    "    outputs = Dense(1, activation='sigmoid')(x)\n",
    "    \n",
    "    # Create the model\n",
    "    model = Model(inputs, outputs)\n",
    "    return model\n",
    "\n",
    "# Load MobileNetV2 pre-trained on ImageNet without the top classification layer\n",
    "base_model = MobileNetV2(weights='imagenet', include_top=False, input_shape=(512, 512, 3))\n",
    "\n",
    "# Create the binary classification model using MobileNetV2 base\n",
    "binary_model = create_binary_classification_model(base_model)\n",
    "\n",
    "# Compile the model\n",
    "binary_model.compile(optimizer='adam', loss='binary_crossentropy', metrics=tf.keras.metrics.BinaryAccuracy())\n",
    "\n",
    "# Print model summary\n",
    "binary_model.summary()\n"
   ]
  },
  {
   "cell_type": "markdown",
   "id": "18ee2d5d",
   "metadata": {
    "papermill": {
     "duration": 0.010508,
     "end_time": "2025-06-06T21:25:21.471114",
     "exception": false,
     "start_time": "2025-06-06T21:25:21.460606",
     "status": "completed"
    },
    "tags": []
   },
   "source": [
    "MODEL- EFFECIENT NET"
   ]
  },
  {
   "cell_type": "code",
   "execution_count": 22,
   "id": "3a8b3cd1",
   "metadata": {
    "execution": {
     "iopub.execute_input": "2025-06-06T21:25:21.490379Z",
     "iopub.status.busy": "2025-06-06T21:25:21.489942Z",
     "iopub.status.idle": "2025-06-06T21:25:21.494522Z",
     "shell.execute_reply": "2025-06-06T21:25:21.493614Z"
    },
    "papermill": {
     "duration": 0.016295,
     "end_time": "2025-06-06T21:25:21.496175",
     "exception": false,
     "start_time": "2025-06-06T21:25:21.479880",
     "status": "completed"
    },
    "tags": []
   },
   "outputs": [],
   "source": [
    "# import tensorflow as tf\n",
    "# from tensorflow.keras.layers import Input, GlobalAveragePooling2D, Dense\n",
    "# from tensorflow.keras.models import Model\n",
    "# from tensorflow.keras.applications import EfficientNetB0\n",
    "\n",
    "# def create_binary_classification_model(base_model):\n",
    "#     # Freeze the base model layers\n",
    "#     base_model.trainable = False\n",
    "    \n",
    "#     # Add custom classification layers on top of the base model\n",
    "#     inputs = Input(shape=(512, 512, 3))\n",
    "#     x = base_model(inputs, training=False)\n",
    "#     x = GlobalAveragePooling2D()(x)\n",
    "#     outputs = Dense(1, activation='sigmoid')(x)\n",
    "    \n",
    "#     # Create the model\n",
    "#     model = Model(inputs, outputs)\n",
    "#     return model\n",
    "\n",
    "# # Load EfficientNetB0 pre-trained on ImageNet without the top classification layer\n",
    "# base_model = EfficientNetB0(weights='imagenet', include_top=False, input_shape=(512, 512, 3))\n",
    "\n",
    "# # Create the binary classification model using EfficientNetB0 base\n",
    "# binary_model = create_binary_classification_model(base_model)\n",
    "\n",
    "# # Compile the model\n",
    "# binary_model.compile(optimizer='adam', loss='binary_crossentropy', metrics=['accuracy'])\n",
    "\n",
    "# # Print model summary\n",
    "# binary_model.summary()\n"
   ]
  },
  {
   "cell_type": "code",
   "execution_count": 23,
   "id": "fa86a3c3",
   "metadata": {
    "execution": {
     "iopub.execute_input": "2025-06-06T21:25:21.514969Z",
     "iopub.status.busy": "2025-06-06T21:25:21.514658Z",
     "iopub.status.idle": "2025-06-06T23:25:49.674700Z",
     "shell.execute_reply": "2025-06-06T23:25:49.673916Z"
    },
    "papermill": {
     "duration": 7228.172049,
     "end_time": "2025-06-06T23:25:49.676790",
     "exception": false,
     "start_time": "2025-06-06T21:25:21.504741",
     "status": "completed"
    },
    "tags": []
   },
   "outputs": [
    {
     "name": "stdout",
     "output_type": "stream",
     "text": [
      "Epoch 1/50\n",
      " 1/31 [..............................] - ETA: 5:06 - loss: 0.8321 - binary_accuracy: 0.5938"
     ]
    },
    {
     "name": "stderr",
     "output_type": "stream",
     "text": [
      "WARNING: All log messages before absl::InitializeLog() is called are written to STDERR\n",
      "I0000 00:00:1749245137.764931      68 device_compiler.h:186] Compiled cluster using XLA!  This line is logged at most once for the lifetime of the process.\n"
     ]
    },
    {
     "name": "stdout",
     "output_type": "stream",
     "text": [
      "31/31 [==============================] - 146s 5s/step - loss: 0.7530 - binary_accuracy: 0.5005 - val_loss: 0.7071 - val_binary_accuracy: 0.5432\n",
      "Epoch 2/50\n",
      "31/31 [==============================] - 140s 5s/step - loss: 0.6968 - binary_accuracy: 0.5355 - val_loss: 0.6870 - val_binary_accuracy: 0.5802\n",
      "Epoch 3/50\n",
      "31/31 [==============================] - 140s 5s/step - loss: 0.6843 - binary_accuracy: 0.5602 - val_loss: 0.7021 - val_binary_accuracy: 0.5514\n",
      "Epoch 4/50\n",
      "31/31 [==============================] - 140s 5s/step - loss: 0.6823 - binary_accuracy: 0.5458 - val_loss: 0.6692 - val_binary_accuracy: 0.5885\n",
      "Epoch 5/50\n",
      "31/31 [==============================] - 138s 4s/step - loss: 0.6747 - binary_accuracy: 0.5716 - val_loss: 0.6834 - val_binary_accuracy: 0.5473\n",
      "Epoch 6/50\n",
      "31/31 [==============================] - 138s 4s/step - loss: 0.6596 - binary_accuracy: 0.6313 - val_loss: 0.6706 - val_binary_accuracy: 0.6337\n",
      "Epoch 7/50\n",
      "31/31 [==============================] - 137s 4s/step - loss: 0.6639 - binary_accuracy: 0.6179 - val_loss: 0.6743 - val_binary_accuracy: 0.6091\n",
      "Epoch 8/50\n",
      "31/31 [==============================] - 146s 5s/step - loss: 0.6615 - binary_accuracy: 0.5860 - val_loss: 0.6620 - val_binary_accuracy: 0.6008\n",
      "Epoch 9/50\n",
      "31/31 [==============================] - 140s 5s/step - loss: 0.6489 - binary_accuracy: 0.6251 - val_loss: 0.6685 - val_binary_accuracy: 0.5967\n",
      "Epoch 10/50\n",
      "31/31 [==============================] - 135s 4s/step - loss: 0.6475 - binary_accuracy: 0.6179 - val_loss: 0.6564 - val_binary_accuracy: 0.6091\n",
      "Epoch 11/50\n",
      "31/31 [==============================] - 135s 4s/step - loss: 0.6453 - binary_accuracy: 0.6416 - val_loss: 0.6550 - val_binary_accuracy: 0.6049\n",
      "Epoch 12/50\n",
      "31/31 [==============================] - 140s 5s/step - loss: 0.6584 - binary_accuracy: 0.6117 - val_loss: 0.7243 - val_binary_accuracy: 0.5432\n",
      "Epoch 13/50\n",
      "31/31 [==============================] - 141s 5s/step - loss: 0.6481 - binary_accuracy: 0.6231 - val_loss: 0.6587 - val_binary_accuracy: 0.6008\n",
      "Epoch 14/50\n",
      "31/31 [==============================] - 172s 6s/step - loss: 0.6505 - binary_accuracy: 0.6179 - val_loss: 0.6786 - val_binary_accuracy: 0.5844\n",
      "Epoch 15/50\n",
      "31/31 [==============================] - 147s 5s/step - loss: 0.6323 - binary_accuracy: 0.6498 - val_loss: 0.6498 - val_binary_accuracy: 0.6091\n",
      "Epoch 16/50\n",
      "31/31 [==============================] - 145s 5s/step - loss: 0.6237 - binary_accuracy: 0.6643 - val_loss: 0.6470 - val_binary_accuracy: 0.6296\n",
      "Epoch 17/50\n",
      "31/31 [==============================] - 136s 4s/step - loss: 0.6253 - binary_accuracy: 0.6643 - val_loss: 0.6445 - val_binary_accuracy: 0.6420\n",
      "Epoch 18/50\n",
      "31/31 [==============================] - 141s 5s/step - loss: 0.6205 - binary_accuracy: 0.6581 - val_loss: 0.7010 - val_binary_accuracy: 0.5473\n",
      "Epoch 19/50\n",
      "31/31 [==============================] - 136s 4s/step - loss: 0.6306 - binary_accuracy: 0.6395 - val_loss: 0.7104 - val_binary_accuracy: 0.5473\n",
      "Epoch 20/50\n",
      "31/31 [==============================] - 179s 6s/step - loss: 0.6222 - binary_accuracy: 0.6612 - val_loss: 0.6769 - val_binary_accuracy: 0.5885\n",
      "Epoch 21/50\n",
      "31/31 [==============================] - 137s 4s/step - loss: 0.6320 - binary_accuracy: 0.6498 - val_loss: 0.6497 - val_binary_accuracy: 0.6173\n",
      "Epoch 22/50\n",
      "31/31 [==============================] - 138s 4s/step - loss: 0.6188 - binary_accuracy: 0.6581 - val_loss: 0.6597 - val_binary_accuracy: 0.5967\n",
      "Epoch 23/50\n",
      "31/31 [==============================] - 135s 4s/step - loss: 0.6174 - binary_accuracy: 0.6777 - val_loss: 0.6450 - val_binary_accuracy: 0.6255\n",
      "Epoch 24/50\n",
      "31/31 [==============================] - 136s 4s/step - loss: 0.6062 - binary_accuracy: 0.6931 - val_loss: 0.6375 - val_binary_accuracy: 0.6255\n",
      "Epoch 25/50\n",
      "31/31 [==============================] - 173s 6s/step - loss: 0.6111 - binary_accuracy: 0.6725 - val_loss: 0.6580 - val_binary_accuracy: 0.6008\n",
      "Epoch 26/50\n",
      "31/31 [==============================] - 140s 5s/step - loss: 0.6015 - binary_accuracy: 0.6880 - val_loss: 0.6649 - val_binary_accuracy: 0.5885\n",
      "Epoch 27/50\n",
      "31/31 [==============================] - 142s 5s/step - loss: 0.6231 - binary_accuracy: 0.6488 - val_loss: 0.6415 - val_binary_accuracy: 0.6255\n",
      "Epoch 28/50\n",
      "31/31 [==============================] - 148s 5s/step - loss: 0.6275 - binary_accuracy: 0.6426 - val_loss: 0.6974 - val_binary_accuracy: 0.5802\n",
      "Epoch 29/50\n",
      "31/31 [==============================] - 133s 4s/step - loss: 0.6174 - binary_accuracy: 0.6663 - val_loss: 0.6564 - val_binary_accuracy: 0.5926\n",
      "Epoch 30/50\n",
      "31/31 [==============================] - 150s 5s/step - loss: 0.6094 - binary_accuracy: 0.6931 - val_loss: 0.6894 - val_binary_accuracy: 0.5720\n",
      "Epoch 31/50\n",
      "31/31 [==============================] - 147s 5s/step - loss: 0.6051 - binary_accuracy: 0.6725 - val_loss: 0.7228 - val_binary_accuracy: 0.5597\n",
      "Epoch 32/50\n",
      "31/31 [==============================] - 156s 5s/step - loss: 0.6182 - binary_accuracy: 0.6571 - val_loss: 0.6349 - val_binary_accuracy: 0.6255\n",
      "Epoch 33/50\n",
      "31/31 [==============================] - 134s 4s/step - loss: 0.5878 - binary_accuracy: 0.6890 - val_loss: 0.6468 - val_binary_accuracy: 0.6173\n",
      "Epoch 34/50\n",
      "31/31 [==============================] - 135s 4s/step - loss: 0.6002 - binary_accuracy: 0.6735 - val_loss: 0.6680 - val_binary_accuracy: 0.5926\n",
      "Epoch 35/50\n",
      "31/31 [==============================] - 141s 5s/step - loss: 0.5889 - binary_accuracy: 0.6828 - val_loss: 0.6364 - val_binary_accuracy: 0.6379\n",
      "Epoch 36/50\n",
      "31/31 [==============================] - 134s 4s/step - loss: 0.5959 - binary_accuracy: 0.6890 - val_loss: 0.6573 - val_binary_accuracy: 0.5926\n",
      "Epoch 37/50\n",
      "31/31 [==============================] - 156s 5s/step - loss: 0.5986 - binary_accuracy: 0.6725 - val_loss: 0.6733 - val_binary_accuracy: 0.6008\n",
      "Epoch 38/50\n",
      "31/31 [==============================] - 138s 4s/step - loss: 0.5939 - binary_accuracy: 0.6777 - val_loss: 0.6783 - val_binary_accuracy: 0.5967\n",
      "Epoch 39/50\n",
      "31/31 [==============================] - 134s 4s/step - loss: 0.5988 - binary_accuracy: 0.6766 - val_loss: 0.6507 - val_binary_accuracy: 0.6214\n",
      "Epoch 40/50\n",
      "31/31 [==============================] - 173s 6s/step - loss: 0.5872 - binary_accuracy: 0.6921 - val_loss: 0.6535 - val_binary_accuracy: 0.6214\n",
      "Epoch 41/50\n",
      "31/31 [==============================] - 136s 4s/step - loss: 0.5962 - binary_accuracy: 0.6931 - val_loss: 0.6425 - val_binary_accuracy: 0.6379\n",
      "Epoch 42/50\n",
      "31/31 [==============================] - 147s 5s/step - loss: 0.5908 - binary_accuracy: 0.6941 - val_loss: 0.6839 - val_binary_accuracy: 0.5885\n",
      "Epoch 43/50\n",
      "31/31 [==============================] - 135s 4s/step - loss: 0.6056 - binary_accuracy: 0.6704 - val_loss: 0.6569 - val_binary_accuracy: 0.6008\n",
      "Epoch 44/50\n",
      "31/31 [==============================] - 149s 5s/step - loss: 0.5814 - binary_accuracy: 0.6962 - val_loss: 0.6656 - val_binary_accuracy: 0.6214\n",
      "Epoch 45/50\n",
      "31/31 [==============================] - 179s 6s/step - loss: 0.5872 - binary_accuracy: 0.6869 - val_loss: 0.6305 - val_binary_accuracy: 0.6584\n",
      "Epoch 46/50\n",
      "31/31 [==============================] - 142s 5s/step - loss: 0.5812 - binary_accuracy: 0.7013 - val_loss: 0.6800 - val_binary_accuracy: 0.5885\n",
      "Epoch 47/50\n",
      "31/31 [==============================] - 163s 5s/step - loss: 0.5911 - binary_accuracy: 0.6972 - val_loss: 0.6763 - val_binary_accuracy: 0.6008\n",
      "Epoch 48/50\n",
      "31/31 [==============================] - 135s 4s/step - loss: 0.5880 - binary_accuracy: 0.6941 - val_loss: 0.6834 - val_binary_accuracy: 0.5885\n",
      "Epoch 49/50\n",
      "31/31 [==============================] - 131s 4s/step - loss: 0.5936 - binary_accuracy: 0.6674 - val_loss: 0.6332 - val_binary_accuracy: 0.6379\n",
      "Epoch 50/50\n",
      "31/31 [==============================] - 150s 5s/step - loss: 0.5934 - binary_accuracy: 0.6849 - val_loss: 0.6336 - val_binary_accuracy: 0.6379\n"
     ]
    }
   ],
   "source": [
    "# Train the model\n",
    "history = binary_model.fit(\n",
    "    train_generator,\n",
    "    epochs=50,\n",
    "    validation_data=val_generator,\n",
    "    batch_size=32\n",
    ")"
   ]
  },
  {
   "cell_type": "markdown",
   "id": "08f76121",
   "metadata": {
    "papermill": {
     "duration": 0.078027,
     "end_time": "2025-06-06T23:25:49.893828",
     "exception": false,
     "start_time": "2025-06-06T23:25:49.815801",
     "status": "completed"
    },
    "tags": []
   },
   "source": [
    "CONFUSION MATRIX PART"
   ]
  },
  {
   "cell_type": "code",
   "execution_count": 24,
   "id": "01b851f5",
   "metadata": {
    "execution": {
     "iopub.execute_input": "2025-06-06T23:25:50.050207Z",
     "iopub.status.busy": "2025-06-06T23:25:50.049499Z",
     "iopub.status.idle": "2025-06-06T23:26:15.759903Z",
     "shell.execute_reply": "2025-06-06T23:26:15.759065Z"
    },
    "papermill": {
     "duration": 25.790693,
     "end_time": "2025-06-06T23:26:15.761609",
     "exception": false,
     "start_time": "2025-06-06T23:25:49.970916",
     "status": "completed"
    },
    "tags": []
   },
   "outputs": [
    {
     "name": "stdout",
     "output_type": "stream",
     "text": [
      "8/8 [==============================] - 21s 2s/step\n"
     ]
    },
    {
     "data": {
      "image/png": "[encoded data removed]",
      "text/plain": [
       "<Figure size 640x480 with 2 Axes>"
      ]
     },
     "metadata": {},
     "output_type": "display_data"
    }
   ],
   "source": [
    "import numpy as np\n",
    " \n",
    "from sklearn.metrics import confusion_matrix\n",
    "from sklearn import metrics\n",
    "# Predict probabilities for the validation data\n",
    " \n",
    "y_pred_prob = binary_model.predict(val_generator)\n",
    "# Convert probabilities to binary predictions (0 or 1)\n",
    " \n",
    "y_pred = np.round(y_pred_prob).flatten()\n",
    "# Get true labels from the validation generator\n",
    " \n",
    "y_true = val_generator.classes\n",
    "confusion_matrix = metrics.confusion_matrix(y_true, y_pred)\n",
    " \n",
    "cm_display = metrics.ConfusionMatrixDisplay(confusion_matrix = confusion_matrix, display_labels = [False, True])\n",
    " \n",
    "cm_display.plot()\n",
    "plt.show()"
   ]
  },
  {
   "cell_type": "markdown",
   "id": "fff3525e",
   "metadata": {
    "papermill": {
     "duration": 0.078957,
     "end_time": "2025-06-06T23:26:15.922327",
     "exception": false,
     "start_time": "2025-06-06T23:26:15.843370",
     "status": "completed"
    },
    "tags": []
   },
   "source": [
    "GRAPH TRAINING AND VALIDATION CURVE"
   ]
  },
  {
   "cell_type": "code",
   "execution_count": null,
   "id": "2deac521",
   "metadata": {
    "papermill": {
     "duration": 0.080069,
     "end_time": "2025-06-06T23:26:16.081037",
     "exception": false,
     "start_time": "2025-06-06T23:26:16.000968",
     "status": "completed"
    },
    "tags": []
   },
   "outputs": [],
   "source": []
  },
  {
   "cell_type": "markdown",
   "id": "6e888ca2",
   "metadata": {
    "papermill": {
     "duration": 0.078982,
     "end_time": "2025-06-06T23:26:16.238697",
     "exception": false,
     "start_time": "2025-06-06T23:26:16.159715",
     "status": "completed"
    },
    "tags": []
   },
   "source": [
    "VALIDATION ACCURACY"
   ]
  },
  {
   "cell_type": "code",
   "execution_count": 25,
   "id": "a57a77d0",
   "metadata": {
    "execution": {
     "iopub.execute_input": "2025-06-06T23:26:16.396959Z",
     "iopub.status.busy": "2025-06-06T23:26:16.396596Z",
     "iopub.status.idle": "2025-06-06T23:26:40.545313Z",
     "shell.execute_reply": "2025-06-06T23:26:40.544534Z"
    },
    "papermill": {
     "duration": 24.230175,
     "end_time": "2025-06-06T23:26:40.546912",
     "exception": false,
     "start_time": "2025-06-06T23:26:16.316737",
     "status": "completed"
    },
    "tags": []
   },
   "outputs": [
    {
     "name": "stdout",
     "output_type": "stream",
     "text": [
      "8/8 [==============================] - 20s 2s/step - loss: 0.6336 - binary_accuracy: 0.6379\n",
      "Validation Accuracy: 0.6378600597381592\n"
     ]
    }
   ],
   "source": [
    "import tensorflow as tf\n",
    "\n",
    "# Evaluate the model on the validation dataset\n",
    "validation_loss, validation_accuracy = binary_model.evaluate(val_generator)\n",
    "\n",
    "# Print the validation accuracy\n",
    "print(\"Validation Accuracy:\", validation_accuracy)\n"
   ]
  },
  {
   "cell_type": "markdown",
   "id": "c86d649d",
   "metadata": {
    "papermill": {
     "duration": 0.079589,
     "end_time": "2025-06-06T23:26:40.707765",
     "exception": false,
     "start_time": "2025-06-06T23:26:40.628176",
     "status": "completed"
    },
    "tags": []
   },
   "source": [
    "PREDICTION PART"
   ]
  },
  {
   "cell_type": "code",
   "execution_count": 26,
   "id": "56298722",
   "metadata": {
    "execution": {
     "iopub.execute_input": "2025-06-06T23:26:40.866385Z",
     "iopub.status.busy": "2025-06-06T23:26:40.866053Z",
     "iopub.status.idle": "2025-06-06T23:26:41.468159Z",
     "shell.execute_reply": "2025-06-06T23:26:41.467465Z"
    },
    "papermill": {
     "duration": 0.683199,
     "end_time": "2025-06-06T23:26:41.470131",
     "exception": false,
     "start_time": "2025-06-06T23:26:40.786932",
     "status": "completed"
    },
    "tags": []
   },
   "outputs": [],
   "source": [
    "from tensorflow.keras.models import load_model\n",
    "from tensorflow.keras.preprocessing import image\n",
    "import numpy as np\n",
    "\n",
    "# Save the trained model\n",
    "binary_model.save('binary_classification_model.keras')"
   ]
  },
  {
   "cell_type": "code",
   "execution_count": 27,
   "id": "ac395ac4",
   "metadata": {
    "execution": {
     "iopub.execute_input": "2025-06-06T23:26:41.632084Z",
     "iopub.status.busy": "2025-06-06T23:26:41.631784Z",
     "iopub.status.idle": "2025-06-06T23:26:44.313152Z",
     "shell.execute_reply": "2025-06-06T23:26:44.312456Z"
    },
    "papermill": {
     "duration": 2.76348,
     "end_time": "2025-06-06T23:26:44.315111",
     "exception": false,
     "start_time": "2025-06-06T23:26:41.551631",
     "status": "completed"
    },
    "tags": []
   },
   "outputs": [],
   "source": [
    "# Load the saved model\n",
    "saved_model = load_model('binary_classification_model.keras')"
   ]
  },
  {
   "cell_type": "code",
   "execution_count": 28,
   "id": "28eaec5c",
   "metadata": {
    "execution": {
     "iopub.execute_input": "2025-06-06T23:26:44.480035Z",
     "iopub.status.busy": "2025-06-06T23:26:44.479682Z",
     "iopub.status.idle": "2025-06-06T23:26:44.547291Z",
     "shell.execute_reply": "2025-06-06T23:26:44.546599Z"
    },
    "papermill": {
     "duration": 0.151493,
     "end_time": "2025-06-06T23:26:44.549190",
     "exception": false,
     "start_time": "2025-06-06T23:26:44.397697",
     "status": "completed"
    },
    "tags": []
   },
   "outputs": [],
   "source": [
    "import matplotlib.pyplot as plt\n",
    "\n",
    "# Load the test image\n",
    "test_image_path = '/kaggle/working/class/benign/1-120.jpg'\n",
    "test_image = image.load_img(test_image_path, target_size=(IMG_HEIGHT, IMG_WIDTH))\n",
    "test_image_array = image.img_to_array(test_image)\n",
    "test_image_array = np.expand_dims(test_image_array, axis=0)\n",
    "test_image_array /= 255.0  # Rescale to [0, 1]"
   ]
  },
  {
   "cell_type": "code",
   "execution_count": 29,
   "id": "23155bf1",
   "metadata": {
    "execution": {
     "iopub.execute_input": "2025-06-06T23:26:44.710364Z",
     "iopub.status.busy": "2025-06-06T23:26:44.710066Z",
     "iopub.status.idle": "2025-06-06T23:26:46.032598Z",
     "shell.execute_reply": "2025-06-06T23:26:46.031715Z"
    },
    "papermill": {
     "duration": 1.405417,
     "end_time": "2025-06-06T23:26:46.034787",
     "exception": false,
     "start_time": "2025-06-06T23:26:44.629370",
     "status": "completed"
    },
    "tags": []
   },
   "outputs": [
    {
     "name": "stdout",
     "output_type": "stream",
     "text": [
      "1/1 [==============================] - 1s 1s/step\n",
      "Predicted class: malignant\n"
     ]
    }
   ],
   "source": [
    "predictions = saved_model.predict(test_image_array)\n",
    "\n",
    "# Get the predicted class index\n",
    "predicted_class_index = tf.argmax(predictions, axis=1).numpy()[0]\n",
    "\n",
    "# Define class labels (e.g., benign and malignant)\n",
    "class_labels = ['malignant', 'benign']\n",
    "\n",
    "# Get the predicted class label based on the index\n",
    "predicted_class_label = class_labels[predicted_class_index]\n",
    "\n",
    "# Print the predicted class label\n",
    "print(\"Predicted class:\", predicted_class_label)\n"
   ]
  },
  {
   "cell_type": "code",
   "execution_count": null,
   "id": "0459fbc2",
   "metadata": {
    "papermill": {
     "duration": 0.086656,
     "end_time": "2025-06-06T23:26:46.220628",
     "exception": false,
     "start_time": "2025-06-06T23:26:46.133972",
     "status": "completed"
    },
    "tags": []
   },
   "outputs": [],
   "source": []
  },
  {
   "cell_type": "code",
   "execution_count": null,
   "id": "d61db62d",
   "metadata": {
    "papermill": {
     "duration": 0.087701,
     "end_time": "2025-06-06T23:26:46.400437",
     "exception": false,
     "start_time": "2025-06-06T23:26:46.312736",
     "status": "completed"
    },
    "tags": []
   },
   "outputs": [],
   "source": []
  },
  {
   "cell_type": "code",
   "execution_count": null,
   "id": "d1d7fc91",
   "metadata": {
    "papermill": {
     "duration": 0.078791,
     "end_time": "2025-06-06T23:26:46.561445",
     "exception": false,
     "start_time": "2025-06-06T23:26:46.482654",
     "status": "completed"
    },
    "tags": []
   },
   "outputs": [],
   "source": []
  },
  {
   "cell_type": "code",
   "execution_count": null,
   "id": "73b43c2e",
   "metadata": {
    "papermill": {
     "duration": 0.081361,
     "end_time": "2025-06-06T23:26:46.721895",
     "exception": false,
     "start_time": "2025-06-06T23:26:46.640534",
     "status": "completed"
    },
    "tags": []
   },
   "outputs": [],
   "source": []
  },
  {
   "cell_type": "code",
   "execution_count": null,
   "id": "4411b362",
   "metadata": {
    "papermill": {
     "duration": 0.078705,
     "end_time": "2025-06-06T23:26:46.879854",
     "exception": false,
     "start_time": "2025-06-06T23:26:46.801149",
     "status": "completed"
    },
    "tags": []
   },
   "outputs": [],
   "source": []
  },
  {
   "cell_type": "code",
   "execution_count": null,
   "id": "5d6d7e82",
   "metadata": {
    "papermill": {
     "duration": 0.080201,
     "end_time": "2025-06-06T23:26:47.041732",
     "exception": false,
     "start_time": "2025-06-06T23:26:46.961531",
     "status": "completed"
    },
    "tags": []
   },
   "outputs": [],
   "source": []
  },
  {
   "cell_type": "code",
   "execution_count": null,
   "id": "13fac55a",
   "metadata": {
    "papermill": {
     "duration": 0.079605,
     "end_time": "2025-06-06T23:26:47.203409",
     "exception": false,
     "start_time": "2025-06-06T23:26:47.123804",
     "status": "completed"
    },
    "tags": []
   },
   "outputs": [],
   "source": []
  },
  {
   "cell_type": "code",
   "execution_count": null,
   "id": "9a63a211",
   "metadata": {
    "papermill": {
     "duration": 0.078357,
     "end_time": "2025-06-06T23:26:47.363290",
     "exception": false,
     "start_time": "2025-06-06T23:26:47.284933",
     "status": "completed"
    },
    "tags": []
   },
   "outputs": [],
   "source": []
  },
  {
   "cell_type": "code",
   "execution_count": null,
   "id": "689c5374",
   "metadata": {
    "papermill": {
     "duration": 0.08053,
     "end_time": "2025-06-06T23:26:47.523425",
     "exception": false,
     "start_time": "2025-06-06T23:26:47.442895",
     "status": "completed"
    },
    "tags": []
   },
   "outputs": [],
   "source": []
  }
 ],
 "metadata": {
  "kaggle": {
   "accelerator": "gpu",
   "dataSources": [
    {
     "datasetId": 1115384,
     "sourceId": 1873742,
     "sourceType": "datasetVersion"
    },
    {
     "modelId": 241,
     "modelInstanceId": 1585,
     "sourceId": 1950,
     "sourceType": "modelInstanceVersion"
    }
   ],
   "dockerImageVersionId": 30648,
   "isGpuEnabled": true,
   "isInternetEnabled": true,
   "language": "python",
   "sourceType": "notebook"
  },
  "kernelspec": {
   "display_name": "Python 3",
   "language": "python",
   "name": "python3"
  },
  "language_info": {
   "codemirror_mode": {
    "name": "ipython",
    "version": 3
   },
   "file_extension": ".py",
   "mimetype": "text/x-python",
   "name": "python",
   "nbconvert_exporter": "python",
   "pygments_lexer": "ipython3",
   "version": "3.10.13"
  },
  "papermill": {
   "default_parameters": {},
   "duration": 7364.471733,
   "end_time": "2025-06-06T23:26:50.248273",
   "environment_variables": {},
   "exception": null,
   "input_path": "__notebook__.ipynb",
   "output_path": "__notebook__.ipynb",
   "parameters": {},
   "start_time": "2025-06-06T21:24:05.776540",
   "version": "2.5.0"
  }
 },
 "nbformat": 4,
 "nbformat_minor": 5
}
