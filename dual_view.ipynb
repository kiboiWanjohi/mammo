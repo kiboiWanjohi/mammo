{
 "cells": [
  {
   "cell_type": "markdown",
   "metadata": {
    "colab_type": "text",
    "id": "view-in-github"
   },
   "source": [
    "<a href=\"https://colab.research.google.com/github/kiboiWanjohi/mammo/blob/main/dual_view.ipynb\" target=\"_parent\"><img src=\"https://colab.research.google.com/assets/colab-badge.svg\" alt=\"Open In Colab\"/></a>"
   ]
  },
  {
   "cell_type": "code",
   "execution_count": 2,
   "metadata": {
    "id": "3p6J8F2Jjctr"
   },
   "outputs": [],
   "source": [
    "# dual-view function\n",
    "def corr(x, y, epsilon=0.0001):\n",
    "    n, c, _ = x.size()\n",
    "\n",
    "    x_ = x.view(n, c, -1)    \n",
    "    y_ = y.view(n, c, -1)\n",
    "\n",
    "    x1 = x_ - x_.mean(-1, keepdim=True)\n",
    "    y1 = y_ - y_.mean(-1, keepdim=True)\n",
    "\n",
    "    x2 = x1/(torch.norm(x1, dim=-1, keepdim=True) + epsilon)\n",
    "    y2 = y1/(torch.norm(y1, dim=-1, keepdim=True) + epsilon)\n",
    "\n",
    "    return 10 * torch.mean(x2 * y2)\n"
   ]
  },
  {
   "cell_type": "code",
   "execution_count": null,
   "metadata": {
    "id": "VqsjW38MjnN7"
   },
   "outputs": [],
   "source": []
  },
  {
   "cell_type": "code",
   "execution_count": null,
   "metadata": {
    "id": "GABIqPD6jqMK"
   },
   "outputs": [],
   "source": []
  }
 ],
 "metadata": {
  "colab": {
   "authorship_tag": "ABX9TyMt0lOsDux+InMuPcQo5t1s",
   "include_colab_link": true,
   "provenance": []
  },
  "kernelspec": {
   "display_name": "Python 3 (ipykernel)",
   "language": "python",
   "name": "python3"
  },
  "language_info": {
   "codemirror_mode": {
    "name": "ipython",
    "version": 3
   },
   "file_extension": ".py",
   "mimetype": "text/x-python",
   "name": "python",
   "nbconvert_exporter": "python",
   "pygments_lexer": "ipython3",
   "version": "3.12.3"
  }
 },
 "nbformat": 4,
 "nbformat_minor": 4
}
